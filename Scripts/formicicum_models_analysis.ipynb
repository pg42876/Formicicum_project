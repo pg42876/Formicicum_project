{
 "cells": [
  {
   "cell_type": "code",
   "execution_count": 1,
   "outputs": [
    {
     "data": {
      "text/plain": "\"\\nimport sys, importlib\\nimportlib.reload(sys.modules['Scripts.utils'])\\nfrom Scripts.utils import ReconstructionTool, get_kegg_reactions, get_genes, get_kegg_metabolites\\n\""
     },
     "execution_count": 1,
     "metadata": {},
     "output_type": "execute_result"
    }
   ],
   "source": [
    "from Scripts.core import read_sbml_into_cobra_model\n",
    "from Scripts.utils import ReconstructionTool, get_reactions, get_genes, get_metabolites, calculate_quality_metrics\n",
    "import pandas as pd\n",
    "import openpyxl\n",
    "\n",
    "'''\n",
    "import sys, importlib\n",
    "importlib.reload(sys.modules['Scripts.utils'])\n",
    "from Scripts.utils import ReconstructionTool, get_kegg_reactions, get_genes, get_kegg_metabolites\n",
    "'''"
   ],
   "metadata": {
    "collapsed": false,
    "pycharm": {
     "name": "#%%\n"
    }
   }
  },
  {
   "cell_type": "code",
   "execution_count": 3,
   "outputs": [
    {
     "name": "stderr",
     "output_type": "stream",
     "text": [
      "1204725 does not conform to 'http(s)://identifiers.org/collection/id' or'http(s)://identifiers.org/COLLECTION:id\n",
      "1204725 does not conform to 'http(s)://identifiers.org/collection/id' or'http(s)://identifiers.org/COLLECTION:id\n",
      "No objective in listOfObjectives\n",
      "No objective coefficients in model. Unclear what should be optimized\n",
      "1204725 does not conform to 'http(s)://identifiers.org/collection/id' or'http(s)://identifiers.org/COLLECTION:id\n",
      "No objective in listOfObjectives\n",
      "No objective coefficients in model. Unclear what should be optimized\n"
     ]
    }
   ],
   "source": [
    "merlin_blast_model = read_sbml_into_cobra_model(\n",
    "    file_path = \"../Models/Merlin-BA/merlin_model.xml\",\n",
    "    database_version = \"kegg\",\n",
    "    reconstruction_tool = ReconstructionTool.MERLIN.value)\n",
    "\n",
    "carveme_model = read_sbml_into_cobra_model(\n",
    "    file_path = \"../Models/CarveMe/model_carveme.xml\",\n",
    "    database_version = \"bigg\",\n",
    "    reconstruction_tool = ReconstructionTool.CARVEME.value)\n",
    "\n",
    "kbase_model = read_sbml_into_cobra_model(\n",
    "    file_path = \"../Models/KBase/kbase_model.xml\",\n",
    "    database_version = \"modelseed\",\n",
    "    reconstruction_tool = ReconstructionTool.MODELSEED.value)\n",
    "\n",
    "merlin_bit_model = read_sbml_into_cobra_model(\n",
    "    file_path = \"../Models/Merlin-BIT/BIT_model.xml\",\n",
    "    database_version = \"bigg\",\n",
    "    reconstruction_tool = ReconstructionTool.MERLIN.value)\n",
    "\n",
    "aureme_model = read_sbml_into_cobra_model(\n",
    "    file_path = \"../Models/AuReMe/aureme_model3.xml\",\n",
    "    database_version = \"bigg\",\n",
    "    reconstruction_tool = ReconstructionTool.AUREME.value)"
   ],
   "metadata": {
    "collapsed": false,
    "pycharm": {
     "name": "#%%\n"
    }
   }
  },
  {
   "cell_type": "code",
   "execution_count": 4,
   "outputs": [
    {
     "name": "stdout",
     "output_type": "stream",
     "text": [
      "merlin_blast\n",
      "Found 722 reactions.\n",
      "Found 382 reactions.\n",
      "aureme\n",
      "Found 400 reactions.\n",
      "Found 645 reactions.\n",
      "carveme\n",
      "Found 2679 reactions.\n",
      "Found 1583 reactions.\n",
      "kbase\n",
      "Found 491 reactions.\n",
      "Found 538 reactions.\n",
      "merlin_bit\n",
      "Found 5159 reactions.\n",
      "Found 4226 reactions.\n"
     ]
    }
   ],
   "source": [
    "from Scripts.utils import get_reactions, get_metabolites, get_cross_reference_reactions, get_cross_reference_metabolites\n",
    "\n",
    "models = {\n",
    "    \"merlin_blast\": merlin_blast_model.model,\n",
    "    \"aureme\": aureme_model.model,\n",
    "    \"carveme\": carveme_model.model,\n",
    "    \"kbase\": kbase_model.model,\n",
    "    \"merlin_bit\": merlin_bit_model.model\n",
    "}\n",
    "func_ids = []\n",
    "metanetx_ids = []\n",
    "kegg_ids = []\n",
    "reactions_conversion_df = pd.read_csv('Xrefs files/reactions-conversion.csv')\n",
    "metabolites_conversion_df = pd.read_csv('Xrefs files/compounds-conversion.csv')\n",
    "\n",
    "for name, xml in models.items():\n",
    "    print(name)\n",
    "    func_ids.append({\n",
    "        'tool': name,\n",
    "        'genes': ','.join(get_genes(xml, tool=name)),\n",
    "        'reactions': ','.join(get_reactions(xml, tool=name)),\n",
    "        'metabolites': ','.join(get_metabolites(xml, tool=name))\n",
    "    })\n",
    "    cross_reference_reactions = get_cross_reference_reactions(xml, reactions_conversion_df, tool=name)\n",
    "    cross_reference_metabolites = get_cross_reference_metabolites(xml, metabolites_conversion_df, tool=name)\n",
    "    metanetx_ids.append({\n",
    "        'tool': name,\n",
    "        'genes': ','.join(get_genes(xml, tool=name)),\n",
    "        'reactions': ','.join(cross_reference_reactions[0]),\n",
    "        'metabolites': ','.join(cross_reference_metabolites[0])\n",
    "    })\n",
    "    kegg_ids.append({\n",
    "        'tool': name,\n",
    "        'genes': ','.join(get_genes(xml, tool=name)),\n",
    "        'reactions': ','.join(cross_reference_reactions[1]),\n",
    "        'metabolites': ','.join(cross_reference_metabolites[1])\n",
    "    })\n",
    "pd.DataFrame(func_ids).to_csv('../Results/functional_ids.tsv', sep='\\t', index=False)\n",
    "pd.DataFrame(metanetx_ids).to_csv('../Results/metanetx_functional_ids.tsv', sep='\\t', index=False)\n",
    "pd.DataFrame(kegg_ids).to_csv('../Results/kegg_functional_ids.tsv', sep='\\t', index=False)"
   ],
   "metadata": {
    "collapsed": false,
    "pycharm": {
     "name": "#%%\n"
    }
   }
  },
  {
   "cell_type": "code",
   "execution_count": 5,
   "outputs": [],
   "source": [
    "formicicum = pd.read_csv('../Results/formicicum_uniprotinfo.tsv', sep='\\t')\n",
    "formicicum_genes = formicicum['Entry'].tolist()\n",
    "metrics = []\n",
    "for tool in ['merlin_blast', 'merlin_bit', 'carveme', 'kbase']:\n",
    "    tool_uniprotinfo = pd.read_csv(f'../Results/{tool}_uniprotinfo.tsv', sep='\\t')\n",
    "    tool_genes = tool_uniprotinfo['Entry'].tolist()\n",
    "    TPs = len([ide for ide in tool_genes if ide in formicicum_genes])\n",
    "    FPs = len([ide for ide in tool_genes if ide not in formicicum_genes])\n",
    "    FNs = len([ide for ide in formicicum_genes if ide not in tool_genes])\n",
    "    metrics.append([tool, TPs, FPs, FNs] + list(calculate_quality_metrics(TPs, FPs, FNs)))\n",
    "pd.DataFrame(metrics, columns=['tool', 'TPs', 'FPs', 'FNs', 'Precision', 'Recall', 'F1 score', 'Jaccard distance']).to_excel('../Results/quality_metrics.xlsx', index=False)\n"
   ],
   "metadata": {
    "collapsed": false,
    "pycharm": {
     "name": "#%%\n"
    }
   }
  },
  {
   "cell_type": "code",
   "execution_count": 6,
   "outputs": [
    {
     "name": "stdout",
     "output_type": "stream",
     "text": [
      "['rxn00647', 'rxn34664', 'rxn34671', 'rxn00029', 'rxn00048', 'rxn00060', 'rxn00062', 'rxn00065', 'rxn00069', 'rxn00076', 'rxn00077', 'rxn00096', 'rxn00097', 'rxn00102', 'rxn00105', 'rxn00107', 'rxn00109', 'rxn00117', 'rxn00119', 'rxn00122', 'rxn00126', 'rxn00132', 'rxn00138', 'rxn00139', 'rxn00141', 'rxn00147', 'rxn00154', 'rxn00159', 'rxn00172', 'rxn00175', 'rxn00176', 'rxn00178', 'rxn00184', 'rxn00187', 'rxn00189', 'rxn00192', 'rxn00194', 'rxn00200', 'rxn00202', 'rxn00213', 'rxn00214', 'rxn00226', 'rxn00237', 'rxn00238', 'rxn00248', 'rxn00250', 'rxn00254', 'rxn00260', 'rxn00278', 'rxn00285', 'rxn00295', 'rxn00297', 'rxn00298', 'rxn00307', 'rxn00313', 'rxn00337', 'rxn00346', 'rxn00363', 'rxn00364', 'rxn00365', 'rxn00391', 'rxn00405', 'rxn00409', 'rxn00414', 'rxn00416', 'rxn00420', 'rxn00423', 'rxn00436', 'rxn00438', 'rxn00453', 'rxn00459', 'rxn00474', 'rxn00489', 'rxn00490', 'rxn00493', 'rxn00513', 'rxn00514', 'rxn00515', 'rxn00527', 'rxn00529', 'rxn00549', 'rxn00555', 'rxn00566', 'rxn00642', 'rxn00649', 'rxn00669', 'rxn00675', 'rxn00692', 'rxn00704', 'rxn00704', 'rxn00708', 'rxn00710', 'rxn00711', 'rxn00717', 'rxn00729', 'rxn00735', 'rxn00747', 'rxn00770', 'rxn00772', 'rxn00777', 'rxn00778', 'rxn00784', 'rxn00786', 'rxn00789', 'rxn00790', 'rxn00791', 'rxn00792', 'rxn00799', 'rxn00800', 'rxn00802', 'rxn00806', 'rxn00830', 'rxn00831', 'rxn00832', 'rxn00834', 'rxn00835', 'rxn00838', 'rxn00839', 'rxn00858', 'rxn00859', 'rxn00863', 'rxn00874', 'rxn00881', 'rxn00882', 'rxn00883', 'rxn00902', 'rxn00903', 'rxn00908', 'rxn00913', 'rxn00914', 'rxn00921', 'rxn00926', 'rxn00947', 'rxn00980', 'rxn00986', 'rxn01000', 'rxn01018', 'rxn01019', 'rxn01022', 'rxn01025', 'rxn01053', 'rxn01069', 'rxn01100', 'rxn01101', 'rxn01106', 'rxn01127', 'rxn01139', 'rxn01145', 'rxn01153', 'rxn01160', 'rxn01184', 'rxn01208', 'rxn01213', 'rxn01218', 'rxn01219', 'rxn01231', 'rxn01255', 'rxn01256', 'rxn01265', 'rxn01268', 'rxn01274', 'rxn01303', 'rxn01304', 'rxn01329', 'rxn01353', 'rxn01361', 'rxn01362', 'rxn01367', 'rxn01418', 'rxn01419', 'rxn01420', 'rxn01423', 'rxn01434', 'rxn01437', 'rxn01445', 'rxn01454', 'rxn01465', 'rxn01466', 'rxn01485', 'rxn01486', 'rxn01501', 'rxn01507', 'rxn01512', 'rxn01513', 'rxn01517', 'rxn01519', 'rxn01520', 'rxn01521', 'rxn01549', 'rxn01575', 'rxn01607', 'rxn01620', 'rxn01629', 'rxn01636', 'rxn01637', 'rxn01643', 'rxn01653', 'rxn01670', 'rxn01672', 'rxn01673', 'rxn01675', 'rxn01678', 'rxn01682', 'rxn01704', 'rxn01731', 'rxn01734', 'rxn01735', 'rxn01739', 'rxn01740', 'rxn01757', 'rxn01784', 'rxn01834', 'rxn01842', 'rxn01870', 'rxn01906', 'rxn01917', 'rxn01961', 'rxn01962', 'rxn01964', 'rxn01974', 'rxn01987', 'rxn01997', 'rxn02000', 'rxn02003', 'rxn02008', 'rxn02011', 'rxn02015', 'rxn02090', 'rxn02118', 'rxn02144', 'rxn02154', 'rxn02155', 'rxn02159', 'rxn02175', 'rxn02213', 'rxn02264', 'rxn02286', 'rxn02287', 'rxn02305', 'rxn02320', 'rxn02341', 'rxn02377', 'rxn02400', 'rxn02402', 'rxn02431', 'rxn02465', 'rxn02466', 'rxn02473', 'rxn02476', 'rxn02480', 'rxn02483', 'rxn02484', 'rxn02485', 'rxn02503', 'rxn02504', 'rxn02507', 'rxn02508', 'rxn02517', 'rxn02518', 'rxn02749', 'rxn02751', 'rxn02774', 'rxn02775', 'rxn02788', 'rxn02789', 'rxn02811', 'rxn02834', 'rxn02835', 'rxn02895', 'rxn02937', 'rxn02986', 'rxn02988', 'rxn03034', 'rxn03039', 'rxn03052', 'rxn03057', 'rxn03062', 'rxn03068', 'rxn03079', 'rxn03080', 'rxn03084', 'rxn03085', 'rxn03087', 'rxn03108', 'rxn03114', 'rxn03127', 'rxn03135', 'rxn03136', 'rxn03147', 'rxn03175', 'rxn03324', 'rxn03362', 'rxn03379', 'rxn03407', 'rxn03408', 'rxn03435', 'rxn03436', 'rxn03437', 'rxn03446', 'rxn03492', 'rxn03512', 'rxn03513', 'rxn03514', 'rxn03537', 'rxn03538', 'rxn03540', 'rxn03542', 'rxn03643', 'rxn03644', 'rxn03690', 'rxn03901', 'rxn03903', 'rxn03904', 'rxn03933', 'rxn04026', 'rxn04036', 'rxn04045', 'rxn04048', 'rxn04050', 'rxn04052', 'rxn04068', 'rxn04256', 'rxn04384', 'rxn04551', 'rxn04784', 'rxn04786', 'rxn04787', 'rxn04788', 'rxn04934', 'rxn05035', 'rxn05040', 'rxn05054', 'rxn05058', 'rxn05072', 'rxn05109', 'rxn05115', 'rxn05830', 'rxn05916', 'rxn06090', 'rxn06186', 'rxn06280', 'rxn06294', 'rxn06299', 'rxn06300', 'rxn06421', 'rxn06432', 'rxn06433', 'rxn06435', 'rxn06438', 'rxn06439', 'rxn06440', 'rxn06441', 'rxn06442', 'rxn06443', 'rxn06444', 'rxn06445', 'rxn06446', 'rxn06447', 'rxn06448', 'rxn06449', 'rxn06493', 'rxn06530', 'rxn06552', 'rxn06591', 'rxn06781', 'rxn06864', 'rxn06874', 'rxn06887', 'rxn06926', 'rxn06936', 'rxn06937', 'rxn06979', 'rxn07189', 'rxn07292', 'rxn07293', 'rxn07307', 'rxn07441', 'rxn07586', 'rxn07587', 'rxn07588', 'rxn07589', 'rxn07824', 'rxn07847', 'rxn07849', 'rxn08043', 'rxn08094', 'rxn08981', 'rxn09177', 'rxn09244', 'rxn10468', 'rxn10469', 'rxn10476', 'rxn10504', 'rxn10534', 'rxn10595', 'rxn10596', 'rxn11156', 'rxn11245', 'rxn11300', 'rxn11571', 'rxn11595', 'rxn11642', 'rxn11665', 'rxn11666', 'rxn11667', 'rxn11745', 'rxn11746', 'rxn11747', 'rxn11858', 'rxn11859', 'rxn11962', 'rxn11994', 'rxn11998', 'rxn12193', 'rxn12204', 'rxn13134', 'rxn13962', 'rxn13974', 'rxn13975', 'rxn13995', 'rxn14039', 'rxn14048', 'rxn14059', 'rxn14109', 'rxn14118', 'rxn14152', 'rxn14156', 'rxn14178', 'rxn14248', 'rxn14270', 'rxn14278', 'rxn14309', 'rxn14316', 'rxn14345', 'rxn14388', 'rxn15021', 'rxn15064', 'rxn15090', 'rxn15091', 'rxn15108', 'rxn15114', 'rxn15115', 'rxn15116', 'rxn15166', 'rxn15466', 'rxn15467', 'rxn15494', 'rxn15507', 'rxn15511', 'rxn15668', 'rxn15669', 'rxn15694', 'rxn15748', 'rxn15749', 'rxn15773', 'rxn15773', 'rxn15964', 'rxn16206', 'rxn16213', 'rxn16215', 'rxn16217', 'rxn16218', 'rxn16231', 'rxn16232', 'rxn16234', 'rxn16235', 'rxn16236', 'rxn16237', 'rxn16331', 'rxn16442', 'rxn16503', 'rxn16566', 'rxn16574', 'rxn16578', 'rxn16583', 'rxn16622', 'rxn16681', 'rxn16806', 'rxn16824', 'rxn16887', 'rxn16888', 'rxn16889', 'rxn17384', 'rxn17713', 'rxn17745', 'rxn17748', 'rxn17751', 'rxn17752', 'rxn17763', 'rxn17765', 'rxn17766', 'rxn17767', 'rxn18917', 'rxn18967', 'rxn18970', 'rxn18972', 'rxn18973', 'rxn18974', 'rxn18975', 'rxn19030', 'rxn19031', 'rxn19041', 'rxn19042', 'rxn19180', 'rxn19213', 'rxn19240', 'rxn19241', 'rxn19242', 'rxn19253', 'rxn19276', 'rxn19309', 'rxn19321', 'rxn19322', 'rxn19347', 'rxn19384', 'rxn19449', 'rxn19465', 'rxn19545', 'rxn19641', 'rxn19642', 'rxn19643', 'rxn19645', 'rxn19683', 'rxn19684', 'rxn19685', 'rxn19689', 'rxn19690', 'rxn19691', 'rxn19730', 'rxn19740', 'rxn19763', 'rxn19769', 'rxn19830', 'rxn19831', 'rxn19835', 'rxn19836', 'rxn19870', 'rxn19871', 'rxn19872', 'rxn19878', 'rxn19892', 'rxn19893', 'rxn19896', 'rxn19898', 'rxn19924', 'rxn19930', 'rxn19933', 'rxn19935', 'rxn19936', 'rxn19968', 'rxn19980', 'rxn20013', 'rxn20068', 'rxn20204', 'rxn20219', 'rxn20269', 'rxn20461', 'rxn20490', 'rxn20493', 'rxn20523', 'rxn20544', 'rxn20546', 'rxn20583', 'rxn20608', 'rxn20643', 'rxn20644', 'rxn20656', 'rxn20661', 'rxn20663', 'rxn20800', 'rxn20818', 'rxn20834', 'rxn20839', 'rxn21134', 'rxn21635', 'rxn23042', 'rxn23361', 'rxn23652', 'rxn24118', 'rxn24142', 'rxn24177', 'rxn24414', 'rxn24829', 'rxn25046', 'rxn25970', 'rxn25971', 'rxn26013', 'rxn26100', 'rxn26146', 'rxn27108', 'rxn27109', 'rxn27110', 'rxn27386', 'rxn27419', 'rxn27420', 'rxn27433', 'rxn27458', 'rxn27459', 'rxn27497', 'rxn27524', 'rxn27542', 'rxn27543', 'rxn27547', 'rxn27548', 'rxn27586', 'rxn27587', 'rxn27588', 'rxn27616', 'rxn27657', 'rxn27658', 'rxn27659', 'rxn27660', 'rxn27664', 'rxn27667', 'rxn27669', 'rxn27671', 'rxn27683', 'rxn27684', 'rxn27685', 'rxn27686', 'rxn27691', 'rxn27693', 'rxn27708', 'rxn27716', 'rxn27717', 'rxn27719', 'rxn27720', 'rxn27723', 'rxn27724', 'rxn27725', 'rxn27737', 'rxn27738', 'rxn27739', 'rxn27740', 'rxn27741', 'rxn27743', 'rxn27747', 'rxn27748', 'rxn27766', 'rxn27777', 'rxn27778', 'rxn27780', 'rxn27781', 'rxn27786', 'rxn27787', 'rxn27788', 'rxn27789', 'rxn27794', 'rxn27818', 'rxn27839', 'rxn27840', 'rxn27841', 'rxn27842', 'rxn27843', 'rxn27844', 'rxn27851', 'rxn27855', 'rxn27873', 'rxn27874', 'rxn27887', 'rxn27888', 'rxn27914', 'rxn27916', 'rxn27920', 'rxn27921', 'rxn27926', 'rxn27936', 'rxn27944', 'rxn27945', 'rxn27976', 'rxn28001', 'rxn28002', 'rxn28003', 'rxn28042', 'rxn28044', 'rxn28046', 'rxn28051', 'rxn28053', 'rxn28054', 'rxn28059', 'rxn28060', 'rxn28081', 'rxn28082', 'rxn28085', 'rxn28086', 'rxn28100', 'rxn28101', 'rxn28109', 'rxn28116', 'rxn28141', 'rxn28168', 'rxn28169', 'rxn28201', 'rxn28202', 'rxn28376', 'rxn28381', 'rxn28406', 'rxn28615', 'rxn28979', 'rxn28980', 'rxn28991', 'rxn29006', 'rxn29012', 'rxn29013', 'rxn29936', 'rxn29942', 'rxn29951', 'rxn29952', 'rxn29953', 'rxn29955', 'rxn29956', 'rxn29962', 'rxn29975', 'rxn29979', 'rxn29986', 'rxn29997', 'rxn30000', 'rxn30001', 'rxn30006', 'rxn30022', 'rxn30023', 'rxn30024', 'rxn30025', 'rxn30032', 'rxn30039', 'rxn30045', 'rxn30072', 'rxn30087', 'rxn30089', 'rxn30107', 'rxn30145', 'rxn30151', 'rxn30152', 'rxn30153', 'rxn30154', 'rxn30161', 'rxn30163', 'rxn30164', 'rxn30165', 'rxn30166', 'rxn30167', 'rxn30168', 'rxn30169', 'rxn30190', 'rxn30193', 'rxn30194', 'rxn30207', 'rxn30210', 'rxn30213', 'rxn30217', 'rxn30218', 'rxn30256', 'rxn30302', 'rxn30313', 'rxn30332', 'rxn30333', 'rxn30334', 'rxn30337', 'rxn30338', 'rxn30339', 'rxn30352', 'rxn30355', 'rxn30363', 'rxn30367', 'rxn30368', 'rxn30377', 'rxn30386', 'rxn30387', 'rxn30388', 'rxn30389', 'rxn30391', 'rxn30392', 'rxn30393', 'rxn30394', 'rxn30395', 'rxn30396', 'rxn30401', 'rxn30402', 'rxn30410', 'rxn30412', 'rxn30417', 'rxn30418', 'rxn30443', 'rxn30444', 'rxn30445', 'rxn30446', 'rxn30447', 'rxn30448', 'rxn30500', 'rxn30576', 'rxn30580', 'rxn30600', 'rxn30601', 'rxn30611', 'rxn30627', 'rxn30634', 'rxn30658', 'rxn30661', 'rxn30665', 'rxn30667', 'rxn30677', 'rxn30679', 'rxn30680', 'rxn30686', 'rxn30689', 'rxn30697', 'rxn30708', 'rxn30710', 'rxn30743', 'rxn30860', 'rxn30897', 'rxn30907', 'rxn30908', 'rxn30979', 'rxn30983', 'rxn31059', 'rxn31088', 'rxn31096', 'rxn31104', 'rxn31106', 'rxn31208', 'rxn31209', 'rxn31210', 'rxn31212', 'rxn31216', 'rxn31218', 'rxn31329', 'rxn31335', 'rxn31389', 'rxn31401', 'rxn31757', 'rxn31758', 'rxn31760', 'rxn31783', 'rxn31790', 'rxn31801', 'rxn31803', 'rxn31815', 'rxn31816', 'rxn31847', 'rxn31851', 'rxn31885', 'rxn31929', 'rxn31932', 'rxn31944', 'rxn31945', 'rxn31946', 'rxn31965', 'rxn31971', 'rxn31973', 'rxn31980', 'rxn31981', 'rxn31982', 'rxn31994', 'rxn31998', 'rxn32021', 'rxn32091', 'rxn32095', 'rxn32112', 'rxn32116', 'rxn32118', 'rxn32128', 'rxn32143', 'rxn32148', 'rxn32174', 'rxn32196', 'rxn32213', 'rxn32216', 'rxn32227', 'rxn32228', 'rxn32238', 'rxn32248', 'rxn32252', 'rxn32253', 'rxn32256', 'rxn32257', 'rxn32259', 'rxn32308', 'rxn32325', 'rxn32343', 'rxn32345', 'rxn32367', 'rxn32369', 'rxn32371', 'rxn32378', 'rxn32411', 'rxn32413', 'rxn32446', 'rxn32450', 'rxn32460', 'rxn32470', 'rxn32473', 'rxn32477', 'rxn32478', 'rxn32481', 'rxn32500', 'rxn32550', 'rxn32556', 'rxn32567', 'rxn32581', 'rxn32591', 'rxn32607', 'rxn32620', 'rxn32622', 'rxn32630', 'rxn32633', 'rxn32643', 'rxn32752', 'rxn32754', 'rxn32760', 'rxn32794', 'rxn32797', 'rxn32798', 'rxn32814', 'rxn32821', 'rxn32851', 'rxn32898', 'rxn32981', 'rxn32982', 'rxn33015', 'rxn33024', 'rxn33029', 'rxn33035', 'rxn33078', 'rxn33079', 'rxn33129', 'rxn33166', 'rxn33180', 'rxn33182', 'rxn33266', 'rxn33281', 'rxn33284', 'rxn33290', 'rxn33295', 'rxn33299', 'rxn33340', 'rxn33346', 'rxn33352', 'rxn33372', 'rxn33374', 'rxn33376', 'rxn33380', 'rxn33383', 'rxn33387', 'rxn33394', 'rxn33400', 'rxn33438', 'rxn33442', 'rxn33451', 'rxn33452', 'rxn33453', 'rxn33469', 'rxn33471', 'rxn33474', 'rxn33484', 'rxn33498', 'rxn33514', 'rxn33550', 'rxn33570', 'rxn33571', 'rxn33573', 'rxn33610', 'rxn33618', 'rxn33672', 'rxn33706', 'rxn33709', 'rxn33710', 'rxn33714', 'rxn33715', 'rxn33725', 'rxn33740', 'rxn33762', 'rxn33766', 'rxn33856', 'rxn33857', 'rxn33858', 'rxn33867', 'rxn33867', 'rxn33931', 'rxn33943', 'rxn33977', 'rxn33981', 'rxn33994', 'rxn33995', 'rxn34212', 'rxn34245', 'rxn34260', 'rxn34262', 'rxn34267', 'rxn34306', 'rxn34556', 'rxn34670', 'rxn34674', 'rxn34786', 'rxn34787', 'rxn34791', 'rxn34792', 'rxn34794', 'rxn35213', 'rxn35218', 'rxn35234', 'rxn35241', 'rxn35247', 'rxn35282', 'rxn35284', 'rxn35310', 'rxn35311', 'rxn35351', 'rxn35356', 'rxn35371', 'rxn35409', 'rxn35413', 'rxn35418', 'rxn35424', 'rxn35428', 'rxn35429', 'rxn35431', 'rxn35443', 'rxn35448', 'rxn35449', 'rxn35453', 'rxn35492', 'rxn35527', 'rxn35528', 'rxn35529', 'rxn35530', 'rxn35531', 'rxn35534', 'rxn35571', 'rxn35572', 'rxn35698', 'rxn36857', 'rxn37332', 'rxn37337', 'rxn37546', 'rxn37640', 'rxn37661', 'rxn37718', 'rxn37863', 'rxn37869', 'rxn37870', 'rxn37871', 'rxn37872', 'rxn37937', 'rxn37952', 'rxn37953', 'rxn37956', 'rxn37980', 'rxn38021', 'rxn38022', 'rxn38023', 'rxn38024', 'rxn38046', 'rxn38053', 'rxn38054', 'rxn38055', 'rxn38060', 'rxn38091', 'rxn38092', 'rxn38097', 'rxn38099', 'rxn38104', 'rxn38114', 'rxn38117', 'rxn38121', 'rxn38130', 'rxn38131', 'rxn38132', 'rxn38135', 'rxn38136', 'rxn38148', 'rxn38173', 'rxn38174', 'rxn38181', 'rxn38233', 'rxn38243', 'rxn38244', 'rxn38254', 'rxn38256', 'rxn38257', 'rxn38258', 'rxn38273', 'rxn38274', 'rxn38284', 'rxn38459', 'rxn38689', 'rxn38696', 'rxn38708', 'rxn38709', 'rxn38710', 'rxn38718', 'rxn38827', 'rxn38829', 'rxn39345', 'rxn39448', 'rxn39510', 'rxn39512', 'rxn39513', 'rxn39706', 'rxn39858', 'rxn39859', 'rxn39860', 'rxn39886', 'rxn39887', 'rxn39909', 'rxn39910', 'rxn39964', 'rxn40004', 'rxn40037', 'rxn40099', 'rxn40163', 'rxn40204', 'rxn40205', 'rxn40254', 'rxn40405', 'rxn40487', 'MNXR146213', 'MNXR100024', 'MNXR100030', 'MNXR100086', 'MNXR100116', 'MNXR100289', 'MNXR100353', 'MNXR100355', 'MNXR100482', 'MNXR100552', 'MNXR100587', 'MNXR100637', 'MNXR100658', 'MNXR100796', 'MNXR100813', 'MNXR100826', 'MNXR100827', 'MNXR100878', 'MNXR100904', 'MNXR101018', 'MNXR101032', 'MNXR101425', 'MNXR101439', 'MNXR101446', 'MNXR101730', 'MNXR101882', 'MNXR101937', 'MNXR101938', 'MNXR101939', 'MNXR101940', 'MNXR102028', 'MNXR102033', 'MNXR102035', 'MNXR102036', 'MNXR102137', 'MNXR102180', 'MNXR102221', 'MNXR102234', 'MNXR102247', 'MNXR102391', 'MNXR102527', 'MNXR102543', 'MNXR102547', 'MNXR103045', 'MNXR103095', 'MNXR103098', 'MNXR103140', 'MNXR103156', 'MNXR103169', 'MNXR103226', 'MNXR103400', 'MNXR103594', 'MNXR104018', 'MNXR104019', 'MNXR104301', 'MNXR104316', 'MNXR104378', 'MNXR104379', 'MNXR104480', 'MNXR104756', 'MNXR104846', 'MNXR104907', 'MNXR104990', 'MNXR105000', 'MNXR105139', 'MNXR105160', 'MNXR105306', 'MNXR105316', 'MNXR106405', 'MNXR106436', 'MNXR106485', 'MNXR106779', 'MNXR106860', 'MNXR106877', 'MNXR107063', 'MNXR107070', 'MNXR107239', 'MNXR107488', 'MNXR107606', 'MNXR107828', 'MNXR107848', 'MNXR107888', 'MNXR108138', 'MNXR108189', 'MNXR108194', 'MNXR108282', 'MNXR108448', 'MNXR108527', 'MNXR108585', 'MNXR108734', 'MNXR108944', 'MNXR108956', 'MNXR109271', 'MNXR109352', 'MNXR109381', 'MNXR109402', 'MNXR109495', 'MNXR109496', 'MNXR109496', 'MNXR109633', 'MNXR109723', 'MNXR109724', 'MNXR109725', 'MNXR109837', 'MNXR109851', 'MNXR109852', 'MNXR109853', 'MNXR109854', 'MNXR110100', 'MNXR110695', 'MNXR110696', 'MNXR110837', 'MNXR110859', 'MNXR110978', 'MNXR111094', 'MNXR111095', 'MNXR111106', 'MNXR111220', 'MNXR111616', 'MNXR111641', 'MNXR111781', 'MNXR111783', 'MNXR111882', 'MNXR111883', 'MNXR112099', 'MNXR112100', 'MNXR112101', 'MNXR112102', 'MNXR112109', 'MNXR112140', 'MNXR112144', 'MNXR112148', 'MNXR112154', 'MNXR112160', 'MNXR112164', 'MNXR112455', 'MNXR112540', 'MNXR112794', 'MNXR112800', 'MNXR112802', 'MNXR112803', 'MNXR112806', 'MNXR112807', 'MNXR112822', 'MNXR113015', 'MNXR113074', 'MNXR113436', 'MNXR113468', 'MNXR113475', 'MNXR113514', 'MNXR113536', 'MNXR113601', 'MNXR113613', 'MNXR113687', 'MNXR113695', 'MNXR113703', 'MNXR113736', 'MNXR113737', 'MNXR113746', 'MNXR113799', 'MNXR113981', 'MNXR114031', 'MNXR114073', 'MNXR114118', 'MNXR114214', 'MNXR114244', 'MNXR114342', 'MNXR114402', 'MNXR114523', 'MNXR114617', 'MNXR114669', 'MNXR114872', 'MNXR114873', 'MNXR115814', 'MNXR122121', 'MNXR122125', 'MNXR123403', 'MNXR123408', 'MNXR123413', 'MNXR123414', 'MNXR126234', 'MNXR133779', 'MNXR133780', 'MNXR138059', 'MNXR138060', 'MNXR141260', 'MNXR143496', 'MNXR143543', 'MNXR143670', 'MNXR143673', 'MNXR143678', 'MNXR144967', 'MNXR144996', 'MNXR145054', 'MNXR145056', 'MNXR145077', 'MNXR145081', 'MNXR145097', 'MNXR145168', 'MNXR145211', 'MNXR145221', 'MNXR145223', 'MNXR145237', 'MNXR145261', 'MNXR145290', 'MNXR145293', 'MNXR145430', 'MNXR145471', 'MNXR145483', 'MNXR145598', 'MNXR145601', 'MNXR145603', 'MNXR145609', 'MNXR145703', 'MNXR145755', 'MNXR145773', 'MNXR145799', 'MNXR145805', 'MNXR145962', 'MNXR145963', 'MNXR145999', 'MNXR146103', 'MNXR146119', 'MNXR146121', 'MNXR146135', 'MNXR146398', 'MNXR146414', 'MNXR146417', 'MNXR146427', 'MNXR146516', 'MNXR146520', 'MNXR146546', 'MNXR146574', 'MNXR146597', 'MNXR146602', 'MNXR146616', 'MNXR146642', 'MNXR146650', 'MNXR146661', 'MNXR146663', 'MNXR146737', 'MNXR146819', 'MNXR146892', 'MNXR146918', 'MNXR146927', 'MNXR147039', 'MNXR147046', 'MNXR147046', 'MNXR147128', 'MNXR147168', 'MNXR147724', 'MNXR147821', 'MNXR147835', 'MNXR147964', 'MNXR147980', 'MNXR148083', 'MNXR148253', 'MNXR148444', 'MNXR148972', 'MNXR149178', 'MNXR149374', 'MNXR149455', 'MNXR149765', 'MNXR149906', 'MNXR150072', 'MNXR150183', 'MNXR150339', 'MNXR150355', 'MNXR150830', 'MNXR150981', 'MNXR151145', 'MNXR151238', 'MNXR151336', 'MNXR151401', 'MNXR151441', 'MNXR151457', 'MNXR151536', 'MNXR151539', 'MNXR151587', 'MNXR151668', 'MNXR151726', 'MNXR151729', 'MNXR151731', 'MNXR151860', 'MNXR151954', 'MNXR151979', 'MNXR152000', 'MNXR152100', 'MNXR152166', 'MNXR152254', 'MNXR152699', 'MNXR152737', 'MNXR152870', 'MNXR152871', 'MNXR152878', 'MNXR152926', 'MNXR153018', 'MNXR153021', 'MNXR153024', 'MNXR153040', 'MNXR153044', 'MNXR153054', 'MNXR153057', 'MNXR153200', 'MNXR153206', 'MNXR153234', 'MNXR153236', 'MNXR153239', 'MNXR153292', 'MNXR153295', 'MNXR153359', 'MNXR153401', 'MNXR153519', 'MNXR153519', 'MNXR153527', 'MNXR153575', 'MNXR153608', 'MNXR153621', 'MNXR154530', 'MNXR155392', 'MNXR155694', 'MNXR163400', 'MNXR163546', 'MNXR163548', 'MNXR163552', 'MNXR163553', 'MNXR163879', 'MNXR165854', 'MNXR165858', 'MNXR170448', 'MNXR170559', 'MNXR171617', 'MNXR173045', 'MNXR173887', 'MNXR183276', 'MNXR188117', 'MNXR188137', 'MNXR188141', 'MNXR188143', 'MNXR188159', 'MNXR188216', 'MNXR188235', 'MNXR188241', 'MNXR188247', 'MNXR188249', 'MNXR188253', 'MNXR188267', 'MNXR188277', 'MNXR188281', 'MNXR188296', 'MNXR188297', 'MNXR188373', 'MNXR188379', 'MNXR188451', 'MNXR188460', 'MNXR188487', 'MNXR188489', 'MNXR188501', 'MNXR188503', 'MNXR188509', 'MNXR188513', 'MNXR188515', 'MNXR188523', 'MNXR188525', 'MNXR188527', 'MNXR188529', 'MNXR188531', 'MNXR188533', 'MNXR188535', 'MNXR188541', 'MNXR188549', 'MNXR188594', 'MNXR188600', 'MNXR188625', 'MNXR188639', 'MNXR188663', 'MNXR188684', 'MNXR188696', 'MNXR188698', 'MNXR188826', 'MNXR188878', 'MNXR188916', 'MNXR188922', 'MNXR188974', 'MNXR188980', 'MNXR189030', 'MNXR189032', 'MNXR189036', 'MNXR189106', 'MNXR189111', 'MNXR189171', 'MNXR189197', 'MNXR189253', 'MNXR189259', 'MNXR189535', 'MNXR189638', 'MNXR189648', 'MNXR189684', 'MNXR189700', 'MNXR189725', 'MNXR189729', 'MNXR189751', 'MNXR189770', 'MNXR189776', 'MNXR189820', 'MNXR189826', 'MNXR189840', 'MNXR189850', 'MNXR189904', 'MNXR190167', 'MNXR190426', 'MNXR190448', 'MNXR190450', 'MNXR190452', 'MNXR190454', 'MNXR190494', 'MNXR190513', 'MNXR190517', 'MNXR190531', 'MNXR190571', 'MNXR190577', 'MNXR190579', 'MNXR190607', 'MNXR190611', 'MNXR190613', 'MNXR190628', 'MNXR190634', 'MNXR190678', 'MNXR190688', 'MNXR190696', 'MNXR190718', 'MNXR190726', 'MNXR190730', 'MNXR190860', 'MNXR190870', 'MNXR190874', 'MNXR190886', 'MNXR190908', 'MNXR190936', 'MNXR191008', 'MNXR191073', 'MNXR191085', 'MNXR191159', 'MNXR191174', 'MNXR191236', 'MNXR191293', 'MNXR191370', 'MNXR191966', 'MNXR191989', 'MNXR192020', 'MNXR192030', 'MNXR192122', 'MNXR192161', 'MNXR192201', 'MNXR192227', 'MNXR192246', 'MNXR192341', 'MNXR192464', 'MNXR192556', 'MNXR192558', 'MNXR192574', 'MNXR192576', 'MNXR192590', 'MNXR192592', 'MNXR192600', 'MNXR192629', 'MNXR192636', 'MNXR192638', 'MNXR192666', 'MNXR192686', 'MNXR192752', 'MNXR94978', 'MNXR95024', 'MNXR95095', 'MNXR95160', 'MNXR95161', 'MNXR95256', 'MNXR95388', 'MNXR95444', 'MNXR95450', 'MNXR95530', 'MNXR95554', 'MNXR95645', 'MNXR95841', 'MNXR95852', 'MNXR95940', 'MNXR95942', 'MNXR95958', 'MNXR96039', 'MNXR96077', 'MNXR96085', 'MNXR96117', 'MNXR96118', 'MNXR96230', 'MNXR96469', 'MNXR96485', 'MNXR96661', 'MNXR96709', 'MNXR96943', 'MNXR96994', 'MNXR97007', 'MNXR97053', 'MNXR97074', 'MNXR97143', 'MNXR97144', 'MNXR97358', 'MNXR97424', 'MNXR97428', 'MNXR97512', 'MNXR97804', 'MNXR97822', 'MNXR97932', 'MNXR99705', 'MNXR99850']\n",
      "179 1461 221\n",
      "465 1166 257\n",
      "1106 714 4053\n",
      "790 875 1889\n",
      "80 1547 411\n"
     ]
    }
   ],
   "source": [
    "formicicum_reactions = open('../Results/formicicum_reactions.txt').read().split('\\n')\n",
    "func_ids_df = pd.read_csv('../Results/metanetx_functional_ids.tsv', sep='\\t', index_col=0)\n",
    "\n",
    "conversion = pd.read_csv('../Scripts/Xrefs files/reactions-conversion.csv')\n",
    "\n",
    "conversion['External ID'].isin(formicicum_reactions).sum() #Verdadeiros\n",
    "\n",
    "reactions = conversion[conversion['External ID'].isin(formicicum_reactions)]['Internal ID'].tolist()\n",
    "print(reactions)\n",
    "\n",
    "metrics = []\n",
    "for tool in ['aureme', 'merlin_blast', 'merlin_bit', 'carveme', 'kbase']:\n",
    "    model_reactions = func_ids_df.loc[tool,'reactions'].split(',')\n",
    "    TPs = len([ide for ide in model_reactions if ide in reactions])\n",
    "    FPs = len([ide for ide in model_reactions if ide not in reactions])\n",
    "    FNs = len([ide for ide in reactions if ide not in model_reactions])\n",
    "    print(TPs, FNs, FPs)\n",
    "    metrics.append([tool, TPs, FPs, FNs] + list(calculate_quality_metrics(TPs, FPs, FNs)))\n",
    "pd.DataFrame(metrics, columns=['tool', 'TPs', 'FPs', 'FNs', 'Precision', 'Recall', 'F1 score', 'Jaccard distance']).to_excel(\n",
    "    '../Results/quality_metrics_reactions.xlsx', index=False)"
   ],
   "metadata": {
    "collapsed": false,
    "pycharm": {
     "name": "#%%\n"
    }
   }
  },
  {
   "cell_type": "code",
   "execution_count": 10,
   "outputs": [
    {
     "name": "stdout",
     "output_type": "stream",
     "text": [
      "['MNXM1', 'MNXM10', 'MNXM100', 'MNXM100', 'MNXM10010', 'MNXM1002', 'MNXM10059', 'MNXM10066', 'MNXM100790', 'MNXM10129']\n",
      "aureme\n",
      "['cpd00001', 'cpd00001', 'cpd00002', 'cpd00002', 'cpd00003', 'cpd00003', 'cpd00004', 'cpd00004', 'cpd00005', 'cpd00005']\n",
      "154 3915 491\n",
      "merlin_blast\n",
      "['cpd00001', 'cpd00002', 'cpd00003', 'cpd00004', 'cpd00005', 'cpd00006', 'cpd00007', 'cpd00008', 'cpd00009', 'cpd00010']\n",
      "164 3910 218\n",
      "carveme\n",
      "['cpd00001', 'cpd00001', 'cpd00002', 'cpd00002', 'cpd00003', 'cpd00003', 'cpd00004', 'cpd00004', 'cpd00005', 'cpd00005']\n",
      "411 3654 1172\n",
      "kbase\n",
      "['cpd00001', 'cpd00002', 'cpd00003', 'cpd00004', 'cpd00005', 'cpd00006', 'cpd00007', 'cpd00008', 'cpd00009', 'cpd00010']\n",
      "200 3868 338\n",
      "merlin_bit\n",
      "['cpd00001', 'cpd00001', 'cpd00002', 'cpd00002', 'cpd00003', 'cpd00003', 'cpd00004', 'cpd00004', 'cpd00005', 'cpd00005']\n",
      "720 3357 3506\n"
     ]
    }
   ],
   "source": [
    "formicicum_metabolites = open('../Results/formicicum_metabolites.txt').read().split('\\n')\n",
    "func_ids_df = pd.read_csv('../Results/metanetx_functional_ids.tsv', sep='\\t', index_col=0)\n",
    "\n",
    "conversion = pd.read_csv('../Scripts/Xrefs files/compounds-conversion.csv')\n",
    "\n",
    "conversion['External ID'].isin(formicicum_metabolites).sum() #Verdadeiros\n",
    "\n",
    "metabolites = conversion[conversion['External ID'].isin(formicicum_metabolites)]['Internal ID'].tolist()\n",
    "mtx_metabolites = conversion[(conversion['External ID'].isin(metabolites)) & (conversion['Internal ID'].str.startswith('MNXM'))]['Internal ID'].tolist()\n",
    "print(mtx_metabolites[:10])\n",
    "\n",
    "\n",
    "metrics = []\n",
    "for tool in ['aureme', 'merlin_blast', 'carveme', 'kbase', 'merlin_bit']:\n",
    "    print(tool)\n",
    "    model_metabolites = func_ids_df.loc[tool, 'metabolites'].split(',')\n",
    "    print(model_metabolites[:10])\n",
    "\n",
    "    TPs = len([ide for ide in model_metabolites if ide in mtx_metabolites])\n",
    "    FPs = len([ide for ide in model_metabolites if ide not in mtx_metabolites])\n",
    "    FNs = len([ide for ide in mtx_metabolites if ide not in model_metabolites])\n",
    "    print(TPs, FNs, FPs)\n",
    "    metrics.append([tool, TPs, FPs, FNs] + list(calculate_quality_metrics(TPs, FPs, FNs)))\n",
    "\n",
    "pd.DataFrame(metrics, columns=['tool', 'TPs', 'FPs', 'FNs', 'Precision', 'Recall', 'F1 score', 'Jaccard distance']).to_excel(\n",
    "    '../Results/quality_metrics_compounds.xlsx', index=False)"
   ],
   "metadata": {
    "collapsed": false,
    "pycharm": {
     "name": "#%%\n"
    }
   }
  },
  {
   "cell_type": "code",
   "execution_count": 7,
   "outputs": [],
   "source": [],
   "metadata": {
    "collapsed": false,
    "pycharm": {
     "name": "#%%\n"
    }
   }
  }
 ],
 "metadata": {
  "kernelspec": {
   "display_name": "Python 3",
   "language": "python",
   "name": "python3"
  },
  "language_info": {
   "codemirror_mode": {
    "name": "ipython",
    "version": 2
   },
   "file_extension": ".py",
   "mimetype": "text/x-python",
   "name": "python",
   "nbconvert_exporter": "python",
   "pygments_lexer": "ipython2",
   "version": "2.7.6"
  }
 },
 "nbformat": 4,
 "nbformat_minor": 0
}