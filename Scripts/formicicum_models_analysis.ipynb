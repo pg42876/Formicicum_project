{
 "cells": [
  {
   "cell_type": "code",
   "execution_count": 15,
   "metadata": {
    "collapsed": true,
    "pycharm": {
     "name": "#%%\n"
    }
   },
   "outputs": [],
   "source": [
    "from Scripts.core import read_sbml_into_cobra_model\n",
    "from utils import ReconstructionTool, get_cross_reference_reactions, get_genes, get_cross_reference_metabolites\n",
    "import pandas as pd\n",
    "\n",
    "'''\n",
    "import sys, importlib\n",
    "importlib.reload(sys.modules['Scripts.utils'])\n",
    "from Scripts.utils import ReconstructionTool, get_cross_reference_reactions, get_genes, get_cross_reference_metabolites\n",
    "'''"
   ]
  },
  {
   "cell_type": "code",
   "execution_count": 16,
   "outputs": [
    {
     "name": "stderr",
     "output_type": "stream",
     "text": [
      "1204725 does not conform to 'http(s)://identifiers.org/collection/id' or'http(s)://identifiers.org/COLLECTION:id\n",
      "1204725 does not conform to 'http(s)://identifiers.org/collection/id' or'http(s)://identifiers.org/COLLECTION:id\n",
      "No objective in listOfObjectives\n",
      "No objective coefficients in model. Unclear what should be optimized\n",
      "1204725 does not conform to 'http(s)://identifiers.org/collection/id' or'http(s)://identifiers.org/COLLECTION:id\n",
      "No objective in listOfObjectives\n",
      "No objective coefficients in model. Unclear what should be optimized\n"
     ]
    }
   ],
   "source": [
    "merlin_blast_model = read_sbml_into_cobra_model(\n",
    "    file_path = \"../Models/Merlin-BA/merlin_model.xml\",\n",
    "    database_version = \"kegg\",\n",
    "    reconstruction_tool = ReconstructionTool.MERLIN.value)\n",
    "\n",
    "carveme_model = read_sbml_into_cobra_model(\n",
    "    file_path = \"../Models/CarveMe/model_carveme.xml\",\n",
    "    database_version = \"bigg\",\n",
    "    reconstruction_tool = ReconstructionTool.CARVEME.value)\n",
    "\n",
    "kbase_model = read_sbml_into_cobra_model(\n",
    "    file_path = \"../Models/KBase/kbase_model.xml\",\n",
    "    database_version = \"modelseed\",\n",
    "    reconstruction_tool = ReconstructionTool.MODELSEED.value)\n",
    "\n",
    "merlin_bit_model = read_sbml_into_cobra_model(\n",
    "    file_path = \"../Models/Merlin-BIT/BIT_model.xml\",\n",
    "    database_version = \"bigg\",\n",
    "    reconstruction_tool = ReconstructionTool.MERLIN.value)\n",
    "\n",
    "aureme_model = read_sbml_into_cobra_model(\n",
    "    file_path = \"../Models/AuReMe/aureme_model3.xml\",\n",
    "    database_version = \"bigg\",\n",
    "    reconstruction_tool = ReconstructionTool.AUREME.value)"
   ],
   "metadata": {
    "collapsed": false,
    "pycharm": {
     "name": "#%%\n"
    }
   }
  },
  {
   "cell_type": "code",
   "execution_count": 18,
   "outputs": [
    {
     "name": "stdout",
     "output_type": "stream",
     "text": [
      "merlin_blast\n",
      "Found 722 reactions.\n",
      "Found 382 reactions.\n",
      "aureme\n",
      "Found 400 reactions.\n",
      "Found 645 reactions.\n",
      "carveme\n",
      "Found 2679 reactions.\n",
      "Found 1583 reactions.\n",
      "kbase\n",
      "Found 491 reactions.\n",
      "Found 538 reactions.\n",
      "merlin_bit\n",
      "Found 5159 reactions.\n",
      "Found 0 reactions.\n"
     ]
    }
   ],
   "source": [
    "from Scripts.utils import get_reactions, get_metabolites\n",
    "\n",
    "models = {\n",
    "    \"merlin_blast\": merlin_blast_model.model,\n",
    "    \"aureme\": aureme_model.model,\n",
    "    \"carveme\": carveme_model.model,\n",
    "    \"kbase\": kbase_model.model,\n",
    "    \"merlin_bit\": merlin_bit_model.model\n",
    "}\n",
    "func_ids = []\n",
    "metanetx_func_ids = []\n",
    "kegg_func_ids = []\n",
    "reactions_conversion_df = pd.read_csv('Xrefs files/reactions-conversion.csv')\n",
    "metabolites_conversion_df = pd.read_csv('Xrefs files/compounds-conversion.csv')\n",
    "for name, xml in models.items():\n",
    "    print(name)\n",
    "    func_ids.append({\n",
    "        'tool': name,\n",
    "        'genes': ','.join(get_genes(xml, tool=name)),\n",
    "        'reactions': ','.join(get_reactions(xml, tool=name)),\n",
    "        'metabolites': ','.join(get_metabolites(xml, tool=name))\n",
    "    })\n",
    "    reactions = get_cross_reference_reactions(xml, reactions_conversion_df, tool=name)\n",
    "    metabolites = get_cross_reference_metabolites(xml, metabolites_conversion_df, tool=name)\n",
    "    metanetx_func_ids.append({\n",
    "        'tool': name,\n",
    "        'genes': ','.join(get_genes(xml, tool=name)),\n",
    "        'reactions': ','.join(reactions[0]),\n",
    "        'metabolites': ','.join(metabolites[0])\n",
    "    })\n",
    "    kegg_func_ids.append({\n",
    "        'tool': name,\n",
    "        'genes': ','.join(get_genes(xml, tool=name)),\n",
    "        'reactions': ','.join(reactions[1]),\n",
    "        'metabolites': ','.join(metabolites[1])\n",
    "    })\n",
    "pd.DataFrame(func_ids).to_csv('../Results/functional_ids.tsv', sep='\\t', index=False)\n",
    "pd.DataFrame(metanetx_func_ids).to_csv('../Results/metanetx_func_ids.tsv', sep='\\t', index=False)\n",
    "pd.DataFrame(kegg_func_ids).to_csv('../Results/kegg_functional_ids.tsv', sep='\\t', index=False)"
   ],
   "metadata": {
    "collapsed": false,
    "pycharm": {
     "name": "#%%\n"
    }
   }
  },
  {
   "cell_type": "code",
   "execution_count": 17,
   "outputs": [],
   "source": [],
   "metadata": {
    "collapsed": false,
    "pycharm": {
     "name": "#%%\n"
    }
   }
  }
 ],
 "metadata": {
  "kernelspec": {
   "display_name": "Python 3",
   "language": "python",
   "name": "python3"
  },
  "language_info": {
   "codemirror_mode": {
    "name": "ipython",
    "version": 2
   },
   "file_extension": ".py",
   "mimetype": "text/x-python",
   "name": "python",
   "nbconvert_exporter": "python",
   "pygments_lexer": "ipython2",
   "version": "2.7.6"
  }
 },
 "nbformat": 4,
 "nbformat_minor": 0
}