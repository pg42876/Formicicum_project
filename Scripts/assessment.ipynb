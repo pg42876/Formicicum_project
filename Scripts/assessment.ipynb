{
 "cells": [
  {
   "cell_type": "code",
   "execution_count": 1,
   "metadata": {
    "pycharm": {
     "name": "#%%\n"
    }
   },
   "outputs": [
    {
     "ename": "CobraSBMLError",
     "evalue": "Something went wrong reading the SBML model. Most likely the SBML model is not valid. Please check that your model is valid using the `cobra.io.sbml.validate_sbml_model` function or via the online validator at http://sbml.org/validator .\n\t`(model, errors) = validate_sbml_model(filename)`\nIf the model is valid and cannot be read please open an issue at https://github.com/opencobra/cobrapy/issues .",
     "output_type": "error",
     "traceback": [
      "\u001B[1;31m---------------------------------------------------------------------------\u001B[0m",
      "\u001B[1;31mAttributeError\u001B[0m                            Traceback (most recent call last)",
      "\u001B[1;32m~\\.conda\\envs\\py37\\lib\\site-packages\\cobra\\io\\sbml.py\u001B[0m in \u001B[0;36mread_sbml_model\u001B[1;34m(filename, number, f_replace, **kwargs)\u001B[0m\n\u001B[0;32m    250\u001B[0m         \u001B[0mdoc\u001B[0m \u001B[1;33m=\u001B[0m \u001B[0m_get_doc_from_filename\u001B[0m\u001B[1;33m(\u001B[0m\u001B[0mfilename\u001B[0m\u001B[1;33m)\u001B[0m\u001B[1;33m\u001B[0m\u001B[1;33m\u001B[0m\u001B[0m\n\u001B[1;32m--> 251\u001B[1;33m         \u001B[1;32mreturn\u001B[0m \u001B[0m_sbml_to_model\u001B[0m\u001B[1;33m(\u001B[0m\u001B[0mdoc\u001B[0m\u001B[1;33m,\u001B[0m \u001B[0mnumber\u001B[0m\u001B[1;33m=\u001B[0m\u001B[0mnumber\u001B[0m\u001B[1;33m,\u001B[0m \u001B[0mf_replace\u001B[0m\u001B[1;33m=\u001B[0m\u001B[0mf_replace\u001B[0m\u001B[1;33m,\u001B[0m \u001B[1;33m**\u001B[0m\u001B[0mkwargs\u001B[0m\u001B[1;33m)\u001B[0m\u001B[1;33m\u001B[0m\u001B[1;33m\u001B[0m\u001B[0m\n\u001B[0m\u001B[0;32m    252\u001B[0m     \u001B[1;32mexcept\u001B[0m \u001B[0mIOError\u001B[0m \u001B[1;32mas\u001B[0m \u001B[0me\u001B[0m\u001B[1;33m:\u001B[0m\u001B[1;33m\u001B[0m\u001B[1;33m\u001B[0m\u001B[0m\n",
      "\u001B[1;32m~\\.conda\\envs\\py37\\lib\\site-packages\\cobra\\io\\sbml.py\u001B[0m in \u001B[0;36m_sbml_to_model\u001B[1;34m(doc, number, f_replace, set_missing_bounds, **kwargs)\u001B[0m\n\u001B[0;32m    372\u001B[0m         \u001B[0mLOGGER\u001B[0m\u001B[1;33m.\u001B[0m\u001B[0merror\u001B[0m\u001B[1;33m(\u001B[0m\u001B[1;34m\"'%s' is not a valid SBML 'SId'.\"\u001B[0m \u001B[1;33m%\u001B[0m \u001B[0mmodel_id\u001B[0m\u001B[1;33m)\u001B[0m\u001B[1;33m\u001B[0m\u001B[1;33m\u001B[0m\u001B[0m\n\u001B[1;32m--> 373\u001B[1;33m     \u001B[0mcobra_model\u001B[0m \u001B[1;33m=\u001B[0m \u001B[0mModel\u001B[0m\u001B[1;33m(\u001B[0m\u001B[0mmodel_id\u001B[0m\u001B[1;33m)\u001B[0m\u001B[1;33m\u001B[0m\u001B[1;33m\u001B[0m\u001B[0m\n\u001B[0m\u001B[0;32m    374\u001B[0m     \u001B[0mcobra_model\u001B[0m\u001B[1;33m.\u001B[0m\u001B[0mname\u001B[0m \u001B[1;33m=\u001B[0m \u001B[0mmodel\u001B[0m\u001B[1;33m.\u001B[0m\u001B[0mgetName\u001B[0m\u001B[1;33m(\u001B[0m\u001B[1;33m)\u001B[0m\u001B[1;33m\u001B[0m\u001B[1;33m\u001B[0m\u001B[0m\n",
      "\u001B[1;32m~\\.conda\\envs\\py37\\lib\\site-packages\\cobra\\core\\model.py\u001B[0m in \u001B[0;36m__init__\u001B[1;34m(self, id_or_model, name)\u001B[0m\n\u001B[0;32m    119\u001B[0m             \u001B[0minterface\u001B[0m \u001B[1;33m=\u001B[0m \u001B[0mconfiguration\u001B[0m\u001B[1;33m.\u001B[0m\u001B[0msolver\u001B[0m\u001B[1;33m\u001B[0m\u001B[1;33m\u001B[0m\u001B[0m\n\u001B[1;32m--> 120\u001B[1;33m             \u001B[0mself\u001B[0m\u001B[1;33m.\u001B[0m\u001B[0m_solver\u001B[0m \u001B[1;33m=\u001B[0m \u001B[0minterface\u001B[0m\u001B[1;33m.\u001B[0m\u001B[0mModel\u001B[0m\u001B[1;33m(\u001B[0m\u001B[1;33m)\u001B[0m\u001B[1;33m\u001B[0m\u001B[1;33m\u001B[0m\u001B[0m\n\u001B[0m\u001B[0;32m    121\u001B[0m             \u001B[0mself\u001B[0m\u001B[1;33m.\u001B[0m\u001B[0m_solver\u001B[0m\u001B[1;33m.\u001B[0m\u001B[0mobjective\u001B[0m \u001B[1;33m=\u001B[0m \u001B[0minterface\u001B[0m\u001B[1;33m.\u001B[0m\u001B[0mObjective\u001B[0m\u001B[1;33m(\u001B[0m\u001B[0mZero\u001B[0m\u001B[1;33m)\u001B[0m\u001B[1;33m\u001B[0m\u001B[1;33m\u001B[0m\u001B[0m\n",
      "\u001B[1;32m~\\.conda\\envs\\py37\\lib\\site-packages\\optlang\\glpk_interface.py\u001B[0m in \u001B[0;36m__init__\u001B[1;34m(self, problem, *args, **kwargs)\u001B[0m\n\u001B[0;32m    488\u001B[0m \u001B[1;33m\u001B[0m\u001B[0m\n\u001B[1;32m--> 489\u001B[1;33m         \u001B[0mself\u001B[0m\u001B[1;33m.\u001B[0m\u001B[0mconfiguration\u001B[0m \u001B[1;33m=\u001B[0m \u001B[0mConfiguration\u001B[0m\u001B[1;33m(\u001B[0m\u001B[1;33m)\u001B[0m\u001B[1;33m\u001B[0m\u001B[1;33m\u001B[0m\u001B[0m\n\u001B[0m\u001B[0;32m    490\u001B[0m \u001B[1;33m\u001B[0m\u001B[0m\n",
      "\u001B[1;32m~\\.conda\\envs\\py37\\lib\\site-packages\\optlang\\glpk_interface.py\u001B[0m in \u001B[0;36m__init__\u001B[1;34m(self, presolve, verbosity, timeout, *args, **kwargs)\u001B[0m\n\u001B[0;32m    386\u001B[0m         \u001B[0msuper\u001B[0m\u001B[1;33m(\u001B[0m\u001B[0mConfiguration\u001B[0m\u001B[1;33m,\u001B[0m \u001B[0mself\u001B[0m\u001B[1;33m)\u001B[0m\u001B[1;33m.\u001B[0m\u001B[0m__init__\u001B[0m\u001B[1;33m(\u001B[0m\u001B[1;33m*\u001B[0m\u001B[0margs\u001B[0m\u001B[1;33m,\u001B[0m \u001B[1;33m**\u001B[0m\u001B[0mkwargs\u001B[0m\u001B[1;33m)\u001B[0m\u001B[1;33m\u001B[0m\u001B[1;33m\u001B[0m\u001B[0m\n\u001B[1;32m--> 387\u001B[1;33m         \u001B[0mself\u001B[0m\u001B[1;33m.\u001B[0m\u001B[0m_smcp\u001B[0m \u001B[1;33m=\u001B[0m \u001B[0mglp_smcp\u001B[0m\u001B[1;33m(\u001B[0m\u001B[1;33m)\u001B[0m\u001B[1;33m\u001B[0m\u001B[1;33m\u001B[0m\u001B[0m\n\u001B[0m\u001B[0;32m    388\u001B[0m         \u001B[0mself\u001B[0m\u001B[1;33m.\u001B[0m\u001B[0m_iocp\u001B[0m \u001B[1;33m=\u001B[0m \u001B[0mglp_iocp\u001B[0m\u001B[1;33m(\u001B[0m\u001B[1;33m)\u001B[0m\u001B[1;33m\u001B[0m\u001B[1;33m\u001B[0m\u001B[0m\n",
      "\u001B[1;32m~\\.conda\\envs\\py37\\lib\\site-packages\\swiglpk\\swiglpk.py\u001B[0m in \u001B[0;36m__init__\u001B[1;34m(self)\u001B[0m\n\u001B[0;32m    146\u001B[0m     \u001B[1;32mdef\u001B[0m \u001B[0m__init__\u001B[0m\u001B[1;33m(\u001B[0m\u001B[0mself\u001B[0m\u001B[1;33m)\u001B[0m\u001B[1;33m:\u001B[0m\u001B[1;33m\u001B[0m\u001B[1;33m\u001B[0m\u001B[0m\n\u001B[1;32m--> 147\u001B[1;33m         \u001B[0m_swiglpk\u001B[0m\u001B[1;33m.\u001B[0m\u001B[0mglp_smcp_swiginit\u001B[0m\u001B[1;33m(\u001B[0m\u001B[0mself\u001B[0m\u001B[1;33m,\u001B[0m \u001B[0m_swiglpk\u001B[0m\u001B[1;33m.\u001B[0m\u001B[0mnew_glp_smcp\u001B[0m\u001B[1;33m(\u001B[0m\u001B[1;33m)\u001B[0m\u001B[1;33m)\u001B[0m\u001B[1;33m\u001B[0m\u001B[1;33m\u001B[0m\u001B[0m\n\u001B[0m\u001B[0;32m    148\u001B[0m     \u001B[0m__swig_destroy__\u001B[0m \u001B[1;33m=\u001B[0m \u001B[0m_swiglpk\u001B[0m\u001B[1;33m.\u001B[0m\u001B[0mdelete_glp_smcp\u001B[0m\u001B[1;33m\u001B[0m\u001B[1;33m\u001B[0m\u001B[0m\n",
      "\u001B[1;31mAttributeError\u001B[0m: module 'swiglpk._swiglpk' has no attribute 'glp_smcp_swiginit'",
      "\nThe above exception was the direct cause of the following exception:\n",
      "\u001B[1;31mCobraSBMLError\u001B[0m                            Traceback (most recent call last)",
      "\u001B[1;32m~\\AppData\\Local\\Temp\\ipykernel_504\\2155411556.py\u001B[0m in \u001B[0;36m<module>\u001B[1;34m\u001B[0m\n\u001B[0;32m      5\u001B[0m     \u001B[0mfile_path\u001B[0m \u001B[1;33m=\u001B[0m \u001B[1;34m\"C:/Users/maria/Documents/GitHub/merlinv4_paper/Models/Merlin-BA/merlin_model.xml\"\u001B[0m\u001B[1;33m,\u001B[0m\u001B[1;33m\u001B[0m\u001B[1;33m\u001B[0m\u001B[0m\n\u001B[0;32m      6\u001B[0m     \u001B[0mdatabase_version\u001B[0m \u001B[1;33m=\u001B[0m \u001B[1;34m\"kegg\"\u001B[0m\u001B[1;33m,\u001B[0m\u001B[1;33m\u001B[0m\u001B[1;33m\u001B[0m\u001B[0m\n\u001B[1;32m----> 7\u001B[1;33m     reconstruction_tool = ReconstructionTool.MERLIN.value)\n\u001B[0m\u001B[0;32m      8\u001B[0m \u001B[1;33m\u001B[0m\u001B[0m\n\u001B[0;32m      9\u001B[0m carveme_model = read_sbml_into_cobra_model(\n",
      "\u001B[1;32m~\\Documents\\GitHub\\Formicicum_project\\Scripts\\core.py\u001B[0m in \u001B[0;36mread_sbml_into_cobra_model\u001B[1;34m(file_path, database_version, reconstruction_tool)\u001B[0m\n\u001B[0;32m     11\u001B[0m     \u001B[0mnew_model\u001B[0m \u001B[1;33m=\u001B[0m \u001B[0mCobraModel\u001B[0m\u001B[1;33m(\u001B[0m\u001B[1;33m)\u001B[0m\u001B[1;33m\u001B[0m\u001B[1;33m\u001B[0m\u001B[0m\n\u001B[0;32m     12\u001B[0m \u001B[1;33m\u001B[0m\u001B[0m\n\u001B[1;32m---> 13\u001B[1;33m     \u001B[0mnew_model\u001B[0m\u001B[1;33m.\u001B[0m\u001B[0mmodel\u001B[0m \u001B[1;33m=\u001B[0m \u001B[0mcobra\u001B[0m\u001B[1;33m.\u001B[0m\u001B[0mio\u001B[0m\u001B[1;33m.\u001B[0m\u001B[0mread_sbml_model\u001B[0m\u001B[1;33m(\u001B[0m\u001B[0mfile_path\u001B[0m\u001B[1;33m)\u001B[0m\u001B[1;33m\u001B[0m\u001B[1;33m\u001B[0m\u001B[0m\n\u001B[0m\u001B[0;32m     14\u001B[0m     \u001B[0mnew_model\u001B[0m\u001B[1;33m.\u001B[0m\u001B[0mdatabase_version\u001B[0m \u001B[1;33m=\u001B[0m \u001B[0mdatabase_version\u001B[0m\u001B[1;33m\u001B[0m\u001B[1;33m\u001B[0m\u001B[0m\n\u001B[0;32m     15\u001B[0m     \u001B[0mnew_model\u001B[0m\u001B[1;33m.\u001B[0m\u001B[0mreconstruction_tool\u001B[0m \u001B[1;33m=\u001B[0m \u001B[0mreconstruction_tool\u001B[0m\u001B[1;33m\u001B[0m\u001B[1;33m\u001B[0m\u001B[0m\n",
      "\u001B[1;32m~\\.conda\\envs\\py37\\lib\\site-packages\\cobra\\io\\sbml.py\u001B[0m in \u001B[0;36mread_sbml_model\u001B[1;34m(filename, number, f_replace, **kwargs)\u001B[0m\n\u001B[0;32m    263\u001B[0m             \u001B[1;34m\"at https://github.com/opencobra/cobrapy/issues .\"\u001B[0m\u001B[1;33m\u001B[0m\u001B[1;33m\u001B[0m\u001B[0m\n\u001B[0;32m    264\u001B[0m         )\n\u001B[1;32m--> 265\u001B[1;33m         \u001B[0mraise_from\u001B[0m\u001B[1;33m(\u001B[0m\u001B[0mcobra_error\u001B[0m\u001B[1;33m,\u001B[0m \u001B[0moriginal_error\u001B[0m\u001B[1;33m)\u001B[0m\u001B[1;33m\u001B[0m\u001B[1;33m\u001B[0m\u001B[0m\n\u001B[0m\u001B[0;32m    266\u001B[0m \u001B[1;33m\u001B[0m\u001B[0m\n\u001B[0;32m    267\u001B[0m \u001B[1;33m\u001B[0m\u001B[0m\n",
      "\u001B[1;32m~\\.conda\\envs\\py37\\lib\\site-packages\\six.py\u001B[0m in \u001B[0;36mraise_from\u001B[1;34m(value, from_value)\u001B[0m\n",
      "\u001B[1;31mCobraSBMLError\u001B[0m: Something went wrong reading the SBML model. Most likely the SBML model is not valid. Please check that your model is valid using the `cobra.io.sbml.validate_sbml_model` function or via the online validator at http://sbml.org/validator .\n\t`(model, errors) = validate_sbml_model(filename)`\nIf the model is valid and cannot be read please open an issue at https://github.com/opencobra/cobrapy/issues ."
     ]
    }
   ],
   "source": [
    "from core import read_sbml_into_cobra_model\n",
    "from utils import ReconstructionTool\n",
    "\n",
    "merlin_blast_auto = read_sbml_into_cobra_model(\n",
    "    file_path = \"C:/Users/maria/Documents/GitHub/merlinv4_paper/Models/Merlin-BA/merlin_model.xml\",\n",
    "    database_version = \"kegg\",\n",
    "    reconstruction_tool = ReconstructionTool.MERLIN.value)\n",
    "\n",
    "carveme_model = read_sbml_into_cobra_model(\n",
    "    file_path = \"C:/Users/maria/Documents/GitHub/merlinv4_paper/Models/CarveMe/models/model_carveme.xml\",\n",
    "    database_version = \"bigg\",\n",
    "    reconstruction_tool = ReconstructionTool.CARVEME.value)\n",
    "\n",
    "kbase_model = read_sbml_into_cobra_model(\n",
    "    file_path = \"C:/Users/maria/Documents/GitHub/merlinv4_paper/Models/KBase/model/kbase_model.xml\",\n",
    "    database_version = \"modelseed\",\n",
    "    reconstruction_tool = ReconstructionTool.MODELSEED.value)\n",
    "\n",
    "merlin_bit_model = read_sbml_into_cobra_model(\n",
    "    file_path = \"C:/Users/maria/Documents/GitHub/merlinv4_paper/Models/Merlin-BIT/BIT_model.xml\",\n",
    "    database_version = \"bigg\",\n",
    "    reconstruction_tool = ReconstructionTool.MERLIN.value)\n",
    "\n",
    "aureme_model = read_sbml_into_cobra_model(\n",
    "    file_path = \"C:/Users/maria/Documents/GitHub/merlinv4_paper/Models/AuReMe/models/aureme_model3.xml\",\n",
    "    database_version = \"bigg\",\n",
    "    reconstruction_tool = ReconstructionTool.AUREME.value)"
   ]
  },
  {
   "cell_type": "markdown",
   "metadata": {
    "pycharm": {
     "name": "#%% md\n"
    }
   },
   "source": [
    "##  Merlin"
   ]
  },
  {
   "cell_type": "code",
   "execution_count": null,
   "metadata": {
    "collapsed": false,
    "pycharm": {
     "name": "#%%\n"
    }
   },
   "outputs": [],
   "source": [
    "models_to_assess = {\n",
    "                    \"merlin-BA\": merlin_blast_auto,\n",
    "                    #\"AuReMe\": aureme_model,\n",
    "                    #\"CarveMe\": carveme_model,\n",
    "                    #\"KBase\": kbase_model,\n",
    "                    #\"merlin-BIT\": merlin_bit_model,\n",
    "                                        }"
   ]
  },
  {
   "cell_type": "code",
   "execution_count": null,
   "metadata": {
    "collapsed": false,
    "pycharm": {
     "name": "#%%\n"
    }
   },
   "outputs": [],
   "source": [
    "all_models_to_assess = {\n",
    "                    \"merlin-BA\": merlin_blast_auto,\n",
    "                    \"AuReMe\": aureme_model,\n",
    "                    \"CarveMe\": carveme_model,\n",
    "                    \"KBase\": kbase_model,\n",
    "                    \"merlin-BIT\": merlin_bit_model,\n",
    "                                        }"
   ]
  },
  {
   "cell_type": "code",
   "execution_count": null,
   "metadata": {
    "pycharm": {
     "name": "#%%\n"
    }
   },
   "outputs": [],
   "source": [
    "from assessment import ResultsReport\n",
    "model = read_sbml_into_cobra_model(\n",
    "    file_path = \"C:/Users/maria/Documents/GitHub/merlinv4_paper/Models/Merlin-BA/merlin_model.xml\",\n",
    "    database_version = \"bigg\",\n",
    "    reconstruction_tool = ReconstructionTool.MERLIN.value)\n",
    "\n",
    "print(\"Number of genes: \", len(model.model.genes))\n",
    "\n",
    "report_metanetx = ResultsReport(model, models_to_assess, conversion_method = \"metanetx\", reference_model_format = \"bigg\")\n",
    "\n",
    "report_model_seed = ResultsReport(model, models_to_assess, conversion_method = \"modelseed\", reference_model_format = \"bigg\")\n",
    "\n",
    "report_model_seed_model_seed = ResultsReport(model, models_to_assess, conversion_method = \"modelseed\", reference_model_format = \"modelseed\")"
   ]
  },
  {
   "cell_type": "code",
   "execution_count": null,
   "metadata": {
    "pycharm": {
     "name": "#%%\n"
    }
   },
   "outputs": [],
   "source": [
    "from assessment import ResultsReport\n",
    "model = read_sbml_into_cobra_model(\n",
    "    file_path = \"C:/Users/maria/Documents/GitHub/merlinv4_paper/Models/Merlin-BA/merlin_model.xml\",\n",
    "    database_version = \"bigg\",\n",
    "    reconstruction_tool = ReconstructionTool.MERLIN.value)\n",
    "\n",
    "print(\"Number of genes: \", len(model.model.genes))\n",
    "\n",
    "all_report_metanetx = ResultsReport(model, all_models_to_assess, conversion_method = \"metanetx\", reference_model_format = \"bigg\")\n",
    "\n",
    "all_report_metanetx.generate_reactions_report(\"C:/Users/maria/Documents/GitHub/merlinv4_paper/Results/Merlin-BA/merlin_metanetx_conversion_all_results.csv\")\n",
    "\n",
    "all_report_metanetx.generate_genes_report(\"C:/Users/maria/Documents/GitHub/merlinv4_paper/Results/Merlin-BA/merlin_genes_all_results.csv\")"
   ]
  },
  {
   "cell_type": "markdown",
   "metadata": {
    "pycharm": {
     "name": "#%% md\n"
    }
   },
   "source": [
    "## CarveMe"
   ]
  },
  {
   "cell_type": "code",
   "execution_count": null,
   "metadata": {
    "pycharm": {
     "name": "#%%\n"
    }
   },
   "outputs": [],
   "source": [
    "models_to_assess = {\n",
    "                    #\"merlin-BA\": merlin_blast_auto,\n",
    "                    #\"AuReMe\": aureme_model,\n",
    "                    \"CarveMe\": carveme_model,\n",
    "                    #\"KBase\": kbase_model,\n",
    "                    #\"merlin-BIT\": merlin_bit_model,\n",
    "                                        }"
   ]
  },
  {
   "cell_type": "code",
   "execution_count": null,
   "metadata": {
    "pycharm": {
     "name": "#%%\n"
    }
   },
   "outputs": [],
   "source": [
    "from assessment import ResultsReport\n",
    "model = read_sbml_into_cobra_model(\n",
    "    file_path = \"C:/Users/maria/Documents/GitHub/merlinv4_paper/Models/CarveMe/models/model_carveme.xml\",\n",
    "    database_version = \"bigg\",\n",
    "    reconstruction_tool = ReconstructionTool.CARVEME.value)\n",
    "\n",
    "print(\"Number of genes: \", len(model.model.genes))\n",
    "\n",
    "report_metanetx = ResultsReport(model, models_to_assess, conversion_method = \"metanetx\", reference_model_format = \"bigg\")\n",
    "\n",
    "report_model_seed = ResultsReport(model, models_to_assess, conversion_method = \"modelseed\", reference_model_format = \"bigg\")\n",
    "\n",
    "report_model_seed_model_seed = ResultsReport(model, models_to_assess, conversion_method = \"modelseed\", reference_model_format = \"modelseed\")"
   ]
  },
  {
   "cell_type": "code",
   "execution_count": null,
   "metadata": {
    "pycharm": {
     "name": "#%%\n"
    }
   },
   "outputs": [],
   "source": [
    "from assessment import ResultsReport\n",
    "model = read_sbml_into_cobra_model(\n",
    "    file_path = \"C:/Users/maria/Documents/GitHub/merlinv4_paper/Models/CarveMe/models/model_carveme.xml\",\n",
    "    database_version = \"bigg\",\n",
    "    reconstruction_tool = ReconstructionTool.CARVEME.value)\n",
    "\n",
    "print(\"Number of genes: \", len(model.model.genes))\n",
    "\n",
    "all_report_metanetx = ResultsReport(model, all_models_to_assess, conversion_method = \"metanetx\", reference_model_format = \"bigg\")\n",
    "\n",
    "all_report_metanetx.generate_reactions_report(\"C:/Users/maria/Documents/GitHub/merlinv4_paper/Results/CarveMe/carveme_metanetx_conversion_all_results.csv\")\n",
    "\n",
    "all_report_metanetx.generate_genes_report(\"C:/Users/maria/Documents/GitHub/merlinv4_paper/Results/CarveMe/carveme_genes_all_results.csv\")"
   ]
  },
  {
   "cell_type": "markdown",
   "metadata": {
    "pycharm": {
     "name": "#%% md\n"
    }
   },
   "source": [
    "## KBase"
   ]
  },
  {
   "cell_type": "code",
   "execution_count": null,
   "metadata": {
    "pycharm": {
     "name": "#%%\n"
    }
   },
   "outputs": [],
   "source": [
    "models_to_assess = {\n",
    "                    #\"merlin-BA\": merlin_blast_auto,\n",
    "                    #\"AuReMe\": aureme_model,\n",
    "                    #\"CarveMe\": carveme_model,\n",
    "                    \"KBase\": kbase_model,\n",
    "                    #\"merlin-BIT\": merlin_bit_model,\n",
    "                                        }"
   ]
  },
  {
   "cell_type": "code",
   "execution_count": null,
   "metadata": {
    "pycharm": {
     "name": "#%%\n"
    }
   },
   "outputs": [],
   "source": [
    "from assessment import ResultsReport\n",
    "model = read_sbml_into_cobra_model(\n",
    "    file_path = \"C:/Users/maria/Documents/GitHub/merlinv4_paper/Models/KBase/model/kbase_model.xml\",\n",
    "    database_version = \"bigg\",\n",
    "    reconstruction_tool = ReconstructionTool.MODELSEED.value)\n",
    "print(\"Number of genes: \", len(model.model.genes))\n",
    "\n",
    "report_metanetx = ResultsReport(model, models_to_assess, conversion_method = \"metanetx\", reference_model_format = \"bigg\")\n",
    "\n",
    "report_model_seed = ResultsReport(model, models_to_assess, conversion_method = \"modelseed\", reference_model_format = \"bigg\")\n",
    "\n",
    "report_model_seed_model_seed = ResultsReport(model, models_to_assess, conversion_method = \"modelseed\", reference_model_format = \"modelseed\")"
   ]
  },
  {
   "cell_type": "code",
   "execution_count": null,
   "metadata": {
    "pycharm": {
     "name": "#%%\n"
    }
   },
   "outputs": [],
   "source": [
    "from assessment import ResultsReport\n",
    "model = read_sbml_into_cobra_model(\n",
    "    file_path = \"C:/Users/maria/Documents/GitHub/merlinv4_paper/Models/KBase/model/kbase_model.xml\",\n",
    "    database_version = \"bigg\",\n",
    "    reconstruction_tool = ReconstructionTool.MODELSEED.value)\n",
    "\n",
    "print(\"Number of genes: \", len(model.model.genes))\n",
    "\n",
    "all_report_metanetx = ResultsReport(model, all_models_to_assess, conversion_method = \"metanetx\", reference_model_format = \"bigg\")\n",
    "\n",
    "all_report_metanetx.generate_reactions_report(\"C:/Users/maria/Documents/GitHub/merlinv4_paper/Results/KBase/kbase_metanetx_conversion_all_results.csv\")\n",
    "\n",
    "all_report_metanetx.generate_genes_report(\"C:/Users/maria/Documents/GitHub/merlinv4_paper/Results/KBase/kbase_genes_all_results.csv\")"
   ]
  },
  {
   "cell_type": "markdown",
   "metadata": {
    "pycharm": {
     "name": "#%% md\n"
    }
   },
   "source": [
    "## AuReMe"
   ]
  },
  {
   "cell_type": "code",
   "execution_count": null,
   "metadata": {
    "pycharm": {
     "name": "#%%\n"
    }
   },
   "outputs": [],
   "source": [
    "models_to_assess = {\n",
    "                    #\"merlin-BA\": merlin_blast_auto,\n",
    "                    \"AuReMe\": aureme_model,\n",
    "                    #\"CarveMe\": carveme_model,\n",
    "                    #\"KBase\": kbase_model,\n",
    "                    #\"merlin-BIT\": merlin_bit_model,\n",
    "                                        }"
   ]
  },
  {
   "cell_type": "code",
   "execution_count": null,
   "metadata": {
    "pycharm": {
     "name": "#%%\n"
    }
   },
   "outputs": [],
   "source": [
    "from assessment import ResultsReport\n",
    "model = read_sbml_into_cobra_model(\n",
    "    file_path = \"C:/Users/maria/Documents/GitHub/merlinv4_paper/Models/AuReMe/models/aureme_model3.xml\",\n",
    "    database_version = \"bigg\",\n",
    "    reconstruction_tool = ReconstructionTool.AUREME.value)\n",
    "\n",
    "print(\"Number of genes: \", len(model.model.genes))\n",
    "\n",
    "report_metanetx = ResultsReport(model, models_to_assess, conversion_method = \"metanetx\", reference_model_format = \"bigg\")\n",
    "\n",
    "report_model_seed = ResultsReport(model, models_to_assess, conversion_method = \"modelseed\", reference_model_format = \"bigg\")\n",
    "\n",
    "report_model_seed_model_seed = ResultsReport(model, models_to_assess, conversion_method = \"modelseed\", reference_model_format = \"modelseed\")"
   ]
  },
  {
   "cell_type": "code",
   "execution_count": null,
   "metadata": {
    "pycharm": {
     "name": "#%%\n"
    }
   },
   "outputs": [],
   "source": [
    "from assessment import ResultsReport\n",
    "model = read_sbml_into_cobra_model(\n",
    "    file_path = \"C:/Users/maria/Documents/GitHub/merlinv4_paper/Models/AuReMe/models/aureme_model3.xml\",\n",
    "    database_version = \"bigg\",\n",
    "    reconstruction_tool = ReconstructionTool.AUREME.value)\n",
    "\n",
    "print(\"Number of genes: \", len(model.model.genes))\n",
    "\n",
    "all_report_metanetx = ResultsReport(model, all_models_to_assess, conversion_method = \"metanetx\", reference_model_format = \"bigg\")\n",
    "\n",
    "all_report_metanetx.generate_reactions_report(\"C:/Users/maria/Documents/GitHub/merlinv4_paper/Results/AuReMe/aureme_metanetx_conversion_all_results.csv\")\n",
    "\n",
    "all_report_metanetx.generate_genes_report(\"C:/Users/maria/Documents/GitHub/merlinv4_paper/Results/AuReMe/aureme_genes_all_results.csv\")"
   ]
  },
  {
   "cell_type": "markdown",
   "metadata": {
    "pycharm": {
     "name": "#%% md\n"
    }
   },
   "source": [
    "## Merlin(BIT)"
   ]
  },
  {
   "cell_type": "code",
   "execution_count": null,
   "metadata": {
    "pycharm": {
     "name": "#%%\n"
    }
   },
   "outputs": [],
   "source": [
    "models_to_assess = {\n",
    "                    #\"merlin-BA\": merlin_blast_auto,\n",
    "                    #\"AuReMe\": aureme_model,\n",
    "                    #\"CarveMe\": carveme_model,\n",
    "                    #\"KBase\": kbase_model,\n",
    "                    \"merlin-BIT\": merlin_bit_model,\n",
    "                                        }"
   ]
  },
  {
   "cell_type": "code",
   "execution_count": null,
   "metadata": {
    "collapsed": false,
    "pycharm": {
     "name": "#%%\n"
    }
   },
   "outputs": [],
   "source": [
    "from assessment import ResultsReport\n",
    "model = read_sbml_into_cobra_model(\n",
    "    file_path = \"C:/Users/maria/Documents/GitHub/merlinv4_paper/Models/Merlin-BIT/BIT_model.xml\",\n",
    "    database_version = \"bigg\",\n",
    "    reconstruction_tool = ReconstructionTool.MERLIN.value)\n",
    "\n",
    "print(\"Number of genes: \", len(model.model.genes))\n",
    "\n",
    "report_metanetx = ResultsReport(model, models_to_assess, conversion_method = \"metanetx\", reference_model_format = \"bigg\")\n",
    "\n",
    "report_model_seed = ResultsReport(model, models_to_assess, conversion_method = \"modelseed\", reference_model_format = \"bigg\")\n",
    "\n",
    "report_model_seed_model_seed = ResultsReport(model, models_to_assess, conversion_method = \"modelseed\", reference_model_format = \"modelseed\")"
   ]
  },
  {
   "cell_type": "code",
   "execution_count": null,
   "metadata": {
    "collapsed": false,
    "pycharm": {
     "name": "#%%\n"
    }
   },
   "outputs": [],
   "source": [
    "from assessment import ResultsReport\n",
    "model = read_sbml_into_cobra_model(\n",
    "    file_path = \"C:/Users/maria/Documents/GitHub/merlinv4_paper/Models/Merlin-BIT/BIT_model.xml\",\n",
    "    database_version = \"bigg\",\n",
    "    reconstruction_tool = ReconstructionTool.MERLIN.value)\n",
    "\n",
    "print(\"Number of genes: \", len(model.model.genes))\n",
    "\n",
    "all_report_metanetx = ResultsReport(model, all_models_to_assess, conversion_method = \"metanetx\", reference_model_format = \"bigg\")\n",
    "\n",
    "all_report_metanetx.generate_reactions_report(\"C:/Users/maria/Documents/GitHub/merlinv4_paper/Results/Merlin-BIT/BIT_metanetx_conversion_all_results.csv\")\n",
    "\n",
    "all_report_metanetx.generate_genes_report(\"C:/Users/maria/Documents/GitHub/merlinv4_paper/Results/Merlin-BIT/BIT_genes_all_results.csv\")"
   ]
  }
 ],
 "metadata": {
  "kernelspec": {
   "display_name": "Python 3.7.9 ('py37')",
   "language": "python",
   "name": "python3"
  },
  "language_info": {
   "codemirror_mode": {
    "name": "ipython",
    "version": 3
   },
   "file_extension": ".py",
   "mimetype": "text/x-python",
   "name": "python",
   "nbconvert_exporter": "python",
   "pygments_lexer": "ipython3",
   "version": "3.7.9"
  },
  "vscode": {
   "interpreter": {
    "hash": "cae9815887408a27d2702aa054b93d7dfc1986a77f8459aae4135c55f66f90ce"
   }
  }
 },
 "nbformat": 4,
 "nbformat_minor": 0
}