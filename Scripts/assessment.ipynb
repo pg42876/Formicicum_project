{
 "cells": [
  {
   "cell_type": "code",
   "execution_count": null,
   "metadata": {
    "pycharm": {
     "name": "#%%\n"
    }
   },
   "outputs": [],
   "source": [
    "from core import read_sbml_into_cobra_model\n",
    "from utils import ReconstructionTool\n",
    "\n",
    "merlin_blast_auto = read_sbml_into_cobra_model(\n",
    "    file_path = \"C:/Users/maria/Documents/GitHub/merlinv4_paper/Models/Merlin-BA/merlin_model.xml\",\n",
    "    database_version = \"kegg\",\n",
    "    reconstruction_tool = ReconstructionTool.MERLIN.value)\n",
    "\n",
    "carveme_model = read_sbml_into_cobra_model(\n",
    "    file_path = \"C:/Users/maria/Documents/GitHub/merlinv4_paper/Models/CarveMe/models/model_carveme.xml\",\n",
    "    database_version = \"bigg\",\n",
    "    reconstruction_tool = ReconstructionTool.CARVEME.value)\n",
    "\n",
    "kbase_model = read_sbml_into_cobra_model(\n",
    "    file_path = \"C:/Users/maria/Documents/GitHub/merlinv4_paper/Models/KBase/model/kbase_model.xml\",\n",
    "    database_version = \"modelseed\",\n",
    "    reconstruction_tool = ReconstructionTool.MODELSEED.value)\n",
    "\n",
    "merlin_bit_model = read_sbml_into_cobra_model(\n",
    "    file_path = \"C:/Users/maria/Documents/GitHub/merlinv4_paper/Models/Merlin-BIT/BIT_model.xml\",\n",
    "    database_version = \"bigg\",\n",
    "    reconstruction_tool = ReconstructionTool.MERLIN.value)\n",
    "\n",
    "aureme_model = read_sbml_into_cobra_model(\n",
    "    file_path = \"C:/Users/maria/Documents/GitHub/merlinv4_paper/Models/AuReMe/models/aureme_model3.xml\",\n",
    "    database_version = \"bigg\",\n",
    "    reconstruction_tool = ReconstructionTool.AUREME.value)"
   ]
  },
  {
   "cell_type": "markdown",
   "metadata": {
    "pycharm": {
     "name": "#%% md\n"
    }
   },
   "source": [
    "##  Merlin"
   ]
  },
  {
   "cell_type": "code",
   "execution_count": 7,
   "metadata": {
    "collapsed": false,
    "pycharm": {
     "name": "#%%\n"
    }
   },
   "outputs": [],
   "source": [
    "models_to_assess = {\n",
    "                    \"merlin-BA\": merlin_blast_auto,\n",
    "                    #\"AuReMe\": aureme_model,\n",
    "                    #\"CarveMe\": carveme_model,\n",
    "                    #\"KBase\": kbase_model,\n",
    "                    #\"merlin-BIT\": merlin_bit_model,\n",
    "                                        }\n",
    "\n",
    "# Aqui até meti como comentário os modelos que não queria \"avaliar\" para ver se alguma coisa acontecia. Nada também"
   ]
  },
  {
   "cell_type": "code",
   "execution_count": 8,
   "metadata": {
    "collapsed": false,
    "pycharm": {
     "name": "#%%\n"
    }
   },
   "outputs": [],
   "source": [
    "all_models_to_assess = {\n",
    "                    \"merlin-BA\": merlin_blast_auto,\n",
    "                    \"AuReMe\": aureme_model,\n",
    "                    \"CarveMe\": carveme_model,\n",
    "                    \"KBase\": kbase_model,\n",
    "                    \"merlin-BIT\": merlin_bit_model,\n",
    "                                        }"
   ]
  },
  {
   "cell_type": "code",
   "execution_count": null,
   "metadata": {
    "pycharm": {
     "name": "#%%\n"
    }
   },
   "outputs": [],
   "source": [
    "from assessment import ResultsReport\n",
    "model = read_sbml_into_cobra_model(\n",
    "    file_path = \"C:/Users/maria/Documents/GitHub/merlinv4_paper/Models/Merlin-BA/merlin_model.xml\",\n",
    "    database_version = \"bigg\",\n",
    "    reconstruction_tool = ReconstructionTool.MERLIN.value)\n",
    "\n",
    "print(\"Number of genes: \", len(model.model.genes))\n",
    "\n",
    "report_metanetx = ResultsReport(model, models_to_assess, conversion_method = \"metanetx\", reference_model_format = \"bigg\")\n",
    "\n",
    "report_model_seed = ResultsReport(model, models_to_assess, conversion_method = \"modelseed\", reference_model_format = \"bigg\")\n",
    "\n",
    "report_model_seed_model_seed = ResultsReport(model, models_to_assess, conversion_method = \"modelseed\", reference_model_format = \"modelseed\")"
   ]
  },
  {
   "cell_type": "code",
   "execution_count": null,
   "metadata": {
    "pycharm": {
     "name": "#%%\n"
    }
   },
   "outputs": [],
   "source": [
    "from assessment import ResultsReport\n",
    "model = read_sbml_into_cobra_model(\n",
    "    file_path = \"C:/Users/maria/Documents/GitHub/merlinv4_paper/Models/Merlin-BA/merlin_model.xml\",\n",
    "    database_version = \"bigg\",\n",
    "    reconstruction_tool = ReconstructionTool.MERLIN.value)\n",
    "\n",
    "print(\"Number of genes: \", len(model.model.genes))\n",
    "\n",
    "all_report_metanetx = ResultsReport(model, all_models_to_assess, conversion_method = \"metanetx\", reference_model_format = \"bigg\")\n",
    "\n",
    "all_report_metanetx.generate_reactions_report(\"C:/Users/maria/Documents/GitHub/merlinv4_paper/Results/Merlin-BA/merlin_metanetx_conversion_all_results.csv\")\n",
    "\n",
    "all_report_metanetx.generate_genes_report(\"C:/Users/maria/Documents/GitHub/merlinv4_paper/Results/Merlin-BA/merlin_genes_all_results.csv\")"
   ]
  },
  {
   "cell_type": "markdown",
   "metadata": {
    "pycharm": {
     "name": "#%% md\n"
    }
   },
   "source": [
    "## CarveMe"
   ]
  },
  {
   "cell_type": "code",
   "execution_count": null,
   "metadata": {
    "pycharm": {
     "name": "#%%\n"
    }
   },
   "outputs": [],
   "source": [
    "models_to_assess = {\n",
    "                    #\"merlin-BA\": merlin_blast_auto,\n",
    "                    #\"AuReMe\": aureme_model,\n",
    "                    \"CarveMe\": carveme_model,\n",
    "                    #\"KBase\": kbase_model,\n",
    "                    #\"merlin-BIT\": merlin_bit_model,\n",
    "                                        }"
   ]
  },
  {
   "cell_type": "code",
   "execution_count": null,
   "metadata": {
    "pycharm": {
     "name": "#%%\n"
    }
   },
   "outputs": [],
   "source": [
    "from assessment import ResultsReport\n",
    "model = read_sbml_into_cobra_model(\n",
    "    file_path = \"C:/Users/maria/Documents/GitHub/merlinv4_paper/Models/CarveMe/models/model_carveme.xml\",\n",
    "    database_version = \"bigg\",\n",
    "    reconstruction_tool = ReconstructionTool.CARVEME.value)\n",
    "\n",
    "print(\"Number of genes: \", len(model.model.genes))\n",
    "\n",
    "report_metanetx = ResultsReport(model, models_to_assess, conversion_method = \"metanetx\", reference_model_format = \"bigg\")\n",
    "\n",
    "report_model_seed = ResultsReport(model, models_to_assess, conversion_method = \"modelseed\", reference_model_format = \"bigg\")\n",
    "\n",
    "report_model_seed_model_seed = ResultsReport(model, models_to_assess, conversion_method = \"modelseed\", reference_model_format = \"modelseed\")"
   ]
  },
  {
   "cell_type": "code",
   "execution_count": null,
   "metadata": {
    "pycharm": {
     "name": "#%%\n"
    }
   },
   "outputs": [],
   "source": [
    "from assessment import ResultsReport\n",
    "model = read_sbml_into_cobra_model(\n",
    "    file_path = \"C:/Users/maria/Documents/GitHub/merlinv4_paper/Models/CarveMe/models/model_carveme.xml\",\n",
    "    database_version = \"bigg\",\n",
    "    reconstruction_tool = ReconstructionTool.CARVEME.value)\n",
    "\n",
    "print(\"Number of genes: \", len(model.model.genes))\n",
    "\n",
    "all_report_metanetx = ResultsReport(model, all_models_to_assess, conversion_method = \"metanetx\", reference_model_format = \"bigg\")\n",
    "\n",
    "all_report_metanetx.generate_reactions_report(\"C:/Users/maria/Documents/GitHub/merlinv4_paper/Results/CarveMe/carveme_metanetx_conversion_all_results.csv\")\n",
    "\n",
    "all_report_metanetx.generate_genes_report(\"C:/Users/maria/Documents/GitHub/merlinv4_paper/Results/CarveMe/carveme_genes_all_results.csv\")"
   ]
  },
  {
   "cell_type": "markdown",
   "metadata": {
    "pycharm": {
     "name": "#%% md\n"
    }
   },
   "source": [
    "## KBase"
   ]
  },
  {
   "cell_type": "code",
   "execution_count": null,
   "metadata": {
    "pycharm": {
     "name": "#%%\n"
    }
   },
   "outputs": [],
   "source": [
    "models_to_assess = {\n",
    "                    #\"merlin-BA\": merlin_blast_auto,\n",
    "                    #\"AuReMe\": aureme_model,\n",
    "                    #\"CarveMe\": carveme_model,\n",
    "                    \"KBase\": kbase_model,\n",
    "                    #\"merlin-BIT\": merlin_bit_model,\n",
    "                                        }"
   ]
  },
  {
   "cell_type": "code",
   "execution_count": null,
   "metadata": {
    "pycharm": {
     "name": "#%%\n"
    }
   },
   "outputs": [],
   "source": [
    "from assessment import ResultsReport\n",
    "model = read_sbml_into_cobra_model(\n",
    "    file_path = \"C:/Users/maria/Documents/GitHub/merlinv4_paper/Models/KBase/model/kbase_model.xml\",\n",
    "    database_version = \"bigg\",\n",
    "    reconstruction_tool = ReconstructionTool.MODELSEED.value)\n",
    "print(\"Number of genes: \", len(model.model.genes))\n",
    "\n",
    "report_metanetx = ResultsReport(model, models_to_assess, conversion_method = \"metanetx\", reference_model_format = \"bigg\")\n",
    "\n",
    "report_model_seed = ResultsReport(model, models_to_assess, conversion_method = \"modelseed\", reference_model_format = \"bigg\")\n",
    "\n",
    "report_model_seed_model_seed = ResultsReport(model, models_to_assess, conversion_method = \"modelseed\", reference_model_format = \"modelseed\")"
   ]
  },
  {
   "cell_type": "code",
   "execution_count": null,
   "metadata": {
    "pycharm": {
     "name": "#%%\n"
    }
   },
   "outputs": [],
   "source": [
    "from assessment import ResultsReport\n",
    "model = read_sbml_into_cobra_model(\n",
    "    file_path = \"C:/Users/maria/Documents/GitHub/merlinv4_paper/Models/KBase/model/kbase_model.xml\",\n",
    "    database_version = \"bigg\",\n",
    "    reconstruction_tool = ReconstructionTool.MODELSEED.value)\n",
    "\n",
    "print(\"Number of genes: \", len(model.model.genes))\n",
    "\n",
    "all_report_metanetx = ResultsReport(model, all_models_to_assess, conversion_method = \"metanetx\", reference_model_format = \"bigg\")\n",
    "\n",
    "all_report_metanetx.generate_reactions_report(\"C:/Users/maria/Documents/GitHub/merlinv4_paper/Results/KBase/kbase_metanetx_conversion_all_results.csv\")\n",
    "\n",
    "all_report_metanetx.generate_genes_report(\"C:/Users/maria/Documents/GitHub/merlinv4_paper/Results/KBase/kbase_genes_all_results.csv\")"
   ]
  },
  {
   "cell_type": "markdown",
   "metadata": {
    "pycharm": {
     "name": "#%% md\n"
    }
   },
   "source": [
    "## AuReMe"
   ]
  },
  {
   "cell_type": "code",
   "execution_count": null,
   "metadata": {
    "pycharm": {
     "name": "#%%\n"
    }
   },
   "outputs": [],
   "source": [
    "models_to_assess = {\n",
    "                    #\"merlin-BA\": merlin_blast_auto,\n",
    "                    \"AuReMe\": aureme_model,\n",
    "                    #\"CarveMe\": carveme_model,\n",
    "                    #\"KBase\": kbase_model,\n",
    "                    #\"merlin-BIT\": merlin_bit_model,\n",
    "                                        }"
   ]
  },
  {
   "cell_type": "code",
   "execution_count": null,
   "metadata": {
    "pycharm": {
     "name": "#%%\n"
    }
   },
   "outputs": [],
   "source": [
    "from assessment import ResultsReport\n",
    "model = read_sbml_into_cobra_model(\n",
    "    file_path = \"C:/Users/maria/Documents/GitHub/merlinv4_paper/Models/AuReMe/models/aureme_model3.xml\",\n",
    "    database_version = \"bigg\",\n",
    "    reconstruction_tool = ReconstructionTool.AUREME.value)\n",
    "\n",
    "print(\"Number of genes: \", len(model.model.genes))\n",
    "\n",
    "report_metanetx = ResultsReport(model, models_to_assess, conversion_method = \"metanetx\", reference_model_format = \"bigg\")\n",
    "\n",
    "report_model_seed = ResultsReport(model, models_to_assess, conversion_method = \"modelseed\", reference_model_format = \"bigg\")\n",
    "\n",
    "report_model_seed_model_seed = ResultsReport(model, models_to_assess, conversion_method = \"modelseed\", reference_model_format = \"modelseed\")"
   ]
  },
  {
   "cell_type": "code",
   "execution_count": null,
   "metadata": {
    "pycharm": {
     "name": "#%%\n"
    }
   },
   "outputs": [],
   "source": [
    "from assessment import ResultsReport\n",
    "model = read_sbml_into_cobra_model(\n",
    "    file_path = \"C:/Users/maria/Documents/GitHub/merlinv4_paper/Models/AuReMe/models/aureme_model3.xml\",\n",
    "    database_version = \"bigg\",\n",
    "    reconstruction_tool = ReconstructionTool.AUREME.value)\n",
    "\n",
    "print(\"Number of genes: \", len(model.model.genes))\n",
    "\n",
    "all_report_metanetx = ResultsReport(model, all_models_to_assess, conversion_method = \"metanetx\", reference_model_format = \"bigg\")\n",
    "\n",
    "all_report_metanetx.generate_reactions_report(\"C:/Users/maria/Documents/GitHub/merlinv4_paper/Results/AuReMe/aureme_metanetx_conversion_all_results.csv\")\n",
    "\n",
    "all_report_metanetx.generate_genes_report(\"C:/Users/maria/Documents/GitHub/merlinv4_paper/Results/AuReMe/aureme_genes_all_results.csv\")"
   ]
  },
  {
   "cell_type": "markdown",
   "metadata": {
    "pycharm": {
     "name": "#%% md\n"
    }
   },
   "source": [
    "## Merlin(BIT)"
   ]
  },
  {
   "cell_type": "code",
   "execution_count": null,
   "metadata": {
    "pycharm": {
     "name": "#%%\n"
    }
   },
   "outputs": [],
   "source": [
    "models_to_assess = {\n",
    "                    #\"merlin-BA\": merlin_blast_auto,\n",
    "                    #\"AuReMe\": aureme_model,\n",
    "                    #\"CarveMe\": carveme_model,\n",
    "                    #\"KBase\": kbase_model,\n",
    "                    \"merlin-BIT\": merlin_bit_model,\n",
    "                                        }"
   ]
  },
  {
   "cell_type": "code",
   "execution_count": null,
   "metadata": {
    "collapsed": false,
    "pycharm": {
     "name": "#%%\n"
    }
   },
   "outputs": [],
   "source": [
    "from assessment import ResultsReport\n",
    "model = read_sbml_into_cobra_model(\n",
    "    file_path = \"C:/Users/maria/Documents/GitHub/merlinv4_paper/Models/Merlin-BIT/BIT_model.xml\",\n",
    "    database_version = \"bigg\",\n",
    "    reconstruction_tool = ReconstructionTool.MERLIN.value)\n",
    "\n",
    "print(\"Number of genes: \", len(model.model.genes))\n",
    "\n",
    "report_metanetx = ResultsReport(model, models_to_assess, conversion_method = \"metanetx\", reference_model_format = \"bigg\")\n",
    "\n",
    "report_model_seed = ResultsReport(model, models_to_assess, conversion_method = \"modelseed\", reference_model_format = \"bigg\")\n",
    "\n",
    "report_model_seed_model_seed = ResultsReport(model, models_to_assess, conversion_method = \"modelseed\", reference_model_format = \"modelseed\")"
   ]
  },
  {
   "cell_type": "code",
   "execution_count": null,
   "metadata": {
    "collapsed": false,
    "pycharm": {
     "name": "#%%\n"
    }
   },
   "outputs": [],
   "source": [
    "from assessment import ResultsReport\n",
    "model = read_sbml_into_cobra_model(\n",
    "    file_path = \"C:/Users/maria/Documents/GitHub/merlinv4_paper/Models/Merlin-BIT/BIT_model.xml\",\n",
    "    database_version = \"bigg\",\n",
    "    reconstruction_tool = ReconstructionTool.MERLIN.value)\n",
    "\n",
    "print(\"Number of genes: \", len(model.model.genes))\n",
    "\n",
    "all_report_metanetx = ResultsReport(model, all_models_to_assess, conversion_method = \"metanetx\", reference_model_format = \"bigg\")\n",
    "\n",
    "all_report_metanetx.generate_reactions_report(\"C:/Users/maria/Documents/GitHub/merlinv4_paper/Results/Merlin-BIT/BIT_metanetx_conversion_all_results.csv\")\n",
    "\n",
    "all_report_metanetx.generate_genes_report(\"C:/Users/maria/Documents/GitHub/merlinv4_paper/Results/Merlin-BIT/BIT_genes_all_results.csv\")"
   ]
  }
 ],
 "metadata": {
  "kernelspec": {
   "display_name": "Python 3.7.9 ('py37')",
   "language": "python",
   "name": "python3"
  },
  "language_info": {
   "codemirror_mode": {
    "name": "ipython",
    "version": 3
   },
   "file_extension": ".py",
   "mimetype": "text/x-python",
   "name": "python",
   "nbconvert_exporter": "python",
   "pygments_lexer": "ipython3",
   "version": "3.7.9"
  },
  "vscode": {
   "interpreter": {
    "hash": "cae9815887408a27d2702aa054b93d7dfc1986a77f8459aae4135c55f66f90ce"
   }
  }
 },
 "nbformat": 4,
 "nbformat_minor": 0
}