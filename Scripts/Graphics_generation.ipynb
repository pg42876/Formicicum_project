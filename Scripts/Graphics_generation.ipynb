{
 "cells": [
  {
   "cell_type": "code",
   "execution_count": null,
   "metadata": {
    "collapsed": true,
    "pycharm": {
     "name": "#%%\n"
    }
   },
   "outputs": [],
   "source": [
    "import pandas as pd\n",
    "import matplotlib\n",
    "import seaborn\n",
    "from pandas import DataFrame"
   ]
  },
  {
   "cell_type": "code",
   "execution_count": null,
   "outputs": [],
   "source": [
    "def generate_plots(results_path, x_var, y_var, figure_path):\n",
    "    results = pd.read_csv(results_path)\n",
    "    matplotlib.pyplot.clf()\n",
    "    dotplot = seaborn.scatterplot(data = results, x = x_var, y = y_var, hue = \"model\", style = \"model\", s = 115,\n",
    "                                  sizes = (50, 100), palette = \"crest\", legend = \"full\")\n",
    "    dotplot.legend(loc = 'center right', bbox_to_anchor = (1.4, 0.60), facecolor = \"inherit\",\n",
    "                   edgecolor = \"inherit\", ncol = 1, fontsize = 10)\n",
    "\n",
    "    dotplot.tick_params(axis = 'x', rotation = 20, labelsize = \"x-small\")\n",
    "    dotplot.tick_params(axis = 'y', rotation = 20, labelsize = \"x-small\")\n",
    "    matplotlib.pyplot.xlabel(\"Jaccard Distance\", fontsize = 13)\n",
    "    matplotlib.pyplot.ylabel(\"ratio\", fontsize = 13)\n",
    "\n",
    "    figure = dotplot.get_figure()\n",
    "    figure.savefig(figure_path, dpi = 1200, bbox_inches = \"tight\")"
   ],
   "metadata": {
    "collapsed": false,
    "pycharm": {
     "name": "#%%\n"
    }
   }
  },
  {
   "cell_type": "code",
   "execution_count": null,
   "outputs": [],
   "source": [
    "def generate_metrics_plots(results_path, figure_path):\n",
    "    results = pd.read_csv(results_path)\n",
    "    df = DataFrame(columns = [\"model\", \"metric\", \"metric value\"])\n",
    "    j=0\n",
    "    results = results.sort_values(by = \"f1\", ascending = False)\n",
    "    for i, row in results.iterrows():\n",
    "        for metric in [\"f1\", \"recall\", \"precision\"]:\n",
    "\n",
    "            df.at[j, \"model\"] = row[\"model\"]\n",
    "            df.at[j, \"metric\"] = metric\n",
    "            df.at[j, \"metric value\"] = row[metric]\n",
    "\n",
    "            j+=1\n",
    "\n",
    "    plot = seaborn.catplot(x = 'model', y = 'metric value', hue = 'metric', data = df,\n",
    "                           kind = 'bar', palette = \"colorblind\")\n",
    "    seaborn.move_legend(plot, \"center right\", bbox_to_anchor = (1.1, 1), fontsize = 13)\n",
    "    plot.set_xticklabels(rotation = 70, fontsize = 13)\n",
    "    matplotlib.pyplot.xlabel(\"model\", fontsize = 13)\n",
    "    matplotlib.pyplot.ylabel(\"metric value\" , fontsize = 13)\n",
    "    plot.set(ylim = (0, 1))\n",
    "    plot.fig.tight_layout()\n",
    "    figure = plot.fig.get_figure()\n",
    "    figure.savefig(figure_path, dpi = 1200, bbox_inches = \"tight\")"
   ],
   "metadata": {
    "collapsed": false,
    "pycharm": {
     "name": "#%%\n"
    }
   }
  },
  {
   "cell_type": "markdown",
   "source": [
    "## AuReMe"
   ],
   "metadata": {
    "collapsed": false,
    "pycharm": {
     "name": "#%% md\n"
    }
   }
  },
  {
   "cell_type": "code",
   "execution_count": null,
   "outputs": [],
   "source": [
    "generate_metrics_plots(\"../Results/AuReMe/aureme_metanetx_conversion_all_results.csv\",\n",
    "                       \"../Results/AuReMe/reactions_bar_plot.png\")"
   ],
   "metadata": {
    "collapsed": false,
    "pycharm": {
     "name": "#%%\n"
    }
   }
  },
  {
   "cell_type": "code",
   "execution_count": null,
   "outputs": [],
   "source": [
    "generate_plots(\"../Results/AuReMe/aureme_metanetx_conversion_all_results.csv\",\n",
    "               \"Jaccard Distance\", \"Ratio\",\n",
    "               \"../Results/AuReMe/reactions_dot_plot.png\")"
   ],
   "metadata": {
    "collapsed": false,
    "pycharm": {
     "name": "#%%\n"
    }
   }
  },
  {
   "cell_type": "code",
   "execution_count": null,
   "outputs": [],
   "source": [
    "generate_metrics_plots(\"../Results/AuReMe/aureme_genes_all_results.csv\",\n",
    "                       \"../Results/AuReMe/genes_bar_plot.png\")"
   ],
   "metadata": {
    "collapsed": false,
    "pycharm": {
     "name": "#%%\n"
    }
   }
  },
  {
   "cell_type": "code",
   "execution_count": null,
   "outputs": [],
   "source": [
    "generate_plots(\"../Results/AuReMe/aureme_genes_all_results.csv\",\n",
    "               \"Jaccard Distance\", \"Ratio\",\n",
    "               \"../Results/AuReMe/genes_dot_plot.png\")"
   ],
   "metadata": {
    "collapsed": false,
    "pycharm": {
     "name": "#%%\n"
    }
   }
  },
  {
   "cell_type": "markdown",
   "source": [
    "## CarveMe"
   ],
   "metadata": {
    "collapsed": false,
    "pycharm": {
     "name": "#%% md\n"
    }
   }
  },
  {
   "cell_type": "code",
   "execution_count": null,
   "outputs": [],
   "source": [
    "generate_metrics_plots(\"../Results/CarveMe/carveme_metanetx_conversion_all_results.csv\",\n",
    "                       \"../Results/CarveMe/reactions_bar_plot.png\")"
   ],
   "metadata": {
    "collapsed": false,
    "pycharm": {
     "name": "#%%\n"
    }
   }
  },
  {
   "cell_type": "code",
   "execution_count": null,
   "outputs": [],
   "source": [
    "generate_plots(\"../Results/CarveMe/carveme_metanetx_conversion_all_results.csv\",\n",
    "               \"Jaccard Distance\", \"Ratio\",\n",
    "               \"../Results/CarveMe/reactions_dot_plot.png\")"
   ],
   "metadata": {
    "collapsed": false,
    "pycharm": {
     "name": "#%%\n"
    }
   }
  },
  {
   "cell_type": "code",
   "execution_count": null,
   "outputs": [],
   "source": [
    "generate_metrics_plots(\"../Results/CarveMe/carveme_genes_all_results.csv\",\n",
    "                       \"../Results/CarveMe/genes_bar_plot.png\")"
   ],
   "metadata": {
    "collapsed": false,
    "pycharm": {
     "name": "#%%\n"
    }
   }
  },
  {
   "cell_type": "code",
   "execution_count": null,
   "outputs": [],
   "source": [
    "generate_plots(\"../Results/CarveMe/carveme_genes_all_results.csv\",\n",
    "               \"Jaccard Distance\", \"Ratio\",\n",
    "               \"../Results/CarveMe/genes_dot_plot.png\")"
   ],
   "metadata": {
    "collapsed": false,
    "pycharm": {
     "name": "#%%\n"
    }
   }
  },
  {
   "cell_type": "markdown",
   "source": [
    "## KBase"
   ],
   "metadata": {
    "collapsed": false,
    "pycharm": {
     "name": "#%% md\n"
    }
   }
  },
  {
   "cell_type": "code",
   "execution_count": null,
   "outputs": [],
   "source": [
    "generate_metrics_plots(\"../Results/KBase/kbase_metanetx_conversion_all_results.csv\",\n",
    "                       \"../Results/KBase/reactions_bar_plot.png\")"
   ],
   "metadata": {
    "collapsed": false,
    "pycharm": {
     "name": "#%%\n"
    }
   }
  },
  {
   "cell_type": "code",
   "execution_count": null,
   "outputs": [],
   "source": [
    "generate_plots(\"../Results/KBase/kbase_metanetx_conversion_all_results.csv\",\n",
    "               \"Jaccard Distance\", \"Ratio\",\n",
    "               \"../Results/KBase/reactions_dot_plot.png\")"
   ],
   "metadata": {
    "collapsed": false,
    "pycharm": {
     "name": "#%%\n"
    }
   }
  },
  {
   "cell_type": "code",
   "execution_count": null,
   "outputs": [],
   "source": [
    "generate_metrics_plots(\"../Results/KBase/kbase_genes_all_results.csv\",\n",
    "                       \"../Results/KBase/genes_bar_plot.png\")"
   ],
   "metadata": {
    "collapsed": false,
    "pycharm": {
     "name": "#%%\n"
    }
   }
  },
  {
   "cell_type": "code",
   "execution_count": null,
   "outputs": [],
   "source": [
    "generate_plots(\"../Results/KBase/kbase_genes_all_results.csv\",\n",
    "               \"Jaccard Distance\", \"Ratio\",\n",
    "               \"../Results/KBase/genes_dot_plot.png\")"
   ],
   "metadata": {
    "collapsed": false,
    "pycharm": {
     "name": "#%%\n"
    }
   }
  },
  {
   "cell_type": "markdown",
   "source": [
    "## Merlin"
   ],
   "metadata": {
    "collapsed": false,
    "pycharm": {
     "name": "#%% md\n"
    }
   }
  },
  {
   "cell_type": "code",
   "execution_count": null,
   "outputs": [],
   "source": [
    "generate_metrics_plots(\"../Results/Merlin-BA/merlin_metanetx_conversion_all_results.csv\",\n",
    "                       \"../Results/Merlin-BA/reactions_bar_plot.png\")"
   ],
   "metadata": {
    "collapsed": false,
    "pycharm": {
     "name": "#%%\n"
    }
   }
  },
  {
   "cell_type": "code",
   "execution_count": null,
   "outputs": [],
   "source": [
    "generate_plots(\"../Results/Merlin-BA/merlin_metanetx_conversion_all_results.csv\",\n",
    "               \"Jaccard Distance\", \"Ratio\",\n",
    "               \"../Results/Merlin-BA/reactions_dot_plot.png\")"
   ],
   "metadata": {
    "collapsed": false,
    "pycharm": {
     "name": "#%%\n"
    }
   }
  },
  {
   "cell_type": "code",
   "execution_count": null,
   "outputs": [],
   "source": [
    "generate_metrics_plots(\"../Results/Merlin-BA/merlin_genes_all_results.csv\",\n",
    "                       \"../Results/Merlin-BA/genes_bar_plot.png\")"
   ],
   "metadata": {
    "collapsed": false,
    "pycharm": {
     "name": "#%%\n"
    }
   }
  },
  {
   "cell_type": "code",
   "execution_count": null,
   "outputs": [],
   "source": [
    "generate_plots(\"../Results/Merlin-BA/merlin_genes_all_results.csv\",\n",
    "               \"Jaccard Distance\", \"Ratio\",\n",
    "               \"../Results/Merlin-BA/genes_dot_plot.png\")"
   ],
   "metadata": {
    "collapsed": false,
    "pycharm": {
     "name": "#%%\n"
    }
   }
  },
  {
   "cell_type": "markdown",
   "source": [
    "## Merlin (BIT)"
   ],
   "metadata": {
    "collapsed": false,
    "pycharm": {
     "name": "#%% md\n"
    }
   }
  },
  {
   "cell_type": "code",
   "execution_count": null,
   "outputs": [],
   "source": [
    "generate_metrics_plots(\"../Results/Merlin-BIT/BIT_metanetx_conversion_all_results.csv\",\n",
    "                       \"../Results/Merlin-BIT/reactions_bar_plot.png\")"
   ],
   "metadata": {
    "collapsed": false,
    "pycharm": {
     "name": "#%%\n"
    }
   }
  },
  {
   "cell_type": "code",
   "execution_count": null,
   "outputs": [],
   "source": [
    "generate_plots(\"../Results/Merlin-BIT/BIT_metanetx_conversion_all_results.csv\",\n",
    "               \"Jaccard Distance\", \"Ratio\",\n",
    "               \"../Results/Merlin-BIT/reactions_dot_plot.png\")"
   ],
   "metadata": {
    "collapsed": false,
    "pycharm": {
     "name": "#%%\n"
    }
   }
  },
  {
   "cell_type": "code",
   "execution_count": null,
   "outputs": [],
   "source": [
    "generate_metrics_plots(\"../Results/Merlin-BIT/BIT_genes_all_results.csv\",\n",
    "                       \"../Results/Merlin-BIT/genes_bar_plot.png\")"
   ],
   "metadata": {
    "collapsed": false,
    "pycharm": {
     "name": "#%%\n"
    }
   }
  },
  {
   "cell_type": "code",
   "execution_count": null,
   "outputs": [],
   "source": [
    "generate_plots(\"../Results/Merlin-BIT/BIT_genes_all_results.csv\",\n",
    "               \"Jaccard Distance\", \"Ratio\",\n",
    "               \"../Results/Merlin-BIT/genes_dot_plot.png\")"
   ],
   "metadata": {
    "collapsed": false,
    "pycharm": {
     "name": "#%%\n"
    }
   }
  }
 ],
 "metadata": {
  "kernelspec": {
   "display_name": "Python 3",
   "language": "python",
   "name": "python3"
  },
  "language_info": {
   "codemirror_mode": {
    "name": "ipython",
    "version": 2
   },
   "file_extension": ".py",
   "mimetype": "text/x-python",
   "name": "python",
   "nbconvert_exporter": "python",
   "pygments_lexer": "ipython2",
   "version": "2.7.6"
  }
 },
 "nbformat": 4,
 "nbformat_minor": 0
}