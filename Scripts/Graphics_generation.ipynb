{
 "cells": [
  {
   "cell_type": "code",
   "execution_count": 1,
   "metadata": {
    "collapsed": true,
    "pycharm": {
     "name": "#%%\n"
    }
   },
   "outputs": [],
   "source": [
    "import pandas as pd\n",
    "import matplotlib\n",
    "import seaborn\n",
    "from pandas import DataFrame"
   ]
  },
  {
   "cell_type": "code",
   "execution_count": 2,
   "outputs": [],
   "source": [
    "def generate_plots(results_path, x_var, y_var, figure_path):\n",
    "    results = pd.read_csv(results_path)\n",
    "    matplotlib.pyplot.clf()\n",
    "    dotplot = seaborn.scatterplot(data = results, x = x_var, y = y_var, hue = \"model\", style = \"model\", s = 115,\n",
    "                                  sizes = (50, 100), palette = \"crest\", legend = \"full\")\n",
    "    dotplot.legend(loc = 'center right', bbox_to_anchor = (1.4, 0.60), facecolor = \"inherit\",\n",
    "                   edgecolor = \"inherit\", ncol = 1, fontsize = 10)\n",
    "\n",
    "    dotplot.tick_params(axis = 'x', rotation = 20, labelsize = \"x-small\")\n",
    "    dotplot.tick_params(axis = 'y', rotation = 20, labelsize = \"x-small\")\n",
    "    matplotlib.pyplot.xlabel(\"Jaccard Distance\", fontsize = 13)\n",
    "    matplotlib.pyplot.ylabel(\"ratio\", fontsize = 13)\n",
    "\n",
    "    figure = dotplot.get_figure()\n",
    "    figure.savefig(figure_path, dpi = 1200, bbox_inches = \"tight\")"
   ],
   "metadata": {
    "collapsed": false,
    "pycharm": {
     "name": "#%%\n"
    }
   }
  },
  {
   "cell_type": "code",
   "execution_count": 3,
   "outputs": [],
   "source": [
    "def generate_metrics_plots(results_path, figure_path):\n",
    "    results = pd.read_csv(results_path)\n",
    "    df = DataFrame(columns = [\"model\", \"metric\", \"metric value\"])\n",
    "    j=0\n",
    "    results = results.sort_values(by = \"f1\", ascending = False)\n",
    "    for i, row in results.iterrows():\n",
    "        for metric in [\"f1\", \"recall\", \"precision\"]:\n",
    "\n",
    "            df.at[j, \"model\"] = row[\"model\"]\n",
    "            df.at[j, \"metric\"] = metric\n",
    "            df.at[j, \"metric value\"] = row[metric]\n",
    "\n",
    "            j+=1\n",
    "\n",
    "    plot = seaborn.catplot(x = 'model', y = 'metric value', hue = 'metric', data = df,\n",
    "                           kind = 'bar', palette = \"colorblind\")\n",
    "    seaborn.move_legend(plot, \"center right\", bbox_to_anchor = (1.1, 1), fontsize = 13)\n",
    "    plot.set_xticklabels(rotation = 70, fontsize = 13)\n",
    "    matplotlib.pyplot.xlabel(\"model\", fontsize = 13)\n",
    "    matplotlib.pyplot.ylabel(\"metric value\" , fontsize = 13)\n",
    "    plot.set(ylim = (0, 1))\n",
    "    plot.fig.tight_layout()\n",
    "    figure = plot.fig.get_figure()\n",
    "    figure.savefig(figure_path, dpi = 1200, bbox_inches = \"tight\")"
   ],
   "metadata": {
    "collapsed": false,
    "pycharm": {
     "name": "#%%\n"
    }
   }
  },
  {
   "cell_type": "markdown",
   "source": [
    "## AuReMe"
   ],
   "metadata": {
    "collapsed": false,
    "pycharm": {
     "name": "#%% md\n"
    }
   }
  },
  {
   "cell_type": "code",
   "execution_count": 4,
   "outputs": [
    {
     "ename": "KeyError",
     "evalue": "'f1'",
     "output_type": "error",
     "traceback": [
      "\u001B[1;31m---------------------------------------------------------------------------\u001B[0m",
      "\u001B[1;31mKeyError\u001B[0m                                  Traceback (most recent call last)",
      "\u001B[1;32m~\\AppData\\Local\\Temp\\ipykernel_6756\\1289659159.py\u001B[0m in \u001B[0;36m<module>\u001B[1;34m\u001B[0m\n\u001B[0;32m      1\u001B[0m generate_metrics_plots(\"../Results/kegg_functional_ids.tsv\",\n\u001B[1;32m----> 2\u001B[1;33m                        \"../Results/AuReMe/reactions_bar_plot.png\")\n\u001B[0m",
      "\u001B[1;32m~\\AppData\\Local\\Temp\\ipykernel_6756\\3630579618.py\u001B[0m in \u001B[0;36mgenerate_metrics_plots\u001B[1;34m(results_path, figure_path)\u001B[0m\n\u001B[0;32m      3\u001B[0m     \u001B[0mdf\u001B[0m \u001B[1;33m=\u001B[0m \u001B[0mDataFrame\u001B[0m\u001B[1;33m(\u001B[0m\u001B[0mcolumns\u001B[0m \u001B[1;33m=\u001B[0m \u001B[1;33m[\u001B[0m\u001B[1;34m\"model\"\u001B[0m\u001B[1;33m,\u001B[0m \u001B[1;34m\"metric\"\u001B[0m\u001B[1;33m,\u001B[0m \u001B[1;34m\"metric value\"\u001B[0m\u001B[1;33m]\u001B[0m\u001B[1;33m)\u001B[0m\u001B[1;33m\u001B[0m\u001B[1;33m\u001B[0m\u001B[0m\n\u001B[0;32m      4\u001B[0m     \u001B[0mj\u001B[0m\u001B[1;33m=\u001B[0m\u001B[1;36m0\u001B[0m\u001B[1;33m\u001B[0m\u001B[1;33m\u001B[0m\u001B[0m\n\u001B[1;32m----> 5\u001B[1;33m     \u001B[0mresults\u001B[0m \u001B[1;33m=\u001B[0m \u001B[0mresults\u001B[0m\u001B[1;33m.\u001B[0m\u001B[0msort_values\u001B[0m\u001B[1;33m(\u001B[0m\u001B[0mby\u001B[0m \u001B[1;33m=\u001B[0m \u001B[1;34m\"f1\"\u001B[0m\u001B[1;33m,\u001B[0m \u001B[0mascending\u001B[0m \u001B[1;33m=\u001B[0m \u001B[1;32mFalse\u001B[0m\u001B[1;33m)\u001B[0m\u001B[1;33m\u001B[0m\u001B[1;33m\u001B[0m\u001B[0m\n\u001B[0m\u001B[0;32m      6\u001B[0m     \u001B[1;32mfor\u001B[0m \u001B[0mi\u001B[0m\u001B[1;33m,\u001B[0m \u001B[0mrow\u001B[0m \u001B[1;32min\u001B[0m \u001B[0mresults\u001B[0m\u001B[1;33m.\u001B[0m\u001B[0miterrows\u001B[0m\u001B[1;33m(\u001B[0m\u001B[1;33m)\u001B[0m\u001B[1;33m:\u001B[0m\u001B[1;33m\u001B[0m\u001B[1;33m\u001B[0m\u001B[0m\n\u001B[0;32m      7\u001B[0m         \u001B[1;32mfor\u001B[0m \u001B[0mmetric\u001B[0m \u001B[1;32min\u001B[0m \u001B[1;33m[\u001B[0m\u001B[1;34m\"f1\"\u001B[0m\u001B[1;33m,\u001B[0m \u001B[1;34m\"recall\"\u001B[0m\u001B[1;33m,\u001B[0m \u001B[1;34m\"precision\"\u001B[0m\u001B[1;33m]\u001B[0m\u001B[1;33m:\u001B[0m\u001B[1;33m\u001B[0m\u001B[1;33m\u001B[0m\u001B[0m\n",
      "\u001B[1;32m~\\.conda\\envs\\py37\\lib\\site-packages\\pandas\\util\\_decorators.py\u001B[0m in \u001B[0;36mwrapper\u001B[1;34m(*args, **kwargs)\u001B[0m\n\u001B[0;32m    309\u001B[0m                     \u001B[0mstacklevel\u001B[0m\u001B[1;33m=\u001B[0m\u001B[0mstacklevel\u001B[0m\u001B[1;33m,\u001B[0m\u001B[1;33m\u001B[0m\u001B[1;33m\u001B[0m\u001B[0m\n\u001B[0;32m    310\u001B[0m                 )\n\u001B[1;32m--> 311\u001B[1;33m             \u001B[1;32mreturn\u001B[0m \u001B[0mfunc\u001B[0m\u001B[1;33m(\u001B[0m\u001B[1;33m*\u001B[0m\u001B[0margs\u001B[0m\u001B[1;33m,\u001B[0m \u001B[1;33m**\u001B[0m\u001B[0mkwargs\u001B[0m\u001B[1;33m)\u001B[0m\u001B[1;33m\u001B[0m\u001B[1;33m\u001B[0m\u001B[0m\n\u001B[0m\u001B[0;32m    312\u001B[0m \u001B[1;33m\u001B[0m\u001B[0m\n\u001B[0;32m    313\u001B[0m         \u001B[1;32mreturn\u001B[0m \u001B[0mwrapper\u001B[0m\u001B[1;33m\u001B[0m\u001B[1;33m\u001B[0m\u001B[0m\n",
      "\u001B[1;32m~\\.conda\\envs\\py37\\lib\\site-packages\\pandas\\core\\frame.py\u001B[0m in \u001B[0;36msort_values\u001B[1;34m(self, by, axis, ascending, inplace, kind, na_position, ignore_index, key)\u001B[0m\n\u001B[0;32m   6257\u001B[0m \u001B[1;33m\u001B[0m\u001B[0m\n\u001B[0;32m   6258\u001B[0m             \u001B[0mby\u001B[0m \u001B[1;33m=\u001B[0m \u001B[0mby\u001B[0m\u001B[1;33m[\u001B[0m\u001B[1;36m0\u001B[0m\u001B[1;33m]\u001B[0m\u001B[1;33m\u001B[0m\u001B[1;33m\u001B[0m\u001B[0m\n\u001B[1;32m-> 6259\u001B[1;33m             \u001B[0mk\u001B[0m \u001B[1;33m=\u001B[0m \u001B[0mself\u001B[0m\u001B[1;33m.\u001B[0m\u001B[0m_get_label_or_level_values\u001B[0m\u001B[1;33m(\u001B[0m\u001B[0mby\u001B[0m\u001B[1;33m,\u001B[0m \u001B[0maxis\u001B[0m\u001B[1;33m=\u001B[0m\u001B[0maxis\u001B[0m\u001B[1;33m)\u001B[0m\u001B[1;33m\u001B[0m\u001B[1;33m\u001B[0m\u001B[0m\n\u001B[0m\u001B[0;32m   6260\u001B[0m \u001B[1;33m\u001B[0m\u001B[0m\n\u001B[0;32m   6261\u001B[0m             \u001B[1;31m# need to rewrap column in Series to apply key function\u001B[0m\u001B[1;33m\u001B[0m\u001B[1;33m\u001B[0m\u001B[1;33m\u001B[0m\u001B[0m\n",
      "\u001B[1;32m~\\.conda\\envs\\py37\\lib\\site-packages\\pandas\\core\\generic.py\u001B[0m in \u001B[0;36m_get_label_or_level_values\u001B[1;34m(self, key, axis)\u001B[0m\n\u001B[0;32m   1777\u001B[0m             \u001B[0mvalues\u001B[0m \u001B[1;33m=\u001B[0m \u001B[0mself\u001B[0m\u001B[1;33m.\u001B[0m\u001B[0maxes\u001B[0m\u001B[1;33m[\u001B[0m\u001B[0maxis\u001B[0m\u001B[1;33m]\u001B[0m\u001B[1;33m.\u001B[0m\u001B[0mget_level_values\u001B[0m\u001B[1;33m(\u001B[0m\u001B[0mkey\u001B[0m\u001B[1;33m)\u001B[0m\u001B[1;33m.\u001B[0m\u001B[0m_values\u001B[0m\u001B[1;33m\u001B[0m\u001B[1;33m\u001B[0m\u001B[0m\n\u001B[0;32m   1778\u001B[0m         \u001B[1;32melse\u001B[0m\u001B[1;33m:\u001B[0m\u001B[1;33m\u001B[0m\u001B[1;33m\u001B[0m\u001B[0m\n\u001B[1;32m-> 1779\u001B[1;33m             \u001B[1;32mraise\u001B[0m \u001B[0mKeyError\u001B[0m\u001B[1;33m(\u001B[0m\u001B[0mkey\u001B[0m\u001B[1;33m)\u001B[0m\u001B[1;33m\u001B[0m\u001B[1;33m\u001B[0m\u001B[0m\n\u001B[0m\u001B[0;32m   1780\u001B[0m \u001B[1;33m\u001B[0m\u001B[0m\n\u001B[0;32m   1781\u001B[0m         \u001B[1;31m# Check for duplicates\u001B[0m\u001B[1;33m\u001B[0m\u001B[1;33m\u001B[0m\u001B[1;33m\u001B[0m\u001B[0m\n",
      "\u001B[1;31mKeyError\u001B[0m: 'f1'"
     ]
    }
   ],
   "source": [
    "generate_metrics_plots(\"../Results/kegg_functional_ids.tsv\",\n",
    "                       \"../Results/AuReMe/reactions_bar_plot.png\")"
   ],
   "metadata": {
    "collapsed": false,
    "pycharm": {
     "name": "#%%\n"
    }
   }
  },
  {
   "cell_type": "code",
   "execution_count": null,
   "outputs": [],
   "source": [
    "generate_plots(\"../Results/AuReMe/aureme_metanetx_conversion_all_results.csv\",\n",
    "               \"Jaccard Distance\", \"Ratio\",\n",
    "               \"../Results/AuReMe/reactions_dot_plot.png\")"
   ],
   "metadata": {
    "collapsed": false,
    "pycharm": {
     "name": "#%%\n"
    }
   }
  },
  {
   "cell_type": "code",
   "execution_count": null,
   "outputs": [],
   "source": [
    "generate_metrics_plots(\"../Results/AuReMe/aureme_genes_all_results.csv\",\n",
    "                       \"../Results/AuReMe/genes_bar_plot.png\")"
   ],
   "metadata": {
    "collapsed": false,
    "pycharm": {
     "name": "#%%\n"
    }
   }
  },
  {
   "cell_type": "code",
   "execution_count": null,
   "outputs": [],
   "source": [
    "generate_plots(\"../Results/AuReMe/aureme_genes_all_results.csv\",\n",
    "               \"Jaccard Distance\", \"Ratio\",\n",
    "               \"../Results/AuReMe/genes_dot_plot.png\")"
   ],
   "metadata": {
    "collapsed": false,
    "pycharm": {
     "name": "#%%\n"
    }
   }
  },
  {
   "cell_type": "markdown",
   "source": [
    "## CarveMe"
   ],
   "metadata": {
    "collapsed": false,
    "pycharm": {
     "name": "#%% md\n"
    }
   }
  },
  {
   "cell_type": "code",
   "execution_count": null,
   "outputs": [],
   "source": [
    "generate_metrics_plots(\"../Results/CarveMe/carveme_metanetx_conversion_all_results.csv\",\n",
    "                       \"../Results/CarveMe/reactions_bar_plot.png\")"
   ],
   "metadata": {
    "collapsed": false,
    "pycharm": {
     "name": "#%%\n"
    }
   }
  },
  {
   "cell_type": "code",
   "execution_count": null,
   "outputs": [],
   "source": [
    "generate_plots(\"../Results/CarveMe/carveme_metanetx_conversion_all_results.csv\",\n",
    "               \"Jaccard Distance\", \"Ratio\",\n",
    "               \"../Results/CarveMe/reactions_dot_plot.png\")"
   ],
   "metadata": {
    "collapsed": false,
    "pycharm": {
     "name": "#%%\n"
    }
   }
  },
  {
   "cell_type": "code",
   "execution_count": null,
   "outputs": [],
   "source": [
    "generate_metrics_plots(\"../Results/CarveMe/carveme_genes_all_results.csv\",\n",
    "                       \"../Results/CarveMe/genes_bar_plot.png\")"
   ],
   "metadata": {
    "collapsed": false,
    "pycharm": {
     "name": "#%%\n"
    }
   }
  },
  {
   "cell_type": "code",
   "execution_count": null,
   "outputs": [],
   "source": [
    "generate_plots(\"../Results/CarveMe/carveme_genes_all_results.csv\",\n",
    "               \"Jaccard Distance\", \"Ratio\",\n",
    "               \"../Results/CarveMe/genes_dot_plot.png\")"
   ],
   "metadata": {
    "collapsed": false,
    "pycharm": {
     "name": "#%%\n"
    }
   }
  },
  {
   "cell_type": "markdown",
   "source": [
    "## KBase"
   ],
   "metadata": {
    "collapsed": false,
    "pycharm": {
     "name": "#%% md\n"
    }
   }
  },
  {
   "cell_type": "code",
   "execution_count": null,
   "outputs": [],
   "source": [
    "generate_metrics_plots(\"../Results/KBase/kbase_metanetx_conversion_all_results.csv\",\n",
    "                       \"../Results/KBase/reactions_bar_plot.png\")"
   ],
   "metadata": {
    "collapsed": false,
    "pycharm": {
     "name": "#%%\n"
    }
   }
  },
  {
   "cell_type": "code",
   "execution_count": null,
   "outputs": [],
   "source": [
    "generate_plots(\"../Results/KBase/kbase_metanetx_conversion_all_results.csv\",\n",
    "               \"Jaccard Distance\", \"Ratio\",\n",
    "               \"../Results/KBase/reactions_dot_plot.png\")"
   ],
   "metadata": {
    "collapsed": false,
    "pycharm": {
     "name": "#%%\n"
    }
   }
  },
  {
   "cell_type": "code",
   "execution_count": null,
   "outputs": [],
   "source": [
    "generate_metrics_plots(\"../Results/KBase/kbase_genes_all_results.csv\",\n",
    "                       \"../Results/KBase/genes_bar_plot.png\")"
   ],
   "metadata": {
    "collapsed": false,
    "pycharm": {
     "name": "#%%\n"
    }
   }
  },
  {
   "cell_type": "code",
   "execution_count": null,
   "outputs": [],
   "source": [
    "generate_plots(\"../Results/KBase/kbase_genes_all_results.csv\",\n",
    "               \"Jaccard Distance\", \"Ratio\",\n",
    "               \"../Results/KBase/genes_dot_plot.png\")"
   ],
   "metadata": {
    "collapsed": false,
    "pycharm": {
     "name": "#%%\n"
    }
   }
  },
  {
   "cell_type": "markdown",
   "source": [
    "## Merlin"
   ],
   "metadata": {
    "collapsed": false,
    "pycharm": {
     "name": "#%% md\n"
    }
   }
  },
  {
   "cell_type": "code",
   "execution_count": null,
   "outputs": [],
   "source": [
    "generate_metrics_plots(\"../Results/Merlin-BA/merlin_metanetx_conversion_all_results.csv\",\n",
    "                       \"../Results/Merlin-BA/reactions_bar_plot.png\")"
   ],
   "metadata": {
    "collapsed": false,
    "pycharm": {
     "name": "#%%\n"
    }
   }
  },
  {
   "cell_type": "code",
   "execution_count": null,
   "outputs": [],
   "source": [
    "generate_plots(\"../Results/Merlin-BA/merlin_metanetx_conversion_all_results.csv\",\n",
    "               \"Jaccard Distance\", \"Ratio\",\n",
    "               \"../Results/Merlin-BA/reactions_dot_plot.png\")"
   ],
   "metadata": {
    "collapsed": false,
    "pycharm": {
     "name": "#%%\n"
    }
   }
  },
  {
   "cell_type": "code",
   "execution_count": null,
   "outputs": [],
   "source": [
    "generate_metrics_plots(\"../Results/Merlin-BA/merlin_genes_all_results.csv\",\n",
    "                       \"../Results/Merlin-BA/genes_bar_plot.png\")"
   ],
   "metadata": {
    "collapsed": false,
    "pycharm": {
     "name": "#%%\n"
    }
   }
  },
  {
   "cell_type": "code",
   "execution_count": null,
   "outputs": [],
   "source": [
    "generate_plots(\"../Results/Merlin-BA/merlin_genes_all_results.csv\",\n",
    "               \"Jaccard Distance\", \"Ratio\",\n",
    "               \"../Results/Merlin-BA/genes_dot_plot.png\")"
   ],
   "metadata": {
    "collapsed": false,
    "pycharm": {
     "name": "#%%\n"
    }
   }
  },
  {
   "cell_type": "markdown",
   "source": [
    "## Merlin (BIT)"
   ],
   "metadata": {
    "collapsed": false,
    "pycharm": {
     "name": "#%% md\n"
    }
   }
  },
  {
   "cell_type": "code",
   "execution_count": null,
   "outputs": [],
   "source": [
    "generate_metrics_plots(\"../Results/Merlin-BIT/BIT_metanetx_conversion_all_results.csv\",\n",
    "                       \"../Results/Merlin-BIT/reactions_bar_plot.png\")"
   ],
   "metadata": {
    "collapsed": false,
    "pycharm": {
     "name": "#%%\n"
    }
   }
  },
  {
   "cell_type": "code",
   "execution_count": null,
   "outputs": [],
   "source": [
    "generate_plots(\"../Results/Merlin-BIT/BIT_metanetx_conversion_all_results.csv\",\n",
    "               \"Jaccard Distance\", \"Ratio\",\n",
    "               \"../Results/Merlin-BIT/reactions_dot_plot.png\")"
   ],
   "metadata": {
    "collapsed": false,
    "pycharm": {
     "name": "#%%\n"
    }
   }
  },
  {
   "cell_type": "code",
   "execution_count": null,
   "outputs": [],
   "source": [
    "generate_metrics_plots(\"../Results/Merlin-BIT/BIT_genes_all_results.csv\",\n",
    "                       \"../Results/Merlin-BIT/genes_bar_plot.png\")"
   ],
   "metadata": {
    "collapsed": false,
    "pycharm": {
     "name": "#%%\n"
    }
   }
  },
  {
   "cell_type": "code",
   "execution_count": null,
   "outputs": [],
   "source": [
    "generate_plots(\"../Results/Merlin-BIT/BIT_genes_all_results.csv\",\n",
    "               \"Jaccard Distance\", \"Ratio\",\n",
    "               \"../Results/Merlin-BIT/genes_dot_plot.png\")"
   ],
   "metadata": {
    "collapsed": false,
    "pycharm": {
     "name": "#%%\n"
    }
   }
  }
 ],
 "metadata": {
  "kernelspec": {
   "display_name": "Python 3",
   "language": "python",
   "name": "python3"
  },
  "language_info": {
   "codemirror_mode": {
    "name": "ipython",
    "version": 2
   },
   "file_extension": ".py",
   "mimetype": "text/x-python",
   "name": "python",
   "nbconvert_exporter": "python",
   "pygments_lexer": "ipython2",
   "version": "2.7.6"
  }
 },
 "nbformat": 4,
 "nbformat_minor": 0
}