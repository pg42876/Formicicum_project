{
 "cells": [
  {
   "cell_type": "code",
   "execution_count": 1,
   "outputs": [],
   "source": [
    "from Bio.KEGG.REST import kegg_link, kegg_list, kegg_get\n",
    "from Bio.KEGG.KGML import KGML_parser\n",
    "import pandas as pd\n",
    "from io import StringIO\n",
    "from tqdm import tqdm\n",
    "\n",
    "\n",
    "def get_taxon_maps(kegg_prefix):\n",
    "    if kegg_prefix is None:\n",
    "        return []\n",
    "    df = pd.read_csv(StringIO(kegg_list(\"pathway\", kegg_prefix).read()), sep='\\t', header=None)\n",
    "    return df[0].apply(lambda x: x.split(kegg_prefix)[1]).tolist()\n",
    "\n",
    "\n",
    "def get_reactions(kgml):\n",
    "    if len(kgml.reactions) > 0:\n",
    "        return [reaction.name.split('rn:')[1] for reaction in kgml.reactions]\n",
    "    return []\n",
    "\n",
    "\n",
    "def get_metabolites(kgml):\n",
    "    if len(kgml.compounds) > 0:\n",
    "        return [metabolite.name.split('cpd:')[1] for metabolite in kgml.compounds]\n",
    "    return []"
   ],
   "metadata": {
    "collapsed": false,
    "pycharm": {
     "name": "#%%\n"
    }
   }
  },
  {
   "cell_type": "code",
   "execution_count": 2,
   "outputs": [
    {
     "name": "stderr",
     "output_type": "stream",
     "text": [
      " 43%|████▎     | 40/93 [01:29<01:55,  2.18s/it]"
     ]
    },
    {
     "name": "stdout",
     "output_type": "stream",
     "text": [
      "Failed for 00552\n"
     ]
    },
    {
     "name": "stderr",
     "output_type": "stream",
     "text": [
      " 70%|██████▉   | 65/93 [02:33<02:23,  5.13s/it]"
     ]
    },
    {
     "name": "stdout",
     "output_type": "stream",
     "text": [
      "Failed for 01100\n"
     ]
    },
    {
     "name": "stderr",
     "output_type": "stream",
     "text": [
      " 84%|████████▍ | 78/93 [03:12<00:40,  2.69s/it]"
     ]
    },
    {
     "name": "stdout",
     "output_type": "stream",
     "text": [
      "Failed for 02020\n"
     ]
    },
    {
     "name": "stderr",
     "output_type": "stream",
     "text": [
      "100%|██████████| 93/93 [03:39<00:00,  2.36s/it]\n"
     ]
    }
   ],
   "source": [
    "mmaps = get_taxon_maps('mfi')\n",
    "reactions, metabolites = [], []\n",
    "for mmap in tqdm(mmaps):\n",
    "    try:\n",
    "        kgml = KGML_parser.read(kegg_get(f\"mfi{mmap}\", \"kgml\").read())\n",
    "        reactions += get_reactions(kgml)\n",
    "        metabolites += get_metabolites(kgml)\n",
    "    except:\n",
    "        print(f'Failed for {mmap}')\n",
    "\n",
    "with open('../Results/formicicum_reactions.txt', 'w') as f:\n",
    "    f.write('\\n'.join(set(reactions)))\n",
    "with open('../Results/formicicum_metabolites.txt', 'w') as f:\n",
    "    f.write('\\n'.join(set(metabolites)))"
   ],
   "metadata": {
    "collapsed": false,
    "pycharm": {
     "name": "#%%\n"
    }
   }
  }
 ],
 "metadata": {
  "kernelspec": {
   "display_name": "Python 3",
   "language": "python",
   "name": "python3"
  },
  "language_info": {
   "codemirror_mode": {
    "name": "ipython",
    "version": 2
   },
   "file_extension": ".py",
   "mimetype": "text/x-python",
   "name": "python",
   "nbconvert_exporter": "python",
   "pygments_lexer": "ipython2",
   "version": "2.7.6"
  }
 },
 "nbformat": 4,
 "nbformat_minor": 0
}