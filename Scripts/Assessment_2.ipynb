{
 "cells": [
  {
   "cell_type": "code",
   "execution_count": 5,
   "outputs": [],
   "source": [
    "from Scripts.assessment import ResultsReport\n",
    "from Scripts.core import read_sbml_into_cobra_model\n",
    "from Scripts.utils import ReconstructionTool"
   ],
   "metadata": {
    "collapsed": false,
    "pycharm": {
     "name": "#%%\n"
    }
   }
  },
  {
   "cell_type": "code",
   "execution_count": 6,
   "outputs": [],
   "source": [
    "all_models = {\n",
    "    \"merlin-BA\": \"..Models/Merlin-BA/merlin_model.xml\",\n",
    "    \"AuReMe\": \"../Models/AuReMe/aureme_model3.xml\",\n",
    "    \"CarveMe\": \"../Models/CarveMe/model_carveme.xml\",\n",
    "    \"KBase\": \"../Models/KBase/kbase_model.xml\",\n",
    "    \"merlin-BIT\": \"../Models/Merlin-BIT/BIT_model.xml\",\n",
    "    }"
   ],
   "metadata": {
    "collapsed": false,
    "pycharm": {
     "name": "#%%\n"
    }
   }
  },
  {
   "cell_type": "markdown",
   "source": [
    "## AuReMe"
   ],
   "metadata": {
    "collapsed": false,
    "pycharm": {
     "name": "#%% md\n"
    }
   }
  },
  {
   "cell_type": "code",
   "execution_count": 7,
   "metadata": {
    "collapsed": true,
    "pycharm": {
     "name": "#%%\n"
    }
   },
   "outputs": [],
   "source": [
    "models_to_assess = {\n",
    "    #\"merlin-BA\": \"..Models/Merlin-BA/merlin_model.xml\",\n",
    "    \"AuReMe\": \"../Models/AuReMe/aureme_model3.xml\",\n",
    "    #\"CarveMe\": \"../Models/CarveMe/model_carveme.xml\",\n",
    "    #\"KBase\": \"../Models/KBase/kbase_model.xml\",\n",
    "    #\"merlin-BIT\": \"../Models/Merlin-BIT/BIT_model.xml\",\n",
    "    }"
   ]
  },
  {
   "cell_type": "code",
   "execution_count": null,
   "outputs": [],
   "source": [
    "model = read_sbml_into_cobra_model(\n",
    "    file_path = \"../Models/AuReMe/aureme_model3.xml\",\n",
    "    database_version = \"bigg\",\n",
    "    reconstruction_tool = ReconstructionTool.AUREME.value)\n",
    "\n",
    "report_metanetx = ResultsReport(model, models_to_assess, conversion_method = \"metanetx\", reference_model_format = \"bigg\")\n",
    "report_model_seed = ResultsReport(model, models_to_assess, conversion_method = \"modelseed\", reference_model_format = \"bigg\")\n",
    "report_model_seed_model_seed = ResultsReport(model, models_to_assess, conversion_method = \"modelseed\", reference_model_format = \"modelseed\")\n",
    "\n",
    "all_report_metanetx = ResultsReport(model, all_models, conversion_method = \"metanetx\", reference_model_format = \"bigg\")\n",
    "all_report_metanetx.generate_reactions_report(\"../Results/AuReMe/aureme_metanetx_conversion_all_results.csv\")\n",
    "all_report_metanetx.generate_genes_report(\"../Results/AuReMe/aureme_genes_all_results.csv\")"
   ],
   "metadata": {
    "collapsed": false,
    "pycharm": {
     "name": "#%%\n",
     "is_executing": true
    }
   }
  },
  {
   "cell_type": "markdown",
   "source": [
    "## CarveMe"
   ],
   "metadata": {
    "collapsed": false,
    "pycharm": {
     "name": "#%% md\n"
    }
   }
  },
  {
   "cell_type": "code",
   "execution_count": null,
   "outputs": [],
   "source": [
    "models_to_assess = {\n",
    "    #\"merlin-BA\": \"..Models/Merlin-BA/merlin_model.xml\",\n",
    "    #\"AuReMe\": \"../Models/AuReMe/aureme_model3.xml\",\n",
    "    \"CarveMe\": \"../Models/CarveMe/model_carveme.xml\",\n",
    "    #\"KBase\": \"../Models/KBase/kbase_model.xml\",\n",
    "    #\"merlin-BIT\": \"../Models/Merlin-BIT/BIT_model.xml\",\n",
    "    }"
   ],
   "metadata": {
    "collapsed": false,
    "pycharm": {
     "name": "#%%\n"
    }
   }
  },
  {
   "cell_type": "code",
   "execution_count": null,
   "outputs": [],
   "source": [
    "model = read_sbml_into_cobra_model(\n",
    "    file_path = \"../Models/CarveMe/model_carveme.xml\",\n",
    "    database_version = \"bigg\",\n",
    "    reconstruction_tool = ReconstructionTool.CARVEME.value)\n",
    "\n",
    "report_metanetx = ResultsReport(model, models_to_assess, conversion_method = \"metanetx\", reference_model_format = \"bigg\")\n",
    "report_model_seed = ResultsReport(model, models_to_assess, conversion_method = \"modelseed\", reference_model_format = \"bigg\")\n",
    "report_model_seed_model_seed = ResultsReport(model, models_to_assess, conversion_method = \"modelseed\", reference_model_format = \"modelseed\")\n",
    "\n",
    "all_report_metanetx = ResultsReport(model, all_models, conversion_method = \"metanetx\", reference_model_format = \"bigg\")\n",
    "all_report_metanetx.generate_reactions_report(\"../Results/CarveMe/carveme_metanetx_conversion_all_results.csv\")\n",
    "all_report_metanetx.generate_genes_report(\"../Results/CarveMe/carveme_genes_all_results.csv\")"
   ],
   "metadata": {
    "collapsed": false,
    "pycharm": {
     "name": "#%%\n"
    }
   }
  },
  {
   "cell_type": "markdown",
   "source": [
    "## KBase"
   ],
   "metadata": {
    "collapsed": false,
    "pycharm": {
     "name": "#%% md\n"
    }
   }
  },
  {
   "cell_type": "code",
   "execution_count": null,
   "outputs": [],
   "source": [
    "models_to_assess = {\n",
    "    #\"merlin-BA\": \"..Models/Merlin-BA/merlin_model.xml\",\n",
    "    #\"AuReMe\": \"../Models/AuReMe/aureme_model3.xml\",\n",
    "    #\"CarveMe\": \"../Models/CarveMe/model_carveme.xml\",\n",
    "    \"KBase\": \"../Models/KBase/kbase_model.xml\",\n",
    "    #\"merlin-BIT\": \"../Models/Merlin-BIT/BIT_model.xml\",\n",
    "    }"
   ],
   "metadata": {
    "collapsed": false,
    "pycharm": {
     "name": "#%%\n"
    }
   }
  },
  {
   "cell_type": "code",
   "execution_count": null,
   "outputs": [],
   "source": [],
   "metadata": {
    "collapsed": false,
    "pycharm": {
     "name": "#%%\n"
    }
   }
  },
  {
   "cell_type": "markdown",
   "source": [
    "## Merlin"
   ],
   "metadata": {
    "collapsed": false,
    "pycharm": {
     "name": "#%% md\n"
    }
   }
  },
  {
   "cell_type": "code",
   "execution_count": null,
   "outputs": [],
   "source": [
    "models_to_assess = {\n",
    "    \"merlin-BA\": \"..Models/Merlin-BA/merlin_model.xml\",\n",
    "    #\"AuReMe\": \"../Models/AuReMe/aureme_model3.xml\",\n",
    "    #\"CarveMe\": \"../Models/CarveMe/model_carveme.xml\",\n",
    "    #\"KBase\": \"../Models/KBase/kbase_model.xml\",\n",
    "    #\"merlin-BIT\": \"../Models/Merlin-BIT/BIT_model.xml\",\n",
    "    }"
   ],
   "metadata": {
    "collapsed": false,
    "pycharm": {
     "name": "#%%\n"
    }
   }
  },
  {
   "cell_type": "code",
   "execution_count": null,
   "outputs": [],
   "source": [],
   "metadata": {
    "collapsed": false,
    "pycharm": {
     "name": "#%%\n"
    }
   }
  },
  {
   "cell_type": "markdown",
   "source": [
    "## Merlin (BIT)"
   ],
   "metadata": {
    "collapsed": false,
    "pycharm": {
     "name": "#%% md\n"
    }
   }
  },
  {
   "cell_type": "code",
   "execution_count": null,
   "outputs": [],
   "source": [
    "models_to_assess = {\n",
    "    #\"merlin-BA\": \"..Models/Merlin-BA/merlin_model.xml\",\n",
    "    #\"AuReMe\": \"../Models/AuReMe/aureme_model3.xml\",\n",
    "    #\"CarveMe\": \"../Models/CarveMe/model_carveme.xml\",\n",
    "    #\"KBase\": \"../Models/KBase/kbase_model.xml\",\n",
    "    \"merlin-BIT\": \"../Models/Merlin-BIT/BIT_model.xml\",\n",
    "    }"
   ],
   "metadata": {
    "collapsed": false,
    "pycharm": {
     "name": "#%%\n"
    }
   }
  },
  {
   "cell_type": "code",
   "execution_count": null,
   "outputs": [],
   "source": [],
   "metadata": {
    "collapsed": false,
    "pycharm": {
     "name": "#%%\n"
    }
   }
  }
 ],
 "metadata": {
  "kernelspec": {
   "display_name": "Python 3",
   "language": "python",
   "name": "python3"
  },
  "language_info": {
   "codemirror_mode": {
    "name": "ipython",
    "version": 2
   },
   "file_extension": ".py",
   "mimetype": "text/x-python",
   "name": "python",
   "nbconvert_exporter": "python",
   "pygments_lexer": "ipython2",
   "version": "2.7.6"
  }
 },
 "nbformat": 4,
 "nbformat_minor": 0
}