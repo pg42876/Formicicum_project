{
 "cells": [
  {
   "cell_type": "code",
   "execution_count": 1,
   "outputs": [],
   "source": [
    "from Scripts.core import read_sbml_into_cobra_model\n",
    "from Scripts.utils import ReconstructionTool"
   ],
   "metadata": {
    "collapsed": false,
    "pycharm": {
     "name": "#%%\n"
    }
   }
  },
  {
   "cell_type": "code",
   "execution_count": 2,
   "outputs": [],
   "source": [
    "all_models = {\n",
    "    \"merlin-BA\": \"../Models/Merlin-BA/merlin_model.xml\",\n",
    "    \"AuReMe\": \"../Models/AuReMe/aureme_model3.xml\",\n",
    "    \"CarveMe\": \"../Models/CarveMe/model_carveme.xml\",\n",
    "    \"KBase\": \"../Models/KBase/kbase_model.xml\",\n",
    "    \"merlin-BIT\": \"../Models/Merlin-BIT/BIT_model.xml\",\n",
    "    }"
   ],
   "metadata": {
    "collapsed": false,
    "pycharm": {
     "name": "#%%\n"
    }
   }
  },
  {
   "cell_type": "markdown",
   "source": [
    "## AuReMe"
   ],
   "metadata": {
    "collapsed": false,
    "pycharm": {
     "name": "#%% md\n"
    }
   }
  },
  {
   "cell_type": "code",
   "execution_count": 3,
   "metadata": {
    "collapsed": true,
    "pycharm": {
     "name": "#%%\n"
    }
   },
   "outputs": [],
   "source": [
    "models_to_assess = {\n",
    "    #\"merlin-BA\": \"..Models/Merlin-BA/merlin_model.xml\",\n",
    "    \"AuReMe\": \"../Models/AuReMe/aureme_model3.xml\",\n",
    "    #\"CarveMe\": \"../Models/CarveMe/model_carveme.xml\",\n",
    "    #\"KBase\": \"../Models/KBase/kbase_model.xml\",\n",
    "    #\"merlin-BIT\": \"../Models/Merlin-BIT/BIT_model.xml\",\n",
    "    }"
   ]
  },
  {
   "cell_type": "code",
   "execution_count": 4,
   "outputs": [
    {
     "name": "stderr",
     "output_type": "stream",
     "text": [
      "1204725 does not conform to 'http(s)://identifiers.org/collection/id' or'http(s)://identifiers.org/COLLECTION:id\n",
      "No objective in listOfObjectives\n",
      "No objective coefficients in model. Unclear what should be optimized\n"
     ]
    },
    {
     "name": "stdout",
     "output_type": "stream",
     "text": [
      "Number of genes:  0\n",
      "conversion method metanetx\n",
      "running parse_xrefs_file\n"
     ]
    },
    {
     "name": "stderr",
     "output_type": "stream",
     "text": [
      "There are no boundary reactions in this model. Therefore, specific types of boundary reactions such as 'exchanges', 'demands' or 'sinks' cannot be identified.\n",
      "There are no boundary reactions in this model. Therefore, specific types of boundary reactions such as 'exchanges', 'demands' or 'sinks' cannot be identified.\n",
      "There are no boundary reactions in this model. Therefore, specific types of boundary reactions such as 'exchanges', 'demands' or 'sinks' cannot be identified.\n"
     ]
    },
    {
     "name": "stdout",
     "output_type": "stream",
     "text": [
      "{}\n",
      "['GRTT__c', 'PGMT__c', 'PYRTHMPPTRX__c', 'CPC3MT__c', 'IPPMIA__c', 'IOR__c', 'ANPRT__c', 'UAG4E__c', 'CPC8MM__c', 'KARA2__c', 'G1PDH__c', '2OBUTHE2THPPTRX__c', 'DNADDP__c', 'TIH2CD__c', 'NTP2__c', 'PRPPP__c', 'GLUTRR__c', 'CYTK5__c', 'G1PACT__c', 'AHMMPS__c', 'UPP3MT__c', 'R03896__c', 'ADCPS1__c', 'PACCOAL__c', 'PYRFALDC__c', 'AMPMS2__c', 'NMNAT__c', 'GUAPRT__c', 'NTP7__c', 'PRAGSR__c', 'PACCOAL2__c', 'ATSH__c', 'ADK3__c', 'CPC4MT__c', 'CAT__c', 'DROPPRX__c', 'RNTR2__c', 'DADK__c', 'CYTK2__c', 'RBFSB__c', 'GAPD__c', 'GCC__c', 'DHDPRY__c', 'AIRC2__c', 'ADCPS2__c', 'ADPT__c', 'ADNCYC__c', 'AGPR__c', 'R2MMALSYN__c', 'NTPTP1__c', 'NTRIR2Y__c', 'NTPP11__c', 'CPC5MT__c', 'GGDPRED__c', 'RNTR3__c', 'DMATT2__c', 'NTP4__c', 'PPBNGS__c', 'UAGDP__c', 'ADK4__c', 'R05680__c', 'ANS2__c', 'ADKD__c', 'PGLYCP__c', 'CYTDK3__c', 'URIDK2R__c', 'DTMPK__c', 'IMPD__c', 'TIH3CD__c', 'OORR__c', 'NTP1__c', 'BRFAPS__c', 'NTP9__c', 'PGK__c', 'HATSH__c', 'ADK1__c', '2MBCOAS__c', 'R07405__c', 'HATIH__c', 'TRPS3__c', 'IGPS__c', 'ATGH__c', 'NTP6__c', 'PACCOAL3__c', 'AIRCR__c', 'CYTK1__c', 'NADDP__c', 'DROPPRY__c', 'IOR2__c', 'DHDPRX__c', 'RNTR1__c', 'ADK2__c', 'TMDS__c', 'CTPS1__c', 'HATGH__c', 'GRTT2__c', '2H3MOAOX__c', 'RBPI__c', 'HMBS__c', 'ATIH__c', 'PMANM__c', 'MHPGLUT2__c', 'ASADI__c', 'NNAT__c', 'NTP3__c', 'CTPRIBFLVTX__c', 'DHDPS__c', 'UDPG4E__c', 'THRPD__c', 'IPPK__c', 'GMPS__c', 'SPODM__c', 'NNDPR__c', 'NTP8__c', 'DMATT__c', 'GTPCHIV__c', 'CPC6MT__c', 'IPMD__c', 'FRTT2__c', 'IOR3__c', 'AIRC3__c', 'PMVD__c', 'IPPMIB__c', 'RBFSA__c', 'GUACYC__c', 'NAPRTR__c', 'COBS__c', 'FRTT__c', 'TMDK1__c', 'NTP5__c', 'RNTR4__c', 'CHRPL__c', 'ATPM__c', 'BACCL__c', 'OMPDC__c', 'SPDC__c', 'TDP__c']\n",
      "Tool: 2\n",
      "Total number of reactions: 144\n",
      "Removed reactions: 7\n",
      "Reactions converted: 0\n",
      "Reactions not converted: 137\n",
      "conversion method modelseed\n",
      "running parse_xrefs_file\n"
     ]
    },
    {
     "name": "stderr",
     "output_type": "stream",
     "text": [
      "There are no boundary reactions in this model. Therefore, specific types of boundary reactions such as 'exchanges', 'demands' or 'sinks' cannot be identified.\n",
      "There are no boundary reactions in this model. Therefore, specific types of boundary reactions such as 'exchanges', 'demands' or 'sinks' cannot be identified.\n",
      "There are no boundary reactions in this model. Therefore, specific types of boundary reactions such as 'exchanges', 'demands' or 'sinks' cannot be identified.\n"
     ]
    },
    {
     "name": "stdout",
     "output_type": "stream",
     "text": [
      "{}\n",
      "['GRTT__c', 'PGMT__c', 'PYRTHMPPTRX__c', 'CPC3MT__c', 'IPPMIA__c', 'IOR__c', 'ANPRT__c', 'UAG4E__c', 'CPC8MM__c', 'KARA2__c', 'G1PDH__c', '2OBUTHE2THPPTRX__c', 'DNADDP__c', 'TIH2CD__c', 'NTP2__c', 'PRPPP__c', 'GLUTRR__c', 'CYTK5__c', 'G1PACT__c', 'AHMMPS__c', 'UPP3MT__c', 'R03896__c', 'ADCPS1__c', 'PACCOAL__c', 'PYRFALDC__c', 'AMPMS2__c', 'NMNAT__c', 'GUAPRT__c', 'NTP7__c', 'PRAGSR__c', 'PACCOAL2__c', 'ATSH__c', 'ADK3__c', 'CPC4MT__c', 'CAT__c', 'DROPPRX__c', 'RNTR2__c', 'DADK__c', 'CYTK2__c', 'RBFSB__c', 'GAPD__c', 'GCC__c', 'DHDPRY__c', 'AIRC2__c', 'ADCPS2__c', 'ADPT__c', 'ADNCYC__c', 'AGPR__c', 'R2MMALSYN__c', 'NTPTP1__c', 'NTRIR2Y__c', 'NTPP11__c', 'CPC5MT__c', 'GGDPRED__c', 'RNTR3__c', 'DMATT2__c', 'NTP4__c', 'PPBNGS__c', 'UAGDP__c', 'ADK4__c', 'R05680__c', 'ANS2__c', 'ADKD__c', 'PGLYCP__c', 'CYTDK3__c', 'URIDK2R__c', 'DTMPK__c', 'IMPD__c', 'TIH3CD__c', 'OORR__c', 'NTP1__c', 'BRFAPS__c', 'NTP9__c', 'PGK__c', 'HATSH__c', 'ADK1__c', '2MBCOAS__c', 'R07405__c', 'HATIH__c', 'TRPS3__c', 'IGPS__c', 'ATGH__c', 'NTP6__c', 'PACCOAL3__c', 'AIRCR__c', 'CYTK1__c', 'NADDP__c', 'DROPPRY__c', 'IOR2__c', 'DHDPRX__c', 'RNTR1__c', 'ADK2__c', 'TMDS__c', 'CTPS1__c', 'HATGH__c', 'GRTT2__c', '2H3MOAOX__c', 'RBPI__c', 'HMBS__c', 'ATIH__c', 'PMANM__c', 'MHPGLUT2__c', 'ASADI__c', 'NNAT__c', 'NTP3__c', 'CTPRIBFLVTX__c', 'DHDPS__c', 'UDPG4E__c', 'THRPD__c', 'IPPK__c', 'GMPS__c', 'SPODM__c', 'NNDPR__c', 'NTP8__c', 'DMATT__c', 'GTPCHIV__c', 'CPC6MT__c', 'IPMD__c', 'FRTT2__c', 'IOR3__c', 'AIRC3__c', 'PMVD__c', 'IPPMIB__c', 'RBFSA__c', 'GUACYC__c', 'NAPRTR__c', 'COBS__c', 'FRTT__c', 'TMDK1__c', 'NTP5__c', 'RNTR4__c', 'CHRPL__c', 'ATPM__c', 'BACCL__c', 'OMPDC__c', 'SPDC__c', 'TDP__c']\n",
      "Tool: 2\n",
      "Total number of reactions: 144\n",
      "Removed reactions: 7\n",
      "Reactions converted: 0\n",
      "Reactions not converted: 137\n",
      "conversion method modelseed\n",
      "running parse_xrefs_file\n"
     ]
    },
    {
     "name": "stderr",
     "output_type": "stream",
     "text": [
      "There are no boundary reactions in this model. Therefore, specific types of boundary reactions such as 'exchanges', 'demands' or 'sinks' cannot be identified.\n",
      "There are no boundary reactions in this model. Therefore, specific types of boundary reactions such as 'exchanges', 'demands' or 'sinks' cannot be identified.\n",
      "There are no boundary reactions in this model. Therefore, specific types of boundary reactions such as 'exchanges', 'demands' or 'sinks' cannot be identified.\n"
     ]
    },
    {
     "name": "stdout",
     "output_type": "stream",
     "text": [
      "{}\n",
      "['GRTT__c', 'PGMT__c', 'PYRTHMPPTRX__c', 'CPC3MT__c', 'IPPMIA__c', 'IOR__c', 'ANPRT__c', 'UAG4E__c', 'CPC8MM__c', 'KARA2__c', 'G1PDH__c', '2OBUTHE2THPPTRX__c', 'DNADDP__c', 'TIH2CD__c', 'NTP2__c', 'PRPPP__c', 'GLUTRR__c', 'CYTK5__c', 'G1PACT__c', 'AHMMPS__c', 'UPP3MT__c', 'R03896__c', 'ADCPS1__c', 'PACCOAL__c', 'PYRFALDC__c', 'AMPMS2__c', 'NMNAT__c', 'GUAPRT__c', 'NTP7__c', 'PRAGSR__c', 'PACCOAL2__c', 'ATSH__c', 'ADK3__c', 'CPC4MT__c', 'CAT__c', 'DROPPRX__c', 'RNTR2__c', 'DADK__c', 'CYTK2__c', 'RBFSB__c', 'GAPD__c', 'GCC__c', 'DHDPRY__c', 'AIRC2__c', 'ADCPS2__c', 'ADPT__c', 'ADNCYC__c', 'AGPR__c', 'R2MMALSYN__c', 'NTPTP1__c', 'NTRIR2Y__c', 'NTPP11__c', 'CPC5MT__c', 'GGDPRED__c', 'RNTR3__c', 'DMATT2__c', 'NTP4__c', 'PPBNGS__c', 'UAGDP__c', 'ADK4__c', 'R05680__c', 'ANS2__c', 'ADKD__c', 'PGLYCP__c', 'CYTDK3__c', 'URIDK2R__c', 'DTMPK__c', 'IMPD__c', 'TIH3CD__c', 'OORR__c', 'NTP1__c', 'BRFAPS__c', 'NTP9__c', 'PGK__c', 'HATSH__c', 'ADK1__c', '2MBCOAS__c', 'R07405__c', 'HATIH__c', 'TRPS3__c', 'IGPS__c', 'ATGH__c', 'NTP6__c', 'PACCOAL3__c', 'AIRCR__c', 'CYTK1__c', 'NADDP__c', 'DROPPRY__c', 'IOR2__c', 'DHDPRX__c', 'RNTR1__c', 'ADK2__c', 'TMDS__c', 'CTPS1__c', 'HATGH__c', 'GRTT2__c', '2H3MOAOX__c', 'RBPI__c', 'HMBS__c', 'ATIH__c', 'PMANM__c', 'MHPGLUT2__c', 'ASADI__c', 'NNAT__c', 'NTP3__c', 'CTPRIBFLVTX__c', 'DHDPS__c', 'UDPG4E__c', 'THRPD__c', 'IPPK__c', 'GMPS__c', 'SPODM__c', 'NNDPR__c', 'NTP8__c', 'DMATT__c', 'GTPCHIV__c', 'CPC6MT__c', 'IPMD__c', 'FRTT2__c', 'IOR3__c', 'AIRC3__c', 'PMVD__c', 'IPPMIB__c', 'RBFSA__c', 'GUACYC__c', 'NAPRTR__c', 'COBS__c', 'FRTT__c', 'TMDK1__c', 'NTP5__c', 'RNTR4__c', 'CHRPL__c', 'ATPM__c', 'BACCL__c', 'OMPDC__c', 'SPDC__c', 'TDP__c']\n",
      "Tool: 2\n",
      "Total number of reactions: 144\n",
      "Removed reactions: 7\n",
      "Reactions converted: 0\n",
      "Reactions not converted: 137\n"
     ]
    }
   ],
   "source": [
    "from Scripts.assessment import ResultsReport\n",
    "\n",
    "model = read_sbml_into_cobra_model(\n",
    "    file_path = \"../Models/AuReMe/aureme_model3.xml\",\n",
    "    database_version = \"bigg\",\n",
    "    reconstruction_tool = ReconstructionTool.AUREME.value)\n",
    "\n",
    "print(\"Number of genes: \", len(model.model.genes))\n",
    "\n",
    "report_metanetx = ResultsReport(model, models_to_assess, conversion_method = \"metanetx\", reference_model_format = \"bigg\")\n",
    "report_model_seed = ResultsReport(model, models_to_assess, conversion_method = \"modelseed\", reference_model_format = \"bigg\")\n",
    "report_model_seed_model_seed = ResultsReport(model, models_to_assess, conversion_method = \"modelseed\", reference_model_format = \"modelseed\")"
   ],
   "metadata": {
    "collapsed": false,
    "pycharm": {
     "name": "#%%\n"
    }
   }
  },
  {
   "cell_type": "code",
   "execution_count": 5,
   "outputs": [
    {
     "name": "stderr",
     "output_type": "stream",
     "text": [
      "1204725 does not conform to 'http(s)://identifiers.org/collection/id' or'http(s)://identifiers.org/COLLECTION:id\n",
      "No objective in listOfObjectives\n",
      "No objective coefficients in model. Unclear what should be optimized\n"
     ]
    },
    {
     "name": "stdout",
     "output_type": "stream",
     "text": [
      "Number of genes:  0\n",
      "conversion method metanetx\n",
      "running parse_xrefs_file\n"
     ]
    },
    {
     "name": "stderr",
     "output_type": "stream",
     "text": [
      "There are no boundary reactions in this model. Therefore, specific types of boundary reactions such as 'exchanges', 'demands' or 'sinks' cannot be identified.\n",
      "There are no boundary reactions in this model. Therefore, specific types of boundary reactions such as 'exchanges', 'demands' or 'sinks' cannot be identified.\n",
      "There are no boundary reactions in this model. Therefore, specific types of boundary reactions such as 'exchanges', 'demands' or 'sinks' cannot be identified.\n"
     ]
    },
    {
     "name": "stdout",
     "output_type": "stream",
     "text": [
      "{}\n",
      "['GRTT__c', 'PGMT__c', 'PYRTHMPPTRX__c', 'CPC3MT__c', 'IPPMIA__c', 'IOR__c', 'ANPRT__c', 'UAG4E__c', 'CPC8MM__c', 'KARA2__c', 'G1PDH__c', '2OBUTHE2THPPTRX__c', 'DNADDP__c', 'TIH2CD__c', 'NTP2__c', 'PRPPP__c', 'GLUTRR__c', 'CYTK5__c', 'G1PACT__c', 'AHMMPS__c', 'UPP3MT__c', 'R03896__c', 'ADCPS1__c', 'PACCOAL__c', 'PYRFALDC__c', 'AMPMS2__c', 'NMNAT__c', 'GUAPRT__c', 'NTP7__c', 'PRAGSR__c', 'PACCOAL2__c', 'ATSH__c', 'ADK3__c', 'CPC4MT__c', 'CAT__c', 'DROPPRX__c', 'RNTR2__c', 'DADK__c', 'CYTK2__c', 'RBFSB__c', 'GAPD__c', 'GCC__c', 'DHDPRY__c', 'AIRC2__c', 'ADCPS2__c', 'ADPT__c', 'ADNCYC__c', 'AGPR__c', 'R2MMALSYN__c', 'NTPTP1__c', 'NTRIR2Y__c', 'NTPP11__c', 'CPC5MT__c', 'GGDPRED__c', 'RNTR3__c', 'DMATT2__c', 'NTP4__c', 'PPBNGS__c', 'UAGDP__c', 'ADK4__c', 'R05680__c', 'ANS2__c', 'ADKD__c', 'PGLYCP__c', 'CYTDK3__c', 'URIDK2R__c', 'DTMPK__c', 'IMPD__c', 'TIH3CD__c', 'OORR__c', 'NTP1__c', 'BRFAPS__c', 'NTP9__c', 'PGK__c', 'HATSH__c', 'ADK1__c', '2MBCOAS__c', 'R07405__c', 'HATIH__c', 'TRPS3__c', 'IGPS__c', 'ATGH__c', 'NTP6__c', 'PACCOAL3__c', 'AIRCR__c', 'CYTK1__c', 'NADDP__c', 'DROPPRY__c', 'IOR2__c', 'DHDPRX__c', 'RNTR1__c', 'ADK2__c', 'TMDS__c', 'CTPS1__c', 'HATGH__c', 'GRTT2__c', '2H3MOAOX__c', 'RBPI__c', 'HMBS__c', 'ATIH__c', 'PMANM__c', 'MHPGLUT2__c', 'ASADI__c', 'NNAT__c', 'NTP3__c', 'CTPRIBFLVTX__c', 'DHDPS__c', 'UDPG4E__c', 'THRPD__c', 'IPPK__c', 'GMPS__c', 'SPODM__c', 'NNDPR__c', 'NTP8__c', 'DMATT__c', 'GTPCHIV__c', 'CPC6MT__c', 'IPMD__c', 'FRTT2__c', 'IOR3__c', 'AIRC3__c', 'PMVD__c', 'IPPMIB__c', 'RBFSA__c', 'GUACYC__c', 'NAPRTR__c', 'COBS__c', 'FRTT__c', 'TMDK1__c', 'NTP5__c', 'RNTR4__c', 'CHRPL__c', 'ATPM__c', 'BACCL__c', 'OMPDC__c', 'SPDC__c', 'TDP__c']\n",
      "Tool: 2\n",
      "Total number of reactions: 144\n",
      "Removed reactions: 7\n",
      "Reactions converted: 0\n",
      "Reactions not converted: 137\n"
     ]
    },
    {
     "ename": "AttributeError",
     "evalue": "'str' object has no attribute 'model'",
     "output_type": "error",
     "traceback": [
      "\u001B[1;31m---------------------------------------------------------------------------\u001B[0m",
      "\u001B[1;31mAttributeError\u001B[0m                            Traceback (most recent call last)",
      "Input \u001B[1;32mIn [5]\u001B[0m, in \u001B[0;36m<cell line: 11>\u001B[1;34m()\u001B[0m\n\u001B[0;32m      8\u001B[0m \u001B[38;5;28mprint\u001B[39m(\u001B[38;5;124m\"\u001B[39m\u001B[38;5;124mNumber of genes: \u001B[39m\u001B[38;5;124m\"\u001B[39m, \u001B[38;5;28mlen\u001B[39m(model\u001B[38;5;241m.\u001B[39mmodel\u001B[38;5;241m.\u001B[39mgenes))\n\u001B[0;32m     10\u001B[0m all_report_metanetx \u001B[38;5;241m=\u001B[39m ResultsReport(model, all_models, conversion_method \u001B[38;5;241m=\u001B[39m \u001B[38;5;124m\"\u001B[39m\u001B[38;5;124mmetanetx\u001B[39m\u001B[38;5;124m\"\u001B[39m, reference_model_format \u001B[38;5;241m=\u001B[39m \u001B[38;5;124m\"\u001B[39m\u001B[38;5;124mbigg\u001B[39m\u001B[38;5;124m\"\u001B[39m)\n\u001B[1;32m---> 11\u001B[0m \u001B[43mall_report_metanetx\u001B[49m\u001B[38;5;241;43m.\u001B[39;49m\u001B[43mgenerate_reactions_report\u001B[49m\u001B[43m(\u001B[49m\u001B[38;5;124;43m\"\u001B[39;49m\u001B[38;5;124;43m../Results/AuReMe/aureme_metanetx_conversion_all_results.csv\u001B[39;49m\u001B[38;5;124;43m\"\u001B[39;49m\u001B[43m)\u001B[49m\n\u001B[0;32m     12\u001B[0m all_report_metanetx\u001B[38;5;241m.\u001B[39mgenerate_genes_report(\u001B[38;5;124m\"\u001B[39m\u001B[38;5;124m../Results/AuReMe/aureme_genes_all_results.csv\u001B[39m\u001B[38;5;124m\"\u001B[39m)\n",
      "File \u001B[1;32m~\\Documents\\Trabalho\\github_projects\\Formicicum_project\\Scripts\\assessment.py:295\u001B[0m, in \u001B[0;36mResultsReport.generate_reactions_report\u001B[1;34m(self, file_path)\u001B[0m\n\u001B[0;32m    293\u001B[0m \u001B[38;5;28;01mdef\u001B[39;00m \u001B[38;5;21mgenerate_reactions_report\u001B[39m(\u001B[38;5;28mself\u001B[39m, file_path):\n\u001B[1;32m--> 295\u001B[0m     model_reactions, models_info \u001B[38;5;241m=\u001B[39m \u001B[38;5;28;43mself\u001B[39;49m\u001B[38;5;241;43m.\u001B[39;49m\u001B[43mmodel_assessor\u001B[49m\u001B[38;5;241;43m.\u001B[39;49m\u001B[43mconvert_reactions\u001B[49m\u001B[43m(\u001B[49m\u001B[38;5;28;43mself\u001B[39;49m\u001B[38;5;241;43m.\u001B[39;49m\u001B[43mmodels_to_be_assessed\u001B[49m\u001B[43m)\u001B[49m\n\u001B[0;32m    296\u001B[0m     report_df \u001B[38;5;241m=\u001B[39m DataFrame(columns\u001B[38;5;241m=\u001B[39m[\u001B[38;5;124m\"\u001B[39m\u001B[38;5;124mmodel\u001B[39m\u001B[38;5;124m\"\u001B[39m, \u001B[38;5;124m\"\u001B[39m\u001B[38;5;124mreactions number\u001B[39m\u001B[38;5;124m\"\u001B[39m, \u001B[38;5;124m\"\u001B[39m\u001B[38;5;124mremoved reactions\u001B[39m\u001B[38;5;124m\"\u001B[39m, \u001B[38;5;124m\"\u001B[39m\u001B[38;5;124mconverted reactions\u001B[39m\u001B[38;5;124m\"\u001B[39m,\n\u001B[0;32m    297\u001B[0m                                    \u001B[38;5;124m\"\u001B[39m\u001B[38;5;124mnon-converted reactions\u001B[39m\u001B[38;5;124m\"\u001B[39m, \u001B[38;5;124m\"\u001B[39m\u001B[38;5;124mrecall\u001B[39m\u001B[38;5;124m\"\u001B[39m, \u001B[38;5;124m\"\u001B[39m\u001B[38;5;124mprecision\u001B[39m\u001B[38;5;124m\"\u001B[39m, \u001B[38;5;124m\"\u001B[39m\u001B[38;5;124mf1\u001B[39m\u001B[38;5;124m\"\u001B[39m])\n\u001B[0;32m    299\u001B[0m     \u001B[38;5;28;01mfor\u001B[39;00m i, model \u001B[38;5;129;01min\u001B[39;00m \u001B[38;5;28menumerate\u001B[39m(model_reactions):\n",
      "File \u001B[1;32m~\\Documents\\Trabalho\\github_projects\\Formicicum_project\\Scripts\\assessment.py:194\u001B[0m, in \u001B[0;36mReactionsAssessor.convert_reactions\u001B[1;34m(self, models)\u001B[0m\n\u001B[0;32m    191\u001B[0m models_info \u001B[38;5;241m=\u001B[39m {}\n\u001B[0;32m    193\u001B[0m \u001B[38;5;28;01mfor\u001B[39;00m model_name \u001B[38;5;129;01min\u001B[39;00m models\u001B[38;5;241m.\u001B[39mkeys():\n\u001B[1;32m--> 194\u001B[0m     reaction_set, model_info \u001B[38;5;241m=\u001B[39m \u001B[38;5;28;43mself\u001B[39;49m\u001B[38;5;241;43m.\u001B[39;49m\u001B[43mconvert_model_reactions_with_converter\u001B[49m\u001B[43m(\u001B[49m\u001B[43mmodels\u001B[49m\u001B[43m[\u001B[49m\u001B[43mmodel_name\u001B[49m\u001B[43m]\u001B[49m\u001B[43m)\u001B[49m\n\u001B[0;32m    195\u001B[0m     models_info[model_name] \u001B[38;5;241m=\u001B[39m model_info\n\u001B[0;32m    196\u001B[0m     reaction_sets[model_name] \u001B[38;5;241m=\u001B[39m reaction_set\n",
      "File \u001B[1;32m~\\Documents\\Trabalho\\github_projects\\Formicicum_project\\Scripts\\assessment.py:145\u001B[0m, in \u001B[0;36mReactionsAssessor.convert_model_reactions_with_converter\u001B[1;34m(self, model)\u001B[0m\n\u001B[0;32m    142\u001B[0m reaction_set \u001B[38;5;241m=\u001B[39m []\n\u001B[0;32m    143\u001B[0m model_info \u001B[38;5;241m=\u001B[39m {}\n\u001B[1;32m--> 145\u001B[0m reactions_to_convert \u001B[38;5;241m=\u001B[39m \u001B[43mReactionsAssessor\u001B[49m\u001B[38;5;241;43m.\u001B[39;49m\u001B[43mget_reactions_to_convert\u001B[49m\u001B[43m(\u001B[49m\u001B[43mmodel\u001B[49m\u001B[43m)\u001B[49m\n\u001B[0;32m    146\u001B[0m \u001B[38;5;66;03m# reactions_to_convert = [reaction.id for reaction in model.model.reactions]\u001B[39;00m\n\u001B[0;32m    148\u001B[0m model\u001B[38;5;241m.\u001B[39mreaction_converter \u001B[38;5;241m=\u001B[39m \u001B[38;5;28mself\u001B[39m\u001B[38;5;241m.\u001B[39mreactions_converter\n",
      "File \u001B[1;32m~\\Documents\\Trabalho\\github_projects\\Formicicum_project\\Scripts\\assessment.py:45\u001B[0m, in \u001B[0;36mReactionsAssessor.get_reactions_to_convert\u001B[1;34m(model)\u001B[0m\n\u001B[0;32m     42\u001B[0m \u001B[38;5;129m@staticmethod\u001B[39m\n\u001B[0;32m     43\u001B[0m \u001B[38;5;28;01mdef\u001B[39;00m \u001B[38;5;21mget_reactions_to_convert\u001B[39m(model):\n\u001B[0;32m     44\u001B[0m     reactions_not_to_convert \u001B[38;5;241m=\u001B[39m []\n\u001B[1;32m---> 45\u001B[0m     all_reactions \u001B[38;5;241m=\u001B[39m \u001B[43mmodel\u001B[49m\u001B[38;5;241;43m.\u001B[39;49m\u001B[43mmodel\u001B[49m\u001B[38;5;241m.\u001B[39mreactions\n\u001B[0;32m     46\u001B[0m     reactions_to_convert \u001B[38;5;241m=\u001B[39m []\n\u001B[0;32m     48\u001B[0m     transport_reactions \u001B[38;5;241m=\u001B[39m {}\n",
      "\u001B[1;31mAttributeError\u001B[0m: 'str' object has no attribute 'model'"
     ]
    }
   ],
   "source": [
    "from Scripts.assessment import ResultsReport\n",
    "\n",
    "model = read_sbml_into_cobra_model(\n",
    "    file_path = \"../Models/AuReMe/aureme_model3.xml\",\n",
    "    database_version = \"bigg\",\n",
    "    reconstruction_tool = ReconstructionTool.AUREME.value)\n",
    "\n",
    "print(\"Number of genes: \", len(model.model.genes))\n",
    "\n",
    "all_report_metanetx = ResultsReport(model, all_models, conversion_method = \"metanetx\", reference_model_format = \"bigg\")\n",
    "all_report_metanetx.generate_reactions_report(\"../Results/AuReMe/aureme_metanetx_conversion_all_results.csv\")\n",
    "all_report_metanetx.generate_genes_report(\"../Results/AuReMe/aureme_genes_all_results.csv\")"
   ],
   "metadata": {
    "collapsed": false,
    "pycharm": {
     "name": "#%%\n"
    }
   }
  },
  {
   "cell_type": "markdown",
   "source": [
    "## CarveMe"
   ],
   "metadata": {
    "collapsed": false,
    "pycharm": {
     "name": "#%% md\n"
    }
   }
  },
  {
   "cell_type": "code",
   "execution_count": 4,
   "outputs": [],
   "source": [
    "models_to_assess = {\n",
    "    #\"merlin-BA\": \"..Models/Merlin-BA/merlin_model.xml\",\n",
    "    #\"AuReMe\": \"../Models/AuReMe/aureme_model3.xml\",\n",
    "    \"CarveMe\": \"../Models/CarveMe/model_carveme.xml\",\n",
    "    #\"KBase\": \"../Models/KBase/kbase_model.xml\",\n",
    "    #\"merlin-BIT\": \"../Models/Merlin-BIT/BIT_model.xml\",\n",
    "    }"
   ],
   "metadata": {
    "collapsed": false,
    "pycharm": {
     "name": "#%%\n"
    }
   }
  },
  {
   "cell_type": "code",
   "execution_count": 5,
   "outputs": [
    {
     "ename": "CobraSBMLError",
     "evalue": "Something went wrong reading the SBML model. Most likely the SBML model is not valid. Please check that your model is valid using the `cobra.io.sbml.validate_sbml_model` function or via the online validator at http://sbml.org/validator .\n\t`(model, errors) = validate_sbml_model(filename)`\nIf the model is valid and cannot be read please open an issue at https://github.com/opencobra/cobrapy/issues .",
     "output_type": "error",
     "traceback": [
      "\u001B[1;31m---------------------------------------------------------------------------\u001B[0m",
      "\u001B[1;31mAttributeError\u001B[0m                            Traceback (most recent call last)",
      "\u001B[1;32m~\\.conda\\envs\\py37\\lib\\site-packages\\cobra\\io\\sbml.py\u001B[0m in \u001B[0;36mread_sbml_model\u001B[1;34m(filename, number, f_replace, **kwargs)\u001B[0m\n\u001B[0;32m    250\u001B[0m         \u001B[0mdoc\u001B[0m \u001B[1;33m=\u001B[0m \u001B[0m_get_doc_from_filename\u001B[0m\u001B[1;33m(\u001B[0m\u001B[0mfilename\u001B[0m\u001B[1;33m)\u001B[0m\u001B[1;33m\u001B[0m\u001B[1;33m\u001B[0m\u001B[0m\n\u001B[1;32m--> 251\u001B[1;33m         \u001B[1;32mreturn\u001B[0m \u001B[0m_sbml_to_model\u001B[0m\u001B[1;33m(\u001B[0m\u001B[0mdoc\u001B[0m\u001B[1;33m,\u001B[0m \u001B[0mnumber\u001B[0m\u001B[1;33m=\u001B[0m\u001B[0mnumber\u001B[0m\u001B[1;33m,\u001B[0m \u001B[0mf_replace\u001B[0m\u001B[1;33m=\u001B[0m\u001B[0mf_replace\u001B[0m\u001B[1;33m,\u001B[0m \u001B[1;33m**\u001B[0m\u001B[0mkwargs\u001B[0m\u001B[1;33m)\u001B[0m\u001B[1;33m\u001B[0m\u001B[1;33m\u001B[0m\u001B[0m\n\u001B[0m\u001B[0;32m    252\u001B[0m     \u001B[1;32mexcept\u001B[0m \u001B[0mIOError\u001B[0m \u001B[1;32mas\u001B[0m \u001B[0me\u001B[0m\u001B[1;33m:\u001B[0m\u001B[1;33m\u001B[0m\u001B[1;33m\u001B[0m\u001B[0m\n",
      "\u001B[1;32m~\\.conda\\envs\\py37\\lib\\site-packages\\cobra\\io\\sbml.py\u001B[0m in \u001B[0;36m_sbml_to_model\u001B[1;34m(doc, number, f_replace, set_missing_bounds, **kwargs)\u001B[0m\n\u001B[0;32m    372\u001B[0m         \u001B[0mLOGGER\u001B[0m\u001B[1;33m.\u001B[0m\u001B[0merror\u001B[0m\u001B[1;33m(\u001B[0m\u001B[1;34m\"'%s' is not a valid SBML 'SId'.\"\u001B[0m \u001B[1;33m%\u001B[0m \u001B[0mmodel_id\u001B[0m\u001B[1;33m)\u001B[0m\u001B[1;33m\u001B[0m\u001B[1;33m\u001B[0m\u001B[0m\n\u001B[1;32m--> 373\u001B[1;33m     \u001B[0mcobra_model\u001B[0m \u001B[1;33m=\u001B[0m \u001B[0mModel\u001B[0m\u001B[1;33m(\u001B[0m\u001B[0mmodel_id\u001B[0m\u001B[1;33m)\u001B[0m\u001B[1;33m\u001B[0m\u001B[1;33m\u001B[0m\u001B[0m\n\u001B[0m\u001B[0;32m    374\u001B[0m     \u001B[0mcobra_model\u001B[0m\u001B[1;33m.\u001B[0m\u001B[0mname\u001B[0m \u001B[1;33m=\u001B[0m \u001B[0mmodel\u001B[0m\u001B[1;33m.\u001B[0m\u001B[0mgetName\u001B[0m\u001B[1;33m(\u001B[0m\u001B[1;33m)\u001B[0m\u001B[1;33m\u001B[0m\u001B[1;33m\u001B[0m\u001B[0m\n",
      "\u001B[1;32m~\\.conda\\envs\\py37\\lib\\site-packages\\cobra\\core\\model.py\u001B[0m in \u001B[0;36m__init__\u001B[1;34m(self, id_or_model, name)\u001B[0m\n\u001B[0;32m    119\u001B[0m             \u001B[0minterface\u001B[0m \u001B[1;33m=\u001B[0m \u001B[0mconfiguration\u001B[0m\u001B[1;33m.\u001B[0m\u001B[0msolver\u001B[0m\u001B[1;33m\u001B[0m\u001B[1;33m\u001B[0m\u001B[0m\n\u001B[1;32m--> 120\u001B[1;33m             \u001B[0mself\u001B[0m\u001B[1;33m.\u001B[0m\u001B[0m_solver\u001B[0m \u001B[1;33m=\u001B[0m \u001B[0minterface\u001B[0m\u001B[1;33m.\u001B[0m\u001B[0mModel\u001B[0m\u001B[1;33m(\u001B[0m\u001B[1;33m)\u001B[0m\u001B[1;33m\u001B[0m\u001B[1;33m\u001B[0m\u001B[0m\n\u001B[0m\u001B[0;32m    121\u001B[0m             \u001B[0mself\u001B[0m\u001B[1;33m.\u001B[0m\u001B[0m_solver\u001B[0m\u001B[1;33m.\u001B[0m\u001B[0mobjective\u001B[0m \u001B[1;33m=\u001B[0m \u001B[0minterface\u001B[0m\u001B[1;33m.\u001B[0m\u001B[0mObjective\u001B[0m\u001B[1;33m(\u001B[0m\u001B[0mZero\u001B[0m\u001B[1;33m)\u001B[0m\u001B[1;33m\u001B[0m\u001B[1;33m\u001B[0m\u001B[0m\n",
      "\u001B[1;32m~\\.conda\\envs\\py37\\lib\\site-packages\\optlang\\glpk_interface.py\u001B[0m in \u001B[0;36m__init__\u001B[1;34m(self, problem, *args, **kwargs)\u001B[0m\n\u001B[0;32m    488\u001B[0m \u001B[1;33m\u001B[0m\u001B[0m\n\u001B[1;32m--> 489\u001B[1;33m         \u001B[0mself\u001B[0m\u001B[1;33m.\u001B[0m\u001B[0mconfiguration\u001B[0m \u001B[1;33m=\u001B[0m \u001B[0mConfiguration\u001B[0m\u001B[1;33m(\u001B[0m\u001B[1;33m)\u001B[0m\u001B[1;33m\u001B[0m\u001B[1;33m\u001B[0m\u001B[0m\n\u001B[0m\u001B[0;32m    490\u001B[0m \u001B[1;33m\u001B[0m\u001B[0m\n",
      "\u001B[1;32m~\\.conda\\envs\\py37\\lib\\site-packages\\optlang\\glpk_interface.py\u001B[0m in \u001B[0;36m__init__\u001B[1;34m(self, presolve, verbosity, timeout, *args, **kwargs)\u001B[0m\n\u001B[0;32m    386\u001B[0m         \u001B[0msuper\u001B[0m\u001B[1;33m(\u001B[0m\u001B[0mConfiguration\u001B[0m\u001B[1;33m,\u001B[0m \u001B[0mself\u001B[0m\u001B[1;33m)\u001B[0m\u001B[1;33m.\u001B[0m\u001B[0m__init__\u001B[0m\u001B[1;33m(\u001B[0m\u001B[1;33m*\u001B[0m\u001B[0margs\u001B[0m\u001B[1;33m,\u001B[0m \u001B[1;33m**\u001B[0m\u001B[0mkwargs\u001B[0m\u001B[1;33m)\u001B[0m\u001B[1;33m\u001B[0m\u001B[1;33m\u001B[0m\u001B[0m\n\u001B[1;32m--> 387\u001B[1;33m         \u001B[0mself\u001B[0m\u001B[1;33m.\u001B[0m\u001B[0m_smcp\u001B[0m \u001B[1;33m=\u001B[0m \u001B[0mglp_smcp\u001B[0m\u001B[1;33m(\u001B[0m\u001B[1;33m)\u001B[0m\u001B[1;33m\u001B[0m\u001B[1;33m\u001B[0m\u001B[0m\n\u001B[0m\u001B[0;32m    388\u001B[0m         \u001B[0mself\u001B[0m\u001B[1;33m.\u001B[0m\u001B[0m_iocp\u001B[0m \u001B[1;33m=\u001B[0m \u001B[0mglp_iocp\u001B[0m\u001B[1;33m(\u001B[0m\u001B[1;33m)\u001B[0m\u001B[1;33m\u001B[0m\u001B[1;33m\u001B[0m\u001B[0m\n",
      "\u001B[1;32m~\\.conda\\envs\\py37\\lib\\site-packages\\swiglpk\\swiglpk.py\u001B[0m in \u001B[0;36m__init__\u001B[1;34m(self)\u001B[0m\n\u001B[0;32m    146\u001B[0m     \u001B[1;32mdef\u001B[0m \u001B[0m__init__\u001B[0m\u001B[1;33m(\u001B[0m\u001B[0mself\u001B[0m\u001B[1;33m)\u001B[0m\u001B[1;33m:\u001B[0m\u001B[1;33m\u001B[0m\u001B[1;33m\u001B[0m\u001B[0m\n\u001B[1;32m--> 147\u001B[1;33m         \u001B[0m_swiglpk\u001B[0m\u001B[1;33m.\u001B[0m\u001B[0mglp_smcp_swiginit\u001B[0m\u001B[1;33m(\u001B[0m\u001B[0mself\u001B[0m\u001B[1;33m,\u001B[0m \u001B[0m_swiglpk\u001B[0m\u001B[1;33m.\u001B[0m\u001B[0mnew_glp_smcp\u001B[0m\u001B[1;33m(\u001B[0m\u001B[1;33m)\u001B[0m\u001B[1;33m)\u001B[0m\u001B[1;33m\u001B[0m\u001B[1;33m\u001B[0m\u001B[0m\n\u001B[0m\u001B[0;32m    148\u001B[0m     \u001B[0m__swig_destroy__\u001B[0m \u001B[1;33m=\u001B[0m \u001B[0m_swiglpk\u001B[0m\u001B[1;33m.\u001B[0m\u001B[0mdelete_glp_smcp\u001B[0m\u001B[1;33m\u001B[0m\u001B[1;33m\u001B[0m\u001B[0m\n",
      "\u001B[1;31mAttributeError\u001B[0m: module 'swiglpk._swiglpk' has no attribute 'glp_smcp_swiginit'",
      "\nThe above exception was the direct cause of the following exception:\n",
      "\u001B[1;31mCobraSBMLError\u001B[0m                            Traceback (most recent call last)",
      "\u001B[1;32m~\\AppData\\Local\\Temp\\ipykernel_13892\\1314531416.py\u001B[0m in \u001B[0;36m<module>\u001B[1;34m\u001B[0m\n\u001B[0;32m      4\u001B[0m     \u001B[0mfile_path\u001B[0m \u001B[1;33m=\u001B[0m \u001B[1;34m\"../Models/CarveMe/model_carveme.xml\"\u001B[0m\u001B[1;33m,\u001B[0m\u001B[1;33m\u001B[0m\u001B[1;33m\u001B[0m\u001B[0m\n\u001B[0;32m      5\u001B[0m     \u001B[0mdatabase_version\u001B[0m \u001B[1;33m=\u001B[0m \u001B[1;34m\"bigg\"\u001B[0m\u001B[1;33m,\u001B[0m\u001B[1;33m\u001B[0m\u001B[1;33m\u001B[0m\u001B[0m\n\u001B[1;32m----> 6\u001B[1;33m     reconstruction_tool = ReconstructionTool.CARVEME.value)\n\u001B[0m\u001B[0;32m      7\u001B[0m \u001B[1;33m\u001B[0m\u001B[0m\n\u001B[0;32m      8\u001B[0m \u001B[0mprint\u001B[0m\u001B[1;33m(\u001B[0m\u001B[1;34m\"Number of genes: \"\u001B[0m\u001B[1;33m,\u001B[0m \u001B[0mlen\u001B[0m\u001B[1;33m(\u001B[0m\u001B[0mmodel\u001B[0m\u001B[1;33m.\u001B[0m\u001B[0mmodel\u001B[0m\u001B[1;33m.\u001B[0m\u001B[0mgenes\u001B[0m\u001B[1;33m)\u001B[0m\u001B[1;33m)\u001B[0m\u001B[1;33m\u001B[0m\u001B[1;33m\u001B[0m\u001B[0m\n",
      "\u001B[1;32m~\\Documents\\GitHub\\Formicicum_project\\Scripts\\core.py\u001B[0m in \u001B[0;36mread_sbml_into_cobra_model\u001B[1;34m(file_path, database_version, reconstruction_tool)\u001B[0m\n\u001B[0;32m     11\u001B[0m     \u001B[0mnew_model\u001B[0m \u001B[1;33m=\u001B[0m \u001B[0mCobraModel\u001B[0m\u001B[1;33m(\u001B[0m\u001B[1;33m)\u001B[0m\u001B[1;33m\u001B[0m\u001B[1;33m\u001B[0m\u001B[0m\n\u001B[0;32m     12\u001B[0m \u001B[1;33m\u001B[0m\u001B[0m\n\u001B[1;32m---> 13\u001B[1;33m     \u001B[0mnew_model\u001B[0m\u001B[1;33m.\u001B[0m\u001B[0mmodel\u001B[0m \u001B[1;33m=\u001B[0m \u001B[0mcobra\u001B[0m\u001B[1;33m.\u001B[0m\u001B[0mio\u001B[0m\u001B[1;33m.\u001B[0m\u001B[0mread_sbml_model\u001B[0m\u001B[1;33m(\u001B[0m\u001B[0mfile_path\u001B[0m\u001B[1;33m)\u001B[0m\u001B[1;33m\u001B[0m\u001B[1;33m\u001B[0m\u001B[0m\n\u001B[0m\u001B[0;32m     14\u001B[0m     \u001B[0mnew_model\u001B[0m\u001B[1;33m.\u001B[0m\u001B[0mdatabase_version\u001B[0m \u001B[1;33m=\u001B[0m \u001B[0mdatabase_version\u001B[0m\u001B[1;33m\u001B[0m\u001B[1;33m\u001B[0m\u001B[0m\n\u001B[0;32m     15\u001B[0m     \u001B[0mnew_model\u001B[0m\u001B[1;33m.\u001B[0m\u001B[0mreconstruction_tool\u001B[0m \u001B[1;33m=\u001B[0m \u001B[0mreconstruction_tool\u001B[0m\u001B[1;33m\u001B[0m\u001B[1;33m\u001B[0m\u001B[0m\n",
      "\u001B[1;32m~\\.conda\\envs\\py37\\lib\\site-packages\\cobra\\io\\sbml.py\u001B[0m in \u001B[0;36mread_sbml_model\u001B[1;34m(filename, number, f_replace, **kwargs)\u001B[0m\n\u001B[0;32m    263\u001B[0m             \u001B[1;34m\"at https://github.com/opencobra/cobrapy/issues .\"\u001B[0m\u001B[1;33m\u001B[0m\u001B[1;33m\u001B[0m\u001B[0m\n\u001B[0;32m    264\u001B[0m         )\n\u001B[1;32m--> 265\u001B[1;33m         \u001B[0mraise_from\u001B[0m\u001B[1;33m(\u001B[0m\u001B[0mcobra_error\u001B[0m\u001B[1;33m,\u001B[0m \u001B[0moriginal_error\u001B[0m\u001B[1;33m)\u001B[0m\u001B[1;33m\u001B[0m\u001B[1;33m\u001B[0m\u001B[0m\n\u001B[0m\u001B[0;32m    266\u001B[0m \u001B[1;33m\u001B[0m\u001B[0m\n\u001B[0;32m    267\u001B[0m \u001B[1;33m\u001B[0m\u001B[0m\n",
      "\u001B[1;32m~\\.conda\\envs\\py37\\lib\\site-packages\\six.py\u001B[0m in \u001B[0;36mraise_from\u001B[1;34m(value, from_value)\u001B[0m\n",
      "\u001B[1;31mCobraSBMLError\u001B[0m: Something went wrong reading the SBML model. Most likely the SBML model is not valid. Please check that your model is valid using the `cobra.io.sbml.validate_sbml_model` function or via the online validator at http://sbml.org/validator .\n\t`(model, errors) = validate_sbml_model(filename)`\nIf the model is valid and cannot be read please open an issue at https://github.com/opencobra/cobrapy/issues ."
     ]
    }
   ],
   "source": [
    "from Scripts.assessment import ResultsReport\n",
    "\n",
    "model = read_sbml_into_cobra_model(\n",
    "    file_path = \"../Models/CarveMe/model_carveme.xml\",\n",
    "    database_version = \"bigg\",\n",
    "    reconstruction_tool = ReconstructionTool.CARVEME.value)\n",
    "\n",
    "print(\"Number of genes: \", len(model.model.genes))\n",
    "\n",
    "report_metanetx = ResultsReport(model, models_to_assess, conversion_method = \"metanetx\", reference_model_format = \"bigg\")\n",
    "report_model_seed = ResultsReport(model, models_to_assess, conversion_method = \"modelseed\", reference_model_format = \"bigg\")\n",
    "report_model_seed_model_seed = ResultsReport(model, models_to_assess, conversion_method = \"modelseed\", reference_model_format = \"modelseed\")"
   ],
   "metadata": {
    "collapsed": false,
    "pycharm": {
     "name": "#%%\n"
    }
   }
  },
  {
   "cell_type": "code",
   "execution_count": null,
   "outputs": [],
   "source": [
    "from Scripts.assessment import ResultsReport\n",
    "\n",
    "model = read_sbml_into_cobra_model(\n",
    "    file_path = \"../Models/CarveMe/model_carveme.xml\",\n",
    "    database_version = \"bigg\",\n",
    "    reconstruction_tool = ReconstructionTool.CARVEME.value)\n",
    "\n",
    "print(\"Number of genes: \", len(model.model.genes))\n",
    "\n",
    "all_report_metanetx = ResultsReport(model, all_models, conversion_method = \"metanetx\", reference_model_format = \"bigg\")\n",
    "all_report_metanetx.generate_reactions_report(\"../Results/CarveMe/carveme_metanetx_conversion_all_results.csv\")\n",
    "all_report_metanetx.generate_genes_report(\"../Results/CarveMe/carveme_genes_all_results.csv\")"
   ],
   "metadata": {
    "collapsed": false,
    "pycharm": {
     "name": "#%%\n"
    }
   }
  },
  {
   "cell_type": "markdown",
   "source": [
    "## KBase"
   ],
   "metadata": {
    "collapsed": false,
    "pycharm": {
     "name": "#%% md\n"
    }
   }
  },
  {
   "cell_type": "code",
   "execution_count": null,
   "outputs": [],
   "source": [
    "models_to_assess = {\n",
    "    #\"merlin-BA\": \"..Models/Merlin-BA/merlin_model.xml\",\n",
    "    #\"AuReMe\": \"../Models/AuReMe/aureme_model3.xml\",\n",
    "    #\"CarveMe\": \"../Models/CarveMe/model_carveme.xml\",\n",
    "    \"KBase\": \"../Models/KBase/kbase_model.xml\",\n",
    "    #\"merlin-BIT\": \"../Models/Merlin-BIT/BIT_model.xml\",\n",
    "    }"
   ],
   "metadata": {
    "collapsed": false,
    "pycharm": {
     "name": "#%%\n"
    }
   }
  },
  {
   "cell_type": "code",
   "execution_count": null,
   "outputs": [],
   "source": [
    "from Scripts.assessment import ResultsReport\n",
    "\n",
    "model = read_sbml_into_cobra_model(\n",
    "    file_path = \"../Models/KBase/kbase_model.xml\",\n",
    "    database_version = \"bigg\",\n",
    "    reconstruction_tool = ReconstructionTool.MODELSEED.value)\n",
    "\n",
    "print(\"Number of genes: \", len(model.model.genes))\n",
    "\n",
    "report_metanetx = ResultsReport(model, models_to_assess, conversion_method = \"metanetx\", reference_model_format = \"bigg\")\n",
    "report_model_seed = ResultsReport(model, models_to_assess, conversion_method = \"modelseed\", reference_model_format = \"bigg\")\n",
    "report_model_seed_model_seed = ResultsReport(model, models_to_assess, conversion_method = \"modelseed\", reference_model_format = \"modelseed\")"
   ],
   "metadata": {
    "collapsed": false,
    "pycharm": {
     "name": "#%%\n"
    }
   }
  },
  {
   "cell_type": "code",
   "execution_count": null,
   "outputs": [],
   "source": [
    "from Scripts.assessment import ResultsReport\n",
    "\n",
    "model = read_sbml_into_cobra_model(\n",
    "    file_path = \"../Models/KBase/kbase_model.xml\",\n",
    "    database_version = \"bigg\",\n",
    "    reconstruction_tool = ReconstructionTool.MODELSEED.value)\n",
    "\n",
    "print(\"Number of genes: \", len(model.model.genes))\n",
    "\n",
    "all_report_metanetx = ResultsReport(model, all_models, conversion_method = \"metanetx\", reference_model_format = \"bigg\")\n",
    "all_report_metanetx.generate_reactions_report(\"../Results/KBase/kbase_metanetx_conversion_all_results.csv\")\n",
    "all_report_metanetx.generate_genes_report(\"../Results/KBase/kbase_genes_all_results.csv\")"
   ],
   "metadata": {
    "collapsed": false,
    "pycharm": {
     "name": "#%%\n"
    }
   }
  },
  {
   "cell_type": "markdown",
   "source": [
    "## Merlin"
   ],
   "metadata": {
    "collapsed": false,
    "pycharm": {
     "name": "#%% md\n"
    }
   }
  },
  {
   "cell_type": "code",
   "execution_count": null,
   "outputs": [],
   "source": [
    "models_to_assess = {\n",
    "    \"merlin-BA\": \"..Models/Merlin-BA/merlin_model.xml\",\n",
    "    #\"AuReMe\": \"../Models/AuReMe/aureme_model3.xml\",\n",
    "    #\"CarveMe\": \"../Models/CarveMe/model_carveme.xml\",\n",
    "    #\"KBase\": \"../Models/KBase/kbase_model.xml\",\n",
    "    #\"merlin-BIT\": \"../Models/Merlin-BIT/BIT_model.xml\",\n",
    "    }"
   ],
   "metadata": {
    "collapsed": false,
    "pycharm": {
     "name": "#%%\n"
    }
   }
  },
  {
   "cell_type": "code",
   "execution_count": null,
   "outputs": [],
   "source": [
    "from Scripts.assessment import ResultsReport\n",
    "\n",
    "model = read_sbml_into_cobra_model(\n",
    "    file_path = \"../Models/Merlin-BA/merlin_model.xml\",\n",
    "    database_version = \"bigg\",\n",
    "    reconstruction_tool = ReconstructionTool.MERLIN.value)\n",
    "\n",
    "print(\"Number of genes: \", len(model.model.genes))\n",
    "\n",
    "report_metanetx = ResultsReport(model, models_to_assess, conversion_method = \"metanetx\", reference_model_format = \"bigg\")\n",
    "report_model_seed = ResultsReport(model, models_to_assess, conversion_method = \"modelseed\", reference_model_format = \"bigg\")\n",
    "report_model_seed_model_seed = ResultsReport(model, models_to_assess, conversion_method = \"modelseed\", reference_model_format = \"modelseed\")"
   ],
   "metadata": {
    "collapsed": false,
    "pycharm": {
     "name": "#%%\n"
    }
   }
  },
  {
   "cell_type": "code",
   "execution_count": null,
   "outputs": [],
   "source": [
    "from Scripts.assessment import ResultsReport\n",
    "\n",
    "model = read_sbml_into_cobra_model(\n",
    "    file_path = \"../Models/Merlin-BA/merlin_model.xml\",\n",
    "    database_version = \"bigg\",\n",
    "    reconstruction_tool = ReconstructionTool.MERLIN.value)\n",
    "\n",
    "print(\"Number of genes: \", len(model.model.genes))\n",
    "\n",
    "all_report_metanetx = ResultsReport(model, all_models, conversion_method = \"metanetx\", reference_model_format = \"bigg\")\n",
    "all_report_metanetx.generate_reactions_report(\"../Results/Merlin-BA/merlin_metanetx_conversion_all_results.csv\")\n",
    "all_report_metanetx.generate_genes_report(\"../Results/Merlin-BA/merlin_genes_all_results.csv\")"
   ],
   "metadata": {
    "collapsed": false,
    "pycharm": {
     "name": "#%%\n"
    }
   }
  },
  {
   "cell_type": "markdown",
   "source": [
    "## Merlin (BIT)"
   ],
   "metadata": {
    "collapsed": false,
    "pycharm": {
     "name": "#%% md\n"
    }
   }
  },
  {
   "cell_type": "code",
   "execution_count": null,
   "outputs": [],
   "source": [
    "models_to_assess = {\n",
    "    #\"merlin-BA\": \"..Models/Merlin-BA/merlin_model.xml\",\n",
    "    #\"AuReMe\": \"../Models/AuReMe/aureme_model3.xml\",\n",
    "    #\"CarveMe\": \"../Models/CarveMe/model_carveme.xml\",\n",
    "    #\"KBase\": \"../Models/KBase/kbase_model.xml\",\n",
    "    \"merlin-BIT\": \"../Models/Merlin-BIT/BIT_model.xml\",\n",
    "    }"
   ],
   "metadata": {
    "collapsed": false,
    "pycharm": {
     "name": "#%%\n"
    }
   }
  },
  {
   "cell_type": "code",
   "execution_count": null,
   "outputs": [],
   "source": [
    "from Scripts.assessment import ResultsReport\n",
    "\n",
    "model = read_sbml_into_cobra_model(\n",
    "    file_path = \"../Models/Merlin-BIT/BIT_model.xml\",\n",
    "    database_version = \"bigg\",\n",
    "    reconstruction_tool = ReconstructionTool.MERLIN.value)\n",
    "\n",
    "print(\"Number of genes: \", len(model.model.genes))\n",
    "\n",
    "report_metanetx = ResultsReport(model, models_to_assess, conversion_method = \"metanetx\", reference_model_format = \"bigg\")\n",
    "report_model_seed = ResultsReport(model, models_to_assess, conversion_method = \"modelseed\", reference_model_format = \"bigg\")\n",
    "report_model_seed_model_seed = ResultsReport(model, models_to_assess, conversion_method = \"modelseed\", reference_model_format = \"modelseed\")"
   ],
   "metadata": {
    "collapsed": false,
    "pycharm": {
     "name": "#%%\n"
    }
   }
  },
  {
   "cell_type": "code",
   "execution_count": null,
   "outputs": [],
   "source": [
    "from Scripts.assessment import ResultsReport\n",
    "\n",
    "model = read_sbml_into_cobra_model(\n",
    "    file_path = \"../Models/Merlin-BIT/BIT_model.xml\",\n",
    "    database_version = \"bigg\",\n",
    "    reconstruction_tool = ReconstructionTool.MERLIN.value)\n",
    "\n",
    "print(\"Number of genes: \", len(model.model.genes))\n",
    "\n",
    "all_report_metanetx = ResultsReport(model, all_models, conversion_method = \"metanetx\", reference_model_format = \"bigg\")\n",
    "all_report_metanetx.generate_reactions_report(\"../Results/Merlin-BIT/BIT_metanetx_conversion_all_results.csv\")\n",
    "all_report_metanetx.generate_genes_report(\"../Results/Merlin-BIT/BIT_genes_all_results.csv\")"
   ],
   "metadata": {
    "collapsed": false,
    "pycharm": {
     "name": "#%%\n"
    }
   }
  }
 ],
 "metadata": {
  "kernelspec": {
   "display_name": "Python 3",
   "language": "python",
   "name": "python3"
  },
  "language_info": {
   "codemirror_mode": {
    "name": "ipython",
    "version": 2
   },
   "file_extension": ".py",
   "mimetype": "text/x-python",
   "name": "python",
   "nbconvert_exporter": "python",
   "pygments_lexer": "ipython2",
   "version": "2.7.6"
  }
 },
 "nbformat": 4,
 "nbformat_minor": 0
}